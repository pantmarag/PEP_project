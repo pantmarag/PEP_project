{
 "cells": [
  {
   "cell_type": "code",
   "execution_count": 1,
   "metadata": {},
   "outputs": [],
   "source": [
    "# We will load some libraries again first\n",
    "\n",
    "from pathlib import Path\n",
    "from warnings import filterwarnings\n",
    "import time\n",
    "\n",
    "import pandas as pd\n",
    "import numpy as np\n",
    "from sklearn import svm, metrics, clone\n",
    "from sklearn.ensemble import RandomForestClassifier\n",
    "from sklearn.ensemble import RandomForestRegressor\n",
    "from sklearn.neural_network import MLPClassifier\n",
    "from sklearn.model_selection import KFold, train_test_split\n",
    "from sklearn.metrics import auc, accuracy_score, recall_score\n",
    "from sklearn.metrics import roc_curve, roc_auc_score\n",
    "import matplotlib.pyplot as plt\n",
    "from rdkit import Chem\n",
    "from rdkit.Chem import MACCSkeys\n",
    "from rdkit.Chem.AllChem import GetMorganFingerprintAsBitVect\n",
    "\n",
    "#from teachopencadd.utils import seed_everything\n",
    "\n",
    "# Silence some expected warnings\n",
    "filterwarnings(\"ignore\")\n",
    "# Fix seed for reproducible results\n",
    "SEED = 22\n",
    "#seed_everything(SEED)"
   ]
  },
  {
   "cell_type": "code",
   "execution_count": 3,
   "metadata": {},
   "outputs": [
    {
     "name": "stdout",
     "output_type": "stream",
     "text": [
      "Directory already exists\n"
     ]
    }
   ],
   "source": [
    "# Set working directory\n",
    "import os\n",
    "from pathlib import Path\n",
    "HOMEDIR = str(Path.home())\n",
    "os.chdir(HOMEDIR)\n",
    "os.chdir('Machine Learning Model')\n",
    "\n",
    "# We need to check whether the directory is there\n",
    "try:\n",
    "    os.mkdir('data')\n",
    "except:\n",
    "    print(\"Directory already exists\")\n",
    "os.chdir('data')"
   ]
  },
  {
   "cell_type": "markdown",
   "metadata": {},
   "source": [
    "Obtaining and cleaning data."
   ]
  },
  {
   "cell_type": "code",
   "execution_count": 19,
   "metadata": {},
   "outputs": [
    {
     "name": "stdout",
     "output_type": "stream",
     "text": [
      "There are a total of 10620 datapoints in this set\n"
     ]
    },
    {
     "data": {
      "text/html": [
       "<div>\n",
       "<style scoped>\n",
       "    .dataframe tbody tr th:only-of-type {\n",
       "        vertical-align: middle;\n",
       "    }\n",
       "\n",
       "    .dataframe tbody tr th {\n",
       "        vertical-align: top;\n",
       "    }\n",
       "\n",
       "    .dataframe thead th {\n",
       "        text-align: right;\n",
       "    }\n",
       "</style>\n",
       "<table border=\"1\" class=\"dataframe\">\n",
       "  <thead>\n",
       "    <tr style=\"text-align: right;\">\n",
       "      <th></th>\n",
       "      <th>Molecule ChEMBL ID</th>\n",
       "      <th>Molecule Name</th>\n",
       "      <th>Molecule Max Phase</th>\n",
       "      <th>Molecular Weight</th>\n",
       "      <th>#RO5 Violations</th>\n",
       "      <th>AlogP</th>\n",
       "      <th>Compound Key</th>\n",
       "      <th>Smiles</th>\n",
       "      <th>Standard Type</th>\n",
       "      <th>Standard Relation</th>\n",
       "      <th>...</th>\n",
       "      <th>Target Name</th>\n",
       "      <th>Target Organism</th>\n",
       "      <th>Target Type</th>\n",
       "      <th>Document ChEMBL ID</th>\n",
       "      <th>Source ID</th>\n",
       "      <th>Source Description</th>\n",
       "      <th>Document Journal</th>\n",
       "      <th>Document Year</th>\n",
       "      <th>Cell ChEMBL ID</th>\n",
       "      <th>Properties</th>\n",
       "    </tr>\n",
       "  </thead>\n",
       "  <tbody>\n",
       "    <tr>\n",
       "      <th>0</th>\n",
       "      <td>CHEMBL273264</td>\n",
       "      <td>NAFAMOSTAT</td>\n",
       "      <td>3</td>\n",
       "      <td>347.38</td>\n",
       "      <td>0</td>\n",
       "      <td>2.65</td>\n",
       "      <td>1 (FUT-175)</td>\n",
       "      <td>N=C(N)Nc1ccc(C(=O)Oc2ccc3cc(C(=N)N)ccc3c2)cc1</td>\n",
       "      <td>IC50</td>\n",
       "      <td>'='</td>\n",
       "      <td>...</td>\n",
       "      <td>Thrombin</td>\n",
       "      <td>Homo sapiens</td>\n",
       "      <td>SINGLE PROTEIN</td>\n",
       "      <td>CHEMBL1128999</td>\n",
       "      <td>1</td>\n",
       "      <td>Scientific Literature</td>\n",
       "      <td>Bioorg. Med. Chem. Lett.</td>\n",
       "      <td>1996.0</td>\n",
       "      <td>None</td>\n",
       "      <td>NaN</td>\n",
       "    </tr>\n",
       "    <tr>\n",
       "      <th>1</th>\n",
       "      <td>CHEMBL116258</td>\n",
       "      <td>NaN</td>\n",
       "      <td>0</td>\n",
       "      <td>439.95</td>\n",
       "      <td>0</td>\n",
       "      <td>2.63</td>\n",
       "      <td>31</td>\n",
       "      <td>Cc1cnc(NCCc2ccccc2)c(=O)n1CC(=O)NCc1cc(Cl)ccc1CN</td>\n",
       "      <td>Ki</td>\n",
       "      <td>'='</td>\n",
       "      <td>...</td>\n",
       "      <td>Thrombin</td>\n",
       "      <td>Homo sapiens</td>\n",
       "      <td>SINGLE PROTEIN</td>\n",
       "      <td>CHEMBL1136286</td>\n",
       "      <td>1</td>\n",
       "      <td>Scientific Literature</td>\n",
       "      <td>Bioorg. Med. Chem. Lett.</td>\n",
       "      <td>2003.0</td>\n",
       "      <td>None</td>\n",
       "      <td>NaN</td>\n",
       "    </tr>\n",
       "    <tr>\n",
       "      <th>2</th>\n",
       "      <td>CHEMBL408556</td>\n",
       "      <td>NaN</td>\n",
       "      <td>0</td>\n",
       "      <td>1464.54</td>\n",
       "      <td>None</td>\n",
       "      <td>None</td>\n",
       "      <td>19</td>\n",
       "      <td>CC[C@@H](C)[C@H](NC(=O)[C@@H]1CCCN1C(=O)[C@H](...</td>\n",
       "      <td>Ki</td>\n",
       "      <td>'='</td>\n",
       "      <td>...</td>\n",
       "      <td>Thrombin</td>\n",
       "      <td>Homo sapiens</td>\n",
       "      <td>SINGLE PROTEIN</td>\n",
       "      <td>CHEMBL1132149</td>\n",
       "      <td>1</td>\n",
       "      <td>Scientific Literature</td>\n",
       "      <td>J. Med. Chem.</td>\n",
       "      <td>1999.0</td>\n",
       "      <td>None</td>\n",
       "      <td>NaN</td>\n",
       "    </tr>\n",
       "    <tr>\n",
       "      <th>3</th>\n",
       "      <td>CHEMBL539241</td>\n",
       "      <td>NaN</td>\n",
       "      <td>0</td>\n",
       "      <td>537.49</td>\n",
       "      <td>0</td>\n",
       "      <td>-0.33</td>\n",
       "      <td>9, BMS-181412</td>\n",
       "      <td>COC(=O)C(O)(OC)C(CCCCN)NC(=O)[C@@H]1CCCN1C(=O)...</td>\n",
       "      <td>Ki</td>\n",
       "      <td>'='</td>\n",
       "      <td>...</td>\n",
       "      <td>Thrombin</td>\n",
       "      <td>Homo sapiens</td>\n",
       "      <td>SINGLE PROTEIN</td>\n",
       "      <td>CHEMBL1150032</td>\n",
       "      <td>1</td>\n",
       "      <td>Scientific Literature</td>\n",
       "      <td>Bioorg. Med. Chem. Lett.</td>\n",
       "      <td>1992.0</td>\n",
       "      <td>None</td>\n",
       "      <td>NaN</td>\n",
       "    </tr>\n",
       "    <tr>\n",
       "      <th>4</th>\n",
       "      <td>CHEMBL75755</td>\n",
       "      <td>NaN</td>\n",
       "      <td>0</td>\n",
       "      <td>512.65</td>\n",
       "      <td>2</td>\n",
       "      <td>6.29</td>\n",
       "      <td>12c</td>\n",
       "      <td>COC(=O)CCCOc1ccc(-c2cc3ccccc3n2Cc2ccc(CN3CCCC3...</td>\n",
       "      <td>K ass</td>\n",
       "      <td>'='</td>\n",
       "      <td>...</td>\n",
       "      <td>Thrombin</td>\n",
       "      <td>Homo sapiens</td>\n",
       "      <td>SINGLE PROTEIN</td>\n",
       "      <td>CHEMBL1132782</td>\n",
       "      <td>1</td>\n",
       "      <td>Scientific Literature</td>\n",
       "      <td>Bioorg. Med. Chem. Lett.</td>\n",
       "      <td>2000.0</td>\n",
       "      <td>None</td>\n",
       "      <td>NaN</td>\n",
       "    </tr>\n",
       "  </tbody>\n",
       "</table>\n",
       "<p>5 rows × 45 columns</p>\n",
       "</div>"
      ],
      "text/plain": [
       "  Molecule ChEMBL ID Molecule Name  Molecule Max Phase  Molecular Weight  \\\n",
       "0       CHEMBL273264    NAFAMOSTAT                   3            347.38   \n",
       "1       CHEMBL116258           NaN                   0            439.95   \n",
       "2       CHEMBL408556           NaN                   0           1464.54   \n",
       "3       CHEMBL539241           NaN                   0            537.49   \n",
       "4        CHEMBL75755           NaN                   0            512.65   \n",
       "\n",
       "  #RO5 Violations  AlogP   Compound Key  \\\n",
       "0               0   2.65    1 (FUT-175)   \n",
       "1               0   2.63             31   \n",
       "2            None   None             19   \n",
       "3               0  -0.33  9, BMS-181412   \n",
       "4               2   6.29            12c   \n",
       "\n",
       "                                              Smiles Standard Type  \\\n",
       "0      N=C(N)Nc1ccc(C(=O)Oc2ccc3cc(C(=N)N)ccc3c2)cc1          IC50   \n",
       "1   Cc1cnc(NCCc2ccccc2)c(=O)n1CC(=O)NCc1cc(Cl)ccc1CN            Ki   \n",
       "2  CC[C@@H](C)[C@H](NC(=O)[C@@H]1CCCN1C(=O)[C@H](...            Ki   \n",
       "3  COC(=O)C(O)(OC)C(CCCCN)NC(=O)[C@@H]1CCCN1C(=O)...            Ki   \n",
       "4  COC(=O)CCCOc1ccc(-c2cc3ccccc3n2Cc2ccc(CN3CCCC3...         K ass   \n",
       "\n",
       "  Standard Relation  ...  Target Name Target Organism     Target Type  \\\n",
       "0               '='  ...     Thrombin    Homo sapiens  SINGLE PROTEIN   \n",
       "1               '='  ...     Thrombin    Homo sapiens  SINGLE PROTEIN   \n",
       "2               '='  ...     Thrombin    Homo sapiens  SINGLE PROTEIN   \n",
       "3               '='  ...     Thrombin    Homo sapiens  SINGLE PROTEIN   \n",
       "4               '='  ...     Thrombin    Homo sapiens  SINGLE PROTEIN   \n",
       "\n",
       "  Document ChEMBL ID Source ID     Source Description  \\\n",
       "0      CHEMBL1128999         1  Scientific Literature   \n",
       "1      CHEMBL1136286         1  Scientific Literature   \n",
       "2      CHEMBL1132149         1  Scientific Literature   \n",
       "3      CHEMBL1150032         1  Scientific Literature   \n",
       "4      CHEMBL1132782         1  Scientific Literature   \n",
       "\n",
       "           Document Journal Document Year Cell ChEMBL ID Properties  \n",
       "0  Bioorg. Med. Chem. Lett.        1996.0           None        NaN  \n",
       "1  Bioorg. Med. Chem. Lett.        2003.0           None        NaN  \n",
       "2             J. Med. Chem.        1999.0           None        NaN  \n",
       "3  Bioorg. Med. Chem. Lett.        1992.0           None        NaN  \n",
       "4  Bioorg. Med. Chem. Lett.        2000.0           None        NaN  \n",
       "\n",
       "[5 rows x 45 columns]"
      ]
     },
     "execution_count": 19,
     "metadata": {},
     "output_type": "execute_result"
    }
   ],
   "source": [
    "CHEMBLID = 'CHEMBL204' # Enter CHEMBL ID of target\n",
    "FILENAME = 'CHEMBL204.csv.zip'\n",
    "\n",
    "data = pd.read_csv(FILENAME, sep=';')\n",
    "\n",
    "print(\"There are a total of {} datapoints in this set\".format(len(data)))\n",
    "data.head()"
   ]
  },
  {
   "cell_type": "markdown",
   "metadata": {},
   "source": [
    "Filter only the compound ID, pCHEMBL_value, Assay Type, binding affinity and the smiles:"
   ]
  },
  {
   "cell_type": "code",
   "execution_count": 20,
   "metadata": {},
   "outputs": [
    {
     "data": {
      "text/html": [
       "<div>\n",
       "<style scoped>\n",
       "    .dataframe tbody tr th:only-of-type {\n",
       "        vertical-align: middle;\n",
       "    }\n",
       "\n",
       "    .dataframe tbody tr th {\n",
       "        vertical-align: top;\n",
       "    }\n",
       "\n",
       "    .dataframe thead th {\n",
       "        text-align: right;\n",
       "    }\n",
       "</style>\n",
       "<table border=\"1\" class=\"dataframe\">\n",
       "  <thead>\n",
       "    <tr style=\"text-align: right;\">\n",
       "      <th></th>\n",
       "      <th>Molecule ChEMBL ID</th>\n",
       "      <th>pChEMBL_value</th>\n",
       "      <th>Smiles</th>\n",
       "      <th>Assay_Type</th>\n",
       "      <th>Standard Relation</th>\n",
       "      <th>Standard Value</th>\n",
       "    </tr>\n",
       "  </thead>\n",
       "  <tbody>\n",
       "    <tr>\n",
       "      <th>0</th>\n",
       "      <td>CHEMBL273264</td>\n",
       "      <td>6.54</td>\n",
       "      <td>N=C(N)Nc1ccc(C(=O)Oc2ccc3cc(C(=N)N)ccc3c2)cc1</td>\n",
       "      <td>B</td>\n",
       "      <td>'='</td>\n",
       "      <td>290.00</td>\n",
       "    </tr>\n",
       "    <tr>\n",
       "      <th>1</th>\n",
       "      <td>CHEMBL116258</td>\n",
       "      <td>9.89</td>\n",
       "      <td>Cc1cnc(NCCc2ccccc2)c(=O)n1CC(=O)NCc1cc(Cl)ccc1CN</td>\n",
       "      <td>B</td>\n",
       "      <td>'='</td>\n",
       "      <td>0.13</td>\n",
       "    </tr>\n",
       "    <tr>\n",
       "      <th>2</th>\n",
       "      <td>CHEMBL408556</td>\n",
       "      <td>6.55</td>\n",
       "      <td>CC[C@@H](C)[C@H](NC(=O)[C@@H]1CCCN1C(=O)[C@H](...</td>\n",
       "      <td>B</td>\n",
       "      <td>'='</td>\n",
       "      <td>280.00</td>\n",
       "    </tr>\n",
       "    <tr>\n",
       "      <th>3</th>\n",
       "      <td>CHEMBL539241</td>\n",
       "      <td>8.77</td>\n",
       "      <td>COC(=O)C(O)(OC)C(CCCCN)NC(=O)[C@@H]1CCCN1C(=O)...</td>\n",
       "      <td>B</td>\n",
       "      <td>'='</td>\n",
       "      <td>1.70</td>\n",
       "    </tr>\n",
       "    <tr>\n",
       "      <th>4</th>\n",
       "      <td>CHEMBL75755</td>\n",
       "      <td>NaN</td>\n",
       "      <td>COC(=O)CCCOc1ccc(-c2cc3ccccc3n2Cc2ccc(CN3CCCC3...</td>\n",
       "      <td>B</td>\n",
       "      <td>'='</td>\n",
       "      <td>24700000.00</td>\n",
       "    </tr>\n",
       "  </tbody>\n",
       "</table>\n",
       "</div>"
      ],
      "text/plain": [
       "  Molecule ChEMBL ID  pChEMBL_value  \\\n",
       "0       CHEMBL273264           6.54   \n",
       "1       CHEMBL116258           9.89   \n",
       "2       CHEMBL408556           6.55   \n",
       "3       CHEMBL539241           8.77   \n",
       "4        CHEMBL75755            NaN   \n",
       "\n",
       "                                              Smiles Assay_Type  \\\n",
       "0      N=C(N)Nc1ccc(C(=O)Oc2ccc3cc(C(=N)N)ccc3c2)cc1          B   \n",
       "1   Cc1cnc(NCCc2ccccc2)c(=O)n1CC(=O)NCc1cc(Cl)ccc1CN          B   \n",
       "2  CC[C@@H](C)[C@H](NC(=O)[C@@H]1CCCN1C(=O)[C@H](...          B   \n",
       "3  COC(=O)C(O)(OC)C(CCCCN)NC(=O)[C@@H]1CCCN1C(=O)...          B   \n",
       "4  COC(=O)CCCOc1ccc(-c2cc3ccccc3n2Cc2ccc(CN3CCCC3...          B   \n",
       "\n",
       "  Standard Relation  Standard Value  \n",
       "0               '='          290.00  \n",
       "1               '='            0.13  \n",
       "2               '='          280.00  \n",
       "3               '='            1.70  \n",
       "4               '='     24700000.00  "
      ]
     },
     "execution_count": 20,
     "metadata": {},
     "output_type": "execute_result"
    }
   ],
   "source": [
    "pd_data = data[['Molecule ChEMBL ID','pChEMBL Value','Smiles','Assay Type', 'Standard Relation','Standard Value']]\n",
    "pd_data.rename(columns={'pChEMBL Value': 'pChEMBL_value', 'Assay Type':'Assay_Type'}, inplace=True)\n",
    "pd_data.head()"
   ]
  },
  {
   "cell_type": "code",
   "execution_count": 21,
   "metadata": {
    "scrolled": false
   },
   "outputs": [
    {
     "name": "stdout",
     "output_type": "stream",
     "text": [
      "Number of active compounds: 3033\n",
      "Number of inactive compounds: 7587\n"
     ]
    }
   ],
   "source": [
    "import numpy as np\n",
    "# Add column for activity\n",
    "pd_data[\"active\"] = np.zeros(len(pd_data))\n",
    "\n",
    "# Mark every molecule as active with an pCHEMBL of >= 6.5, 0 otherwise\n",
    "pd_data.loc[pd_data[pd_data.pChEMBL_value >= 6.5].index, \"active\"] = 1.0\n",
    "\n",
    "# NBVAL_CHECK_OUTPUT\n",
    "print(\"Number of active compounds:\", int(pd_data.active.sum()))\n",
    "print(\"Number of inactive compounds:\", len(pd_data) - int(pd_data.active.sum()))"
   ]
  },
  {
   "cell_type": "markdown",
   "metadata": {},
   "source": [
    "Finally, we will drop functional assay readout, this is data that we don't want to consider in our model."
   ]
  },
  {
   "cell_type": "code",
   "execution_count": 22,
   "metadata": {},
   "outputs": [
    {
     "name": "stdout",
     "output_type": "stream",
     "text": [
      "We have a total of 9767 activity points left\n"
     ]
    }
   ],
   "source": [
    "pd_data.drop(pd_data[pd_data.Assay_Type != 'B'].index, inplace=True)\n",
    "\n",
    "print(\"We have a total of {} activity points left\".format(len(pd_data)))"
   ]
  },
  {
   "cell_type": "code",
   "execution_count": 23,
   "metadata": {},
   "outputs": [],
   "source": [
    "# Set path to this notebook\n",
    "HERE = Path(_dh[-1])\n",
    "DATA = HERE / \"data\""
   ]
  },
  {
   "cell_type": "markdown",
   "metadata": {},
   "source": [
    "#### Molecule encoding\n",
    "\n",
    "Now we define a function `smiles_to_fp` to generate fingerprints from SMILES.\n",
    "For now, we incorporated the choice between the following fingerprints:\n",
    "\n",
    "* maccs\n",
    "* morgan2 and morgan3"
   ]
  },
  {
   "cell_type": "code",
   "execution_count": 24,
   "metadata": {},
   "outputs": [],
   "source": [
    "def smiles_to_fp(smiles, method=\"maccs\", n_bits=2048):\n",
    "    \"\"\"\n",
    "    Encode a molecule from a SMILES string into a fingerprint.\n",
    "\n",
    "    Parameters\n",
    "    ----------\n",
    "    smiles : str\n",
    "        The SMILES string defining the molecule.\n",
    "\n",
    "    method : str\n",
    "        The type of fingerprint to use. Default is MACCS keys.\n",
    "\n",
    "    n_bits : int\n",
    "        The length of the fingerprint.\n",
    "\n",
    "    Returns\n",
    "    -------\n",
    "    array\n",
    "        The fingerprint array.\n",
    "\n",
    "    \"\"\"\n",
    "\n",
    "    # convert smiles to RDKit mol object\n",
    "    try:\n",
    "        mol = Chem.MolFromSmiles(smiles)\n",
    "        \n",
    "    except:\n",
    "        return('NaN')\n",
    "\n",
    "    if method == \"maccs\":\n",
    "        return np.array(MACCSkeys.GenMACCSKeys(mol))\n",
    "    if method == \"morgan2\":\n",
    "        return np.array(GetMorganFingerprintAsBitVect(mol, 2, nBits=n_bits))\n",
    "    if method == \"morgan3\":\n",
    "        return np.array(GetMorganFingerprintAsBitVect(mol, 3, nBits=n_bits))\n",
    "    else:\n",
    "        # NBVAL_CHECK_OUTPUT\n",
    "        print(f\"Warning: Wrong method specified: {method}. Default will be used instead.\")\n",
    "        return np.array(MACCSkeys.GenMACCSKeys(mol))"
   ]
  },
  {
   "cell_type": "code",
   "execution_count": 25,
   "metadata": {},
   "outputs": [],
   "source": [
    "compound_df = pd_data.copy()"
   ]
  },
  {
   "cell_type": "code",
   "execution_count": 26,
   "metadata": {},
   "outputs": [
    {
     "data": {
      "text/html": [
       "<div>\n",
       "<style scoped>\n",
       "    .dataframe tbody tr th:only-of-type {\n",
       "        vertical-align: middle;\n",
       "    }\n",
       "\n",
       "    .dataframe tbody tr th {\n",
       "        vertical-align: top;\n",
       "    }\n",
       "\n",
       "    .dataframe thead th {\n",
       "        text-align: right;\n",
       "    }\n",
       "</style>\n",
       "<table border=\"1\" class=\"dataframe\">\n",
       "  <thead>\n",
       "    <tr style=\"text-align: right;\">\n",
       "      <th></th>\n",
       "      <th>Molecule ChEMBL ID</th>\n",
       "      <th>pChEMBL_value</th>\n",
       "      <th>Smiles</th>\n",
       "      <th>Assay_Type</th>\n",
       "      <th>Standard Relation</th>\n",
       "      <th>Standard Value</th>\n",
       "      <th>active</th>\n",
       "      <th>fp</th>\n",
       "    </tr>\n",
       "  </thead>\n",
       "  <tbody>\n",
       "    <tr>\n",
       "      <th>0</th>\n",
       "      <td>CHEMBL273264</td>\n",
       "      <td>6.54</td>\n",
       "      <td>N=C(N)Nc1ccc(C(=O)Oc2ccc3cc(C(=N)N)ccc3c2)cc1</td>\n",
       "      <td>B</td>\n",
       "      <td>'='</td>\n",
       "      <td>290.00</td>\n",
       "      <td>1.0</td>\n",
       "      <td>[0, 0, 0, 0, 0, 0, 0, 0, 0, 0, 0, 0, 0, 0, 0, ...</td>\n",
       "    </tr>\n",
       "    <tr>\n",
       "      <th>1</th>\n",
       "      <td>CHEMBL116258</td>\n",
       "      <td>9.89</td>\n",
       "      <td>Cc1cnc(NCCc2ccccc2)c(=O)n1CC(=O)NCc1cc(Cl)ccc1CN</td>\n",
       "      <td>B</td>\n",
       "      <td>'='</td>\n",
       "      <td>0.13</td>\n",
       "      <td>1.0</td>\n",
       "      <td>[0, 0, 0, 0, 0, 0, 0, 0, 0, 0, 0, 0, 0, 0, 0, ...</td>\n",
       "    </tr>\n",
       "    <tr>\n",
       "      <th>2</th>\n",
       "      <td>CHEMBL408556</td>\n",
       "      <td>6.55</td>\n",
       "      <td>CC[C@@H](C)[C@H](NC(=O)[C@@H]1CCCN1C(=O)[C@H](...</td>\n",
       "      <td>B</td>\n",
       "      <td>'='</td>\n",
       "      <td>280.00</td>\n",
       "      <td>1.0</td>\n",
       "      <td>[0, 0, 0, 0, 0, 0, 0, 0, 0, 0, 0, 0, 0, 0, 0, ...</td>\n",
       "    </tr>\n",
       "  </tbody>\n",
       "</table>\n",
       "</div>"
      ],
      "text/plain": [
       "  Molecule ChEMBL ID  pChEMBL_value  \\\n",
       "0       CHEMBL273264           6.54   \n",
       "1       CHEMBL116258           9.89   \n",
       "2       CHEMBL408556           6.55   \n",
       "\n",
       "                                              Smiles Assay_Type  \\\n",
       "0      N=C(N)Nc1ccc(C(=O)Oc2ccc3cc(C(=N)N)ccc3c2)cc1          B   \n",
       "1   Cc1cnc(NCCc2ccccc2)c(=O)n1CC(=O)NCc1cc(Cl)ccc1CN          B   \n",
       "2  CC[C@@H](C)[C@H](NC(=O)[C@@H]1CCCN1C(=O)[C@H](...          B   \n",
       "\n",
       "  Standard Relation  Standard Value  active  \\\n",
       "0               '='          290.00     1.0   \n",
       "1               '='            0.13     1.0   \n",
       "2               '='          280.00     1.0   \n",
       "\n",
       "                                                  fp  \n",
       "0  [0, 0, 0, 0, 0, 0, 0, 0, 0, 0, 0, 0, 0, 0, 0, ...  \n",
       "1  [0, 0, 0, 0, 0, 0, 0, 0, 0, 0, 0, 0, 0, 0, 0, ...  \n",
       "2  [0, 0, 0, 0, 0, 0, 0, 0, 0, 0, 0, 0, 0, 0, 0, ...  "
      ]
     },
     "execution_count": 26,
     "metadata": {},
     "output_type": "execute_result"
    }
   ],
   "source": [
    "# Add column for fingerprint\n",
    "compound_df[\"fp\"] = compound_df[\"Smiles\"].apply(smiles_to_fp)\n",
    "compound_df.drop(compound_df[compound_df.fp == 'NaN'].index, inplace=True)\n",
    "compound_df.head(3)\n",
    "# NBVAL_CHECK_OUTPUT"
   ]
  },
  {
   "cell_type": "markdown",
   "metadata": {},
   "source": [
    "### Machine Learning (ML)\n",
    "\n",
    "In the following, we will try several ML approaches to classify our molecules. We will use:\n",
    "\n",
    "* Random Forest (RF)\n",
    "* Support Vector Machine (SVM) \n",
    "* Artificial Neural Network (ANN) "
   ]
  },
  {
   "cell_type": "markdown",
   "metadata": {},
   "source": [
    "#### Helper functions"
   ]
  },
  {
   "cell_type": "code",
   "execution_count": 27,
   "metadata": {},
   "outputs": [],
   "source": [
    "def plot_roc_curves_for_models(models, test_x, test_y, save_png=True):\n",
    "    \"\"\"\n",
    "    Helper function to plot customized roc curve.\n",
    "\n",
    "    Parameters\n",
    "    ----------\n",
    "    models: dict\n",
    "        Dictionary of pretrained machine learning models.\n",
    "    test_x: list\n",
    "        Molecular fingerprints for test set.\n",
    "    test_y: list\n",
    "        Associated activity labels for test set.\n",
    "    save_png: bool\n",
    "        Save image to disk (default = False)\n",
    "\n",
    "    Returns\n",
    "    -------\n",
    "    fig:\n",
    "        Figure.\n",
    "    \"\"\"\n",
    "\n",
    "    fig, ax = plt.subplots()\n",
    "\n",
    "    # Below for loop iterates through your models list\n",
    "    for model in models:\n",
    "        # Select the model\n",
    "        ml_model = model[\"model\"]\n",
    "        # Prediction probability on test set\n",
    "        test_prob = ml_model.predict_proba(test_x)[:, 1]\n",
    "        # Prediction class on test set\n",
    "        test_pred = ml_model.predict(test_x)\n",
    "        # Compute False postive rate and True positive rate\n",
    "        fpr, tpr, thresholds = metrics.roc_curve(test_y, test_prob)\n",
    "        # Calculate Area under the curve to display on the plot\n",
    "        auc = roc_auc_score(test_y, test_prob)\n",
    "        # Plot the computed values\n",
    "        ax.plot(fpr, tpr, label=(f\"{model['label']} AUC area = {auc:.2f}\"))\n",
    "\n",
    "    # Custom settings for the plot\n",
    "    ax.plot([0, 1], [0, 1], \"r--\")\n",
    "    ax.set_xlabel(\"False Positive Rate\")\n",
    "    ax.set_ylabel(\"True Positive Rate\")\n",
    "    ax.set_title(\"Receiver Operating Characteristic\")\n",
    "    ax.legend(loc=\"lower right\")\n",
    "    # Save plot\n",
    "    if save_png:\n",
    "        fig.savefig(f\"results/roc_auc\", dpi=300, bbox_inches=\"tight\", transparent=True)\n",
    "    return fig"
   ]
  },
  {
   "cell_type": "code",
   "execution_count": 28,
   "metadata": {},
   "outputs": [],
   "source": [
    "def model_performance(ml_model, test_x, test_y, verbose=True):\n",
    "    \"\"\"\n",
    "    Helper function to calculate model performance\n",
    "\n",
    "    Parameters\n",
    "    ----------\n",
    "    ml_model: sklearn model object\n",
    "        The machine learning model to train.\n",
    "    test_x: list\n",
    "        Molecular fingerprints for test set.\n",
    "    test_y: list\n",
    "        Associated activity labels for test set.\n",
    "    verbose: bool\n",
    "        Print performance measure (default = True)\n",
    "\n",
    "    Returns\n",
    "    -------\n",
    "    tuple:\n",
    "        Accuracy, sensitivity, specificity, auc on test set.\n",
    "    \"\"\"\n",
    "\n",
    "    # Prediction probability on test set\n",
    "    test_prob = ml_model.predict_proba(test_x)[:, 1]\n",
    "\n",
    "    # Prediction class on test set\n",
    "    test_pred = ml_model.predict(test_x)\n",
    "\n",
    "    # Performance of model on test set\n",
    "    accuracy = accuracy_score(test_y, test_pred)\n",
    "    sens = recall_score(test_y, test_pred)\n",
    "    spec = recall_score(test_y, test_pred, pos_label=0)\n",
    "    auc = roc_auc_score(test_y, test_prob)\n",
    "\n",
    "    if verbose:\n",
    "        # Print performance results\n",
    "        # NBVAL_CHECK_OUTPUT        print(f\"Accuracy: {accuracy:.2}\")\n",
    "        print(f\"Sensitivity: {sens:.2f}\")\n",
    "        print(f\"Specificity: {spec:.2f}\")\n",
    "        print(f\"AUC: {auc:.2f}\")\n",
    "\n",
    "    return accuracy, sens, spec, auc"
   ]
  },
  {
   "cell_type": "code",
   "execution_count": 29,
   "metadata": {},
   "outputs": [],
   "source": [
    "def model_training_and_validation(ml_model, name, splits, verbose=True):\n",
    "    \"\"\"\n",
    "    Fit a machine learning model on a random train-test split of the data\n",
    "    and return the performance measures.\n",
    "\n",
    "    Parameters\n",
    "    ----------\n",
    "    ml_model: sklearn model object\n",
    "        The machine learning model to train.\n",
    "    name: str\n",
    "        Name of machine learning algorithm: RF, SVM, ANN\n",
    "    splits: list\n",
    "        List of desciptor and label data: train_x, test_x, train_y, test_y.\n",
    "    verbose: bool\n",
    "        Print performance info (default = True)\n",
    "\n",
    "    Returns\n",
    "    -------\n",
    "    tuple:\n",
    "        Accuracy, sensitivity, specificity, auc on test set.\n",
    "\n",
    "    \"\"\"\n",
    "    train_x, test_x, train_y, test_y = splits\n",
    "\n",
    "    # Fit the model\n",
    "    ml_model.fit(train_x, train_y)\n",
    "\n",
    "    # Calculate model performance results\n",
    "    accuracy, sens, spec, auc = model_performance(ml_model, test_x, test_y, verbose)\n",
    "\n",
    "    return accuracy, sens, spec, auc"
   ]
  },
  {
   "cell_type": "markdown",
   "metadata": {},
   "source": [
    "**Preprocessing**: Split the data (will be reused for the other models)"
   ]
  },
  {
   "cell_type": "code",
   "execution_count": 30,
   "metadata": {},
   "outputs": [
    {
     "name": "stdout",
     "output_type": "stream",
     "text": [
      "Training data size: 7812\n",
      "Test data size: 1954\n"
     ]
    }
   ],
   "source": [
    "fingerprint_to_model = compound_df.fp.tolist()\n",
    "label_to_model = compound_df.active.tolist()\n",
    "\n",
    "# Split data randomly in train and test set\n",
    "# note that we use test/train_x for the respective fingerprint splits\n",
    "# and test/train_y for the respective label splits\n",
    "(\n",
    "    static_train_x,\n",
    "    static_test_x,\n",
    "    static_train_y,\n",
    "    static_test_y,\n",
    ") = train_test_split(fingerprint_to_model, label_to_model, test_size=0.2, random_state=12)\n",
    "splits = [static_train_x, static_test_x, static_train_y, static_test_y]\n",
    "# NBVAL_CHECK_OUTPUT\n",
    "print(\"Training data size:\", len(static_train_x))\n",
    "print(\"Test data size:\", len(static_test_x))"
   ]
  },
  {
   "cell_type": "markdown",
   "metadata": {},
   "source": [
    "#### Random forest classifier"
   ]
  },
  {
   "cell_type": "code",
   "execution_count": 31,
   "metadata": {},
   "outputs": [],
   "source": [
    "# Set model parameter for random forest\n",
    "param = {\n",
    "    \"n_estimators\": 100,  # number of trees to grows\n",
    "    \"criterion\": \"entropy\",  # cost function to be optimized for a split\n",
    "}\n",
    "model_RF = RandomForestClassifier(**param)"
   ]
  },
  {
   "cell_type": "code",
   "execution_count": 32,
   "metadata": {},
   "outputs": [
    {
     "name": "stdout",
     "output_type": "stream",
     "text": [
      "Sensitivity: 0.83\n",
      "Specificity: 0.91\n",
      "AUC: 0.94\n"
     ]
    }
   ],
   "source": [
    "# Fit model on single split\n",
    "performance_measures = model_training_and_validation(model_RF, \"RF\", splits)"
   ]
  },
  {
   "cell_type": "code",
   "execution_count": 33,
   "metadata": {},
   "outputs": [
    {
     "name": "stdout",
     "output_type": "stream",
     "text": [
      "Directory already exists, continuing\n"
     ]
    },
    {
     "data": {
      "text/plain": [
       "'/home/jovyan/Cheminformatics/results/roc_auc.png'"
      ]
     },
     "execution_count": 33,
     "metadata": {},
     "output_type": "execute_result"
    },
    {
     "data": {
      "image/png": "[encoded data removed]",
      "text/plain": [
       "<Figure size 432x288 with 1 Axes>"
      ]
     },
     "metadata": {
      "needs_background": "light"
     },
     "output_type": "display_data"
    }
   ],
   "source": [
    "# Initialize the list that stores all models. First one is RF.\n",
    "models = [{\"label\": \"Model_RF\", \"model\": model_RF}]\n",
    "try:\n",
    "    os.mkdir('results')\n",
    "except:\n",
    "    print(\"Directory already exists, continuing\")\n",
    "# Plot roc curve\n",
    "plot_roc_curves_for_models(models, static_test_x, static_test_y)\n",
    "result_img = '{}/results/roc_auc.png'.format(os.getcwd())\n",
    "result_img"
   ]
  },
  {
   "cell_type": "markdown",
   "metadata": {},
   "source": [
    "#### Support vector classifier\n",
    "Here we train a SVM with a radial-basis function kernel (also: squared-exponential kernel). \n",
    "For more information, see [sklearn RBF kernel](http://scikit-learn.org/stable/modules/generated/sklearn.gaussian_process.kernels.RBF.html)."
   ]
  },
  {
   "cell_type": "code",
   "execution_count": 34,
   "metadata": {
    "scrolled": true
   },
   "outputs": [
    {
     "name": "stdout",
     "output_type": "stream",
     "text": [
      "Sensitivity: 0.82\n",
      "Specificity: 0.92\n",
      "AUC: 0.93\n"
     ]
    }
   ],
   "source": [
    "# Specify model\n",
    "model_SVM = svm.SVC(kernel=\"rbf\", C=1, gamma=0.1, probability=True)\n",
    "\n",
    "# Fit model on single split\n",
    "performance_measures = model_training_and_validation(model_SVM, \"SVM\", splits)"
   ]
  },
  {
   "cell_type": "code",
   "execution_count": 35,
   "metadata": {
    "tags": [
     "nbsphinx-thumbnail"
    ]
   },
   "outputs": [
    {
     "data": {
      "text/plain": [
       "'/home/jovyan/Cheminformatics/results/roc_auc.png'"
      ]
     },
     "execution_count": 35,
     "metadata": {},
     "output_type": "execute_result"
    },
    {
     "data": {
      "image/png": "[encoded data removed]",
      "text/plain": [
       "<Figure size 432x288 with 1 Axes>"
      ]
     },
     "metadata": {
      "needs_background": "light"
     },
     "output_type": "display_data"
    }
   ],
   "source": [
    "# Append SVM model\n",
    "models.append({\"label\": \"Model_SVM\", \"model\": model_SVM})\n",
    "# Plot roc curve\n",
    "plot_roc_curves_for_models(models, static_test_x, static_test_y)\n",
    "result_img = '{}/results/roc_auc.png'.format(os.getcwd())\n",
    "result_img"
   ]
  },
  {
   "cell_type": "markdown",
   "metadata": {},
   "source": [
    "#### Neural network classifier\n",
    "The last approach we try here is a neural network model. We train an MLPClassifier (Multi-layer Perceptron classifier) with 3 layers, each with 5 neurons."
   ]
  },
  {
   "cell_type": "code",
   "execution_count": 36,
   "metadata": {
    "scrolled": true
   },
   "outputs": [
    {
     "name": "stdout",
     "output_type": "stream",
     "text": [
      "Sensitivity: 0.71\n",
      "Specificity: 0.88\n",
      "AUC: 0.89\n"
     ]
    }
   ],
   "source": [
    "# Specify model\n",
    "model_ANN = MLPClassifier(hidden_layer_sizes=(5, 3), random_state=12)\n",
    "\n",
    "# Fit model on single split\n",
    "performance_measures = model_training_and_validation(model_ANN, \"ANN\", splits)"
   ]
  },
  {
   "cell_type": "code",
   "execution_count": 37,
   "metadata": {},
   "outputs": [
    {
     "data": {
      "text/plain": [
       "'/home/jovyan/Cheminformatics/results/roc_auc.png'"
      ]
     },
     "execution_count": 37,
     "metadata": {},
     "output_type": "execute_result"
    },
    {
     "data": {
      "image/png": "[encoded data removed]",
      "text/plain": [
       "<Figure size 432x288 with 1 Axes>"
      ]
     },
     "metadata": {
      "needs_background": "light"
     },
     "output_type": "display_data"
    }
   ],
   "source": [
    "# Append ANN model\n",
    "models.append({\"label\": \"Model_ANN\", \"model\": model_ANN})\n",
    "# Plot roc curve\n",
    "plot_roc_curves_for_models(models, static_test_x, static_test_y, True)\n",
    "result_img = '{}/results/roc_auc.png'.format(os.getcwd())\n",
    "result_img"
   ]
  },
  {
   "cell_type": "markdown",
   "metadata": {},
   "source": [
    "Our models show very good values for all measured values (see AUCs) and thus seem to be predictive."
   ]
  },
  {
   "cell_type": "markdown",
   "metadata": {},
   "source": [
    "#### Cross-validation"
   ]
  },
  {
   "cell_type": "code",
   "execution_count": 38,
   "metadata": {},
   "outputs": [],
   "source": [
    "def crossvalidation(ml_model, df, n_folds=5, verbose=False):\n",
    "    \"\"\"\n",
    "    Machine learning model training and validation in a cross-validation loop.\n",
    "\n",
    "    Parameters\n",
    "    ----------\n",
    "    ml_model: sklearn model object\n",
    "        The machine learning model to train.\n",
    "    df: pd.DataFrame\n",
    "        Data set with SMILES and their associated activity labels.\n",
    "    n_folds: int, optional\n",
    "        Number of folds for cross-validation.\n",
    "    verbose: bool, optional\n",
    "        Performance measures are printed.\n",
    "\n",
    "    Returns\n",
    "    -------\n",
    "    None\n",
    "\n",
    "    \"\"\"\n",
    "    t0 = time.time()\n",
    "    # Shuffle the indices for the k-fold cross-validation\n",
    "    kf = KFold(n_splits=n_folds, shuffle=True, random_state=SEED)\n",
    "\n",
    "    # Results for each of the cross-validation folds\n",
    "    acc_per_fold = []\n",
    "    sens_per_fold = []\n",
    "    spec_per_fold = []\n",
    "    auc_per_fold = []\n",
    "\n",
    "    # Loop over the folds\n",
    "    for train_index, test_index in kf.split(df):\n",
    "        # clone model -- we want a fresh copy per fold!\n",
    "        fold_model = clone(ml_model)\n",
    "        # Training\n",
    "\n",
    "        # Convert the fingerprint and the label to a list\n",
    "        train_x = df.iloc[train_index].fp.tolist()\n",
    "        train_y = df.iloc[train_index].active.tolist()\n",
    "\n",
    "        # Fit the model\n",
    "        fold_model.fit(train_x, train_y)\n",
    "\n",
    "        # Testing\n",
    "\n",
    "        # Convert the fingerprint and the label to a list\n",
    "        test_x = df.iloc[test_index].fp.tolist()\n",
    "        test_y = df.iloc[test_index].active.tolist()\n",
    "\n",
    "        # Performance for each fold\n",
    "        accuracy, sens, spec, auc = model_performance(fold_model, test_x, test_y, verbose)\n",
    "\n",
    "        # Save results\n",
    "        acc_per_fold.append(accuracy)\n",
    "        sens_per_fold.append(sens)\n",
    "        spec_per_fold.append(spec)\n",
    "        auc_per_fold.append(auc)\n",
    "\n",
    "    # Print statistics of results\n",
    "    print(\n",
    "        f\"Mean accuracy: {np.mean(acc_per_fold):.2f} \\t\"\n",
    "        f\"and std : {np.std(acc_per_fold):.2f} \\n\"\n",
    "        f\"Mean sensitivity: {np.mean(sens_per_fold):.2f} \\t\"\n",
    "        f\"and std : {np.std(sens_per_fold):.2f} \\n\"\n",
    "        f\"Mean specificity: {np.mean(spec_per_fold):.2f} \\t\"\n",
    "        f\"and std : {np.std(spec_per_fold):.2f} \\n\"\n",
    "        f\"Mean AUC: {np.mean(auc_per_fold):.2f} \\t\"\n",
    "        f\"and std : {np.std(auc_per_fold):.2f} \\n\"\n",
    "        f\"Time taken : {time.time() - t0:.2f}s\\n\"\n",
    "    )\n",
    "\n",
    "    return acc_per_fold, sens_per_fold, spec_per_fold, auc_per_fold"
   ]
  },
  {
   "cell_type": "code",
   "execution_count": 39,
   "metadata": {},
   "outputs": [],
   "source": [
    "N_FOLDS = 5"
   ]
  },
  {
   "cell_type": "code",
   "execution_count": 40,
   "metadata": {},
   "outputs": [
    {
     "name": "stdout",
     "output_type": "stream",
     "text": [
      "\n",
      "======= \n",
      "Model_RF\n",
      "Mean accuracy: 0.88 \tand std : 0.01 \n",
      "Mean sensitivity: 0.80 \tand std : 0.02 \n",
      "Mean specificity: 0.91 \tand std : 0.01 \n",
      "Mean AUC: 0.93 \tand std : 0.01 \n",
      "Time taken : 8.91s\n",
      "\n",
      "\n",
      "======= \n",
      "Model_SVM\n",
      "Mean accuracy: 0.89 \tand std : 0.01 \n",
      "Mean sensitivity: 0.80 \tand std : 0.02 \n",
      "Mean specificity: 0.92 \tand std : 0.00 \n",
      "Mean AUC: 0.92 \tand std : 0.01 \n",
      "Time taken : 216.11s\n",
      "\n",
      "\n",
      "======= \n",
      "Model_ANN\n",
      "Mean accuracy: 0.83 \tand std : 0.01 \n",
      "Mean sensitivity: 0.70 \tand std : 0.03 \n",
      "Mean specificity: 0.89 \tand std : 0.01 \n",
      "Mean AUC: 0.89 \tand std : 0.01 \n",
      "Time taken : 35.52s\n",
      "\n"
     ]
    }
   ],
   "source": [
    "for model in models:\n",
    "    print(\"\\n======= \")\n",
    "    print(f\"{model['label']}\")\n",
    "    crossvalidation(model[\"model\"], compound_df, n_folds=N_FOLDS)"
   ]
  },
  {
   "cell_type": "markdown",
   "metadata": {},
   "source": [
    "We look at the cross-validation performance for molecules encoded using Morgan fingerprint and not MACCS keys."
   ]
  },
  {
   "cell_type": "code",
   "execution_count": 43,
   "metadata": {},
   "outputs": [],
   "source": [
    "# Reset data frame\n",
    "compound_df = compound_df.drop(['fp'], axis=1)"
   ]
  },
  {
   "cell_type": "code",
   "execution_count": 44,
   "metadata": {},
   "outputs": [
    {
     "data": {
      "text/html": [
       "<div>\n",
       "<style scoped>\n",
       "    .dataframe tbody tr th:only-of-type {\n",
       "        vertical-align: middle;\n",
       "    }\n",
       "\n",
       "    .dataframe tbody tr th {\n",
       "        vertical-align: top;\n",
       "    }\n",
       "\n",
       "    .dataframe thead th {\n",
       "        text-align: right;\n",
       "    }\n",
       "</style>\n",
       "<table border=\"1\" class=\"dataframe\">\n",
       "  <thead>\n",
       "    <tr style=\"text-align: right;\">\n",
       "      <th></th>\n",
       "      <th>Molecule ChEMBL ID</th>\n",
       "      <th>pChEMBL_value</th>\n",
       "      <th>Smiles</th>\n",
       "      <th>Assay_Type</th>\n",
       "      <th>Standard Relation</th>\n",
       "      <th>Standard Value</th>\n",
       "      <th>active</th>\n",
       "      <th>fp</th>\n",
       "    </tr>\n",
       "  </thead>\n",
       "  <tbody>\n",
       "    <tr>\n",
       "      <th>0</th>\n",
       "      <td>CHEMBL273264</td>\n",
       "      <td>6.54</td>\n",
       "      <td>N=C(N)Nc1ccc(C(=O)Oc2ccc3cc(C(=N)N)ccc3c2)cc1</td>\n",
       "      <td>B</td>\n",
       "      <td>'='</td>\n",
       "      <td>290.00</td>\n",
       "      <td>1.0</td>\n",
       "      <td>[0, 0, 0, 0, 0, 0, 0, 0, 0, 0, 1, 0, 0, 0, 0, ...</td>\n",
       "    </tr>\n",
       "    <tr>\n",
       "      <th>1</th>\n",
       "      <td>CHEMBL116258</td>\n",
       "      <td>9.89</td>\n",
       "      <td>Cc1cnc(NCCc2ccccc2)c(=O)n1CC(=O)NCc1cc(Cl)ccc1CN</td>\n",
       "      <td>B</td>\n",
       "      <td>'='</td>\n",
       "      <td>0.13</td>\n",
       "      <td>1.0</td>\n",
       "      <td>[0, 0, 0, 0, 0, 0, 0, 0, 0, 0, 0, 0, 0, 0, 0, ...</td>\n",
       "    </tr>\n",
       "    <tr>\n",
       "      <th>2</th>\n",
       "      <td>CHEMBL408556</td>\n",
       "      <td>6.55</td>\n",
       "      <td>CC[C@@H](C)[C@H](NC(=O)[C@@H]1CCCN1C(=O)[C@H](...</td>\n",
       "      <td>B</td>\n",
       "      <td>'='</td>\n",
       "      <td>280.00</td>\n",
       "      <td>1.0</td>\n",
       "      <td>[0, 1, 1, 0, 0, 0, 0, 0, 0, 0, 0, 0, 0, 0, 0, ...</td>\n",
       "    </tr>\n",
       "  </tbody>\n",
       "</table>\n",
       "</div>"
      ],
      "text/plain": [
       "  Molecule ChEMBL ID  pChEMBL_value  \\\n",
       "0       CHEMBL273264           6.54   \n",
       "1       CHEMBL116258           9.89   \n",
       "2       CHEMBL408556           6.55   \n",
       "\n",
       "                                              Smiles Assay_Type  \\\n",
       "0      N=C(N)Nc1ccc(C(=O)Oc2ccc3cc(C(=N)N)ccc3c2)cc1          B   \n",
       "1   Cc1cnc(NCCc2ccccc2)c(=O)n1CC(=O)NCc1cc(Cl)ccc1CN          B   \n",
       "2  CC[C@@H](C)[C@H](NC(=O)[C@@H]1CCCN1C(=O)[C@H](...          B   \n",
       "\n",
       "  Standard Relation  Standard Value  active  \\\n",
       "0               '='          290.00     1.0   \n",
       "1               '='            0.13     1.0   \n",
       "2               '='          280.00     1.0   \n",
       "\n",
       "                                                  fp  \n",
       "0  [0, 0, 0, 0, 0, 0, 0, 0, 0, 0, 1, 0, 0, 0, 0, ...  \n",
       "1  [0, 0, 0, 0, 0, 0, 0, 0, 0, 0, 0, 0, 0, 0, 0, ...  \n",
       "2  [0, 1, 1, 0, 0, 0, 0, 0, 0, 0, 0, 0, 0, 0, 0, ...  "
      ]
     },
     "execution_count": 44,
     "metadata": {},
     "output_type": "execute_result"
    }
   ],
   "source": [
    "# Use Morgan fingerprint with radius 3\n",
    "compound_df[\"fp\"] = compound_df[\"Smiles\"].apply(smiles_to_fp, args=(\"morgan3\",))\n",
    "compound_df.head(3)\n",
    "# NBVAL_CHECK_OUTPUT"
   ]
  },
  {
   "cell_type": "code",
   "execution_count": 45,
   "metadata": {
    "scrolled": true
   },
   "outputs": [
    {
     "name": "stdout",
     "output_type": "stream",
     "text": [
      "\n",
      "=======\n",
      "Model_RF\n",
      "Mean accuracy: 0.89 \tand std : 0.00 \n",
      "Mean sensitivity: 0.82 \tand std : 0.02 \n",
      "Mean specificity: 0.92 \tand std : 0.00 \n",
      "Mean AUC: 0.94 \tand std : 0.01 \n",
      "Time taken : 34.07s\n",
      "\n",
      "\n",
      "=======\n",
      "Model_ANN\n",
      "Mean accuracy: 0.87 \tand std : 0.01 \n",
      "Mean sensitivity: 0.80 \tand std : 0.03 \n",
      "Mean specificity: 0.90 \tand std : 0.00 \n",
      "Mean AUC: 0.93 \tand std : 0.01 \n",
      "Time taken : 313.13s\n",
      "\n"
     ]
    }
   ],
   "source": [
    "for model in models:\n",
    "    if model[\"label\"] == \"Model_SVM\":\n",
    "        # SVM is super slow with long fingerprints\n",
    "        # and will have a performance similar to RF\n",
    "        # We can skip it in this test, but if you want\n",
    "        # to run it, feel free to replace `continue` with `pass`\n",
    "        continue\n",
    "    print(\"\\n=======\")\n",
    "    print(model[\"label\"])\n",
    "    reduced_df = compound_df[['active','fp']]\n",
    "    crossvalidation(model[\"model\"], reduced_df, n_folds=N_FOLDS)"
   ]
  },
  {
   "cell_type": "markdown",
   "metadata": {},
   "source": [
    "The next step is to see if we can also train a classification model. We will remove the censored data and train another model. "
   ]
  },
  {
   "cell_type": "code",
   "execution_count": 46,
   "metadata": {},
   "outputs": [],
   "source": [
    "def crossvalidation_reg(ml_model, df, n_folds=5, verbose=False):\n",
    "    \"\"\"\n",
    "    Machine learning model training and validation in a cross-validation loop.\n",
    "\n",
    "    Parameters\n",
    "    ----------\n",
    "    ml_model: sklearn model object\n",
    "        The machine learning model to train.\n",
    "    df: pd.DataFrame\n",
    "        Data set with SMILES and their associated activity labels.\n",
    "    n_folds: int, optional\n",
    "        Number of folds for cross-validation.\n",
    "    verbose: bool, optional\n",
    "        Performance measures are printed.\n",
    "\n",
    "    Returns\n",
    "    -------\n",
    "    None\n",
    "\n",
    "    \"\"\"\n",
    "    t0 = time.time()\n",
    "    # Shuffle the indices for the k-fold cross-validation\n",
    "    kf = KFold(n_splits=n_folds, shuffle=True, random_state=SEED)\n",
    "\n",
    "    # Results for each of the cross-validation folds\n",
    "    MAE_per_fold = []\n",
    "    RMSE_per_fold = []\n",
    "\n",
    "    # Loop over the folds\n",
    "    for train_index, test_index in kf.split(df):\n",
    "        # clone model -- we want a fresh copy per fold!\n",
    "        fold_model = clone(ml_model)\n",
    "        # Training\n",
    "\n",
    "        # Convert the fingerprint and the label to a list\n",
    "        train_x = df.iloc[train_index].fp.tolist()\n",
    "        train_y = df.iloc[train_index].pChEMBL_value.tolist()\n",
    "\n",
    "        # Fit the model\n",
    "        fold_model.fit(train_x, train_y)\n",
    "\n",
    "        # Testing\n",
    "\n",
    "        # Convert the fingerprint and the label to a list\n",
    "        test_x = df.iloc[test_index].fp.tolist()\n",
    "        test_y = df.iloc[test_index].pChEMBL_value.tolist()\n",
    "        \n",
    "        test_results = fold_model.predict(test_x)\n",
    "        # Prediction probability on test set\n",
    "        from sklearn import metrics\n",
    "\n",
    "        MAE_per_fold.append(metrics.mean_absolute_error(test_y, test_results))\n",
    "        #print('Mean Squared Error (MSE):', metrics.mean_squared_error(test_y, test_results))\n",
    "        RMSE_per_fold.append(np.sqrt(metrics.mean_squared_error(test_y, test_results)))\n",
    "        #mape = np.mean(np.abs((gt - pred) / np.abs(gt)))\n",
    "        #print('Mean Absolute Percentage Error (MAPE):', round(mape * 100, 2))\n",
    "        #print('Accuracy:', round(100*(1 - mape), 2))\n",
    "    return(MAE_per_fold,RMSE_per_fold,fold_model)"
   ]
  },
  {
   "cell_type": "markdown",
   "metadata": {},
   "source": [
    "Next, make new data and run."
   ]
  },
  {
   "cell_type": "code",
   "execution_count": 47,
   "metadata": {},
   "outputs": [
    {
     "name": "stdout",
     "output_type": "stream",
     "text": [
      "Training data size: 7812\n",
      "Test data size: 1954\n"
     ]
    }
   ],
   "source": [
    "fingerprint_to_model = compound_df.fp.tolist()\n",
    "label_to_model = compound_df.pChEMBL_value.tolist()\n",
    "\n",
    "# Split data randomly in train and test set\n",
    "# note that we use test/train_x for the respective fingerprint splits\n",
    "# and test/train_y for the respective label splits\n",
    "(\n",
    "    static_train_x,\n",
    "    static_test_x,\n",
    "    static_train_y,\n",
    "    static_test_y,\n",
    ") = train_test_split(fingerprint_to_model, label_to_model, test_size=0.2, random_state=12)\n",
    "splits = [static_train_x, static_test_x, static_train_y, static_test_y]\n",
    "# NBVAL_CHECK_OUTPUT\n",
    "print(\"Training data size:\", len(static_train_x))\n",
    "print(\"Test data size:\", len(static_test_x))"
   ]
  },
  {
   "cell_type": "code",
   "execution_count": 48,
   "metadata": {
    "scrolled": true
   },
   "outputs": [
    {
     "name": "stdout",
     "output_type": "stream",
     "text": [
      "MAE: 0.56 \tand std : 0.01 \n",
      "RMSE: 0.78 \tand std : 0.01 \n",
      "\n"
     ]
    }
   ],
   "source": [
    "# Kick out NaN in the pChEMBL values\n",
    "compound_df_noNaN = compound_df.dropna()\n",
    "\n",
    "# Append RF Regressor model\n",
    "#models.append({\"label\": \"Model_RF_reg\", \"model\": RandomForestRegressor})\n",
    "#Train model with RandomForestRegressor\n",
    "regressor = RandomForestRegressor()\n",
    "MAE, RMSE,trained_model = crossvalidation_reg(regressor , compound_df_noNaN, n_folds=N_FOLDS)\n",
    "\n",
    "print(\n",
    "f\"MAE: {np.mean(MAE):.2f} \\t\"\n",
    "f\"and std : {np.std(MAE):.2f} \\n\"\n",
    "f\"RMSE: {np.mean(RMSE):.2f} \\t\"\n",
    "f\"and std : {np.std(RMSE):.2f} \\n\"\n",
    ")"
   ]
  },
  {
   "cell_type": "markdown",
   "metadata": {},
   "source": [
    "We use ONLY the RF model to run predictions on a new compound."
   ]
  },
  {
   "cell_type": "code",
   "execution_count": 49,
   "metadata": {},
   "outputs": [
    {
     "name": "stdout",
     "output_type": "stream",
     "text": [
      "SMILES, PREDICTION\n",
      "C1=CC=C(C=C1)CC(C(=O)NCC(=O)NCC2=CC=C(C=C2)C(=N)N)NS(=O)(=O)CC3=CC=CC=C3,6.67\n",
      "NC(N)=NCCC[C@H](NC(=O)[C@@H]1CCCN1C(=O)[C@@H](N)Cc1ccccc1)C(=O)O,7.84\n",
      "CC(O)[C@@H](C(=O)N[C@H](C)c1ccccc1)N(C)C(=O)[C@H](Cc1ccc([N+](=O)[O-])cc1)NC(=O)CCCN=C(N)N,6.65\n",
      "COc1cc(C(=O)N2CC(C)(CC(C)O)OC[C@H]2C)cc2nc(NC(CF)c3cccc(Cl)c3)oc12,9.49\n"
     ]
    }
   ],
   "source": [
    "# The first entry is the co-crystalized ligand \n",
    "# which is added for reference (so we can compare to its actual pChEMBL value)\n",
    "# BELOW: ChEMBL top pIC50 molecules\n",
    "test_smiles = [\n",
    "    \n",
    "    \n",
    "    'C1=CC=C(C=C1)CC(C(=O)NCC(=O)NCC2=CC=C(C=C2)C(=N)N)NS(=O)(=O)CC3=CC=CC=C3',                    #UET\n",
    "    \n",
    "    'NC(N)=NCCC[C@H](NC(=O)[C@@H]1CCCN1C(=O)[C@@H](N)Cc1ccccc1)C(=O)O',                            ##CHEMBL275366 #1ST pIC50\n",
    "    'CC(O)[C@@H](C(=O)N[C@H](C)c1ccccc1)N(C)C(=O)[C@H](Cc1ccc([N+](=O)[O-])cc1)NC(=O)CCCN=C(N)N',  ###CHEMBL105819#2ND\n",
    "    'COc1cc(C(=O)N2CC(C)(CC(C)O)OC[C@H]2C)cc2nc(NC(CF)c3cccc(Cl)c3)oc12'                           ##CHEMBL4111930#4TH\n",
    "]\n",
    "\n",
    "fps = []\n",
    "\n",
    "for smiles in test_smiles: \n",
    "    fp = smiles_to_fp(smiles,'morgan3')\n",
    "    fps.append(fp)\n",
    "\n",
    "predictions = trained_model.predict(fps)\n",
    "print(\"SMILES, PREDICTION\")\n",
    "for i, prediction in enumerate(predictions):\n",
    "    print('{},{:.2f}'.format(test_smiles[i], prediction))"
   ]
  },
  {
   "cell_type": "code",
   "execution_count": 50,
   "metadata": {},
   "outputs": [
    {
     "name": "stdout",
     "output_type": "stream",
     "text": [
      "SMILES, PREDICTION\n",
      "C1=CC=C(C=C1)CC(C(=O)NCC(=O)NCC2=CC=C(C=C2)C(=N)N)NS(=O)(=O)CC3=CC=CC=C3,6.67\n",
      "N=C(N)c2ccc(C[C@H](N)C(=O)N1CCC[C@H]1C(=O)N[C@@H](CCC/N=C(N)/N)C(=O)O)cc2,7.46\n",
      "N/C(N)=N\\CCC[C@H](NC(=O)[C@@H]1CCCN1C(=O)[C@@H](N)Cc2ccc(Cl)cc2)C(=O)O,7.82\n"
     ]
    }
   ],
   "source": [
    "# Designed molecules compared to control ligand UET\n",
    "test_smiles = [\n",
    "    \n",
    "    \n",
    "    'C1=CC=C(C=C1)CC(C(=O)NCC(=O)NCC2=CC=C(C=C2)C(=N)N)NS(=O)(=O)CC3=CC=CC=C3',       #UET\n",
    "    'N=C(N)c2ccc(C[C@H](N)C(=O)N1CCC[C@H]1C(=O)N[C@@H](CCC/N=C(N)/N)C(=O)O)cc2',      #PEP1\n",
    "    'N/C(N)=N\\CCC[C@H](NC(=O)[C@@H]1CCCN1C(=O)[C@@H](N)Cc2ccc(Cl)cc2)C(=O)O'          ##PEP2\n",
    "\n",
    "]\n",
    "\n",
    "fps = []\n",
    "\n",
    "for smiles in test_smiles: \n",
    "    fp = smiles_to_fp(smiles,'morgan3')\n",
    "    fps.append(fp)\n",
    "\n",
    "predictions = trained_model.predict(fps)\n",
    "print(\"SMILES, PREDICTION\")\n",
    "for i, prediction in enumerate(predictions):\n",
    "    print('{},{:.2f}'.format(test_smiles[i], prediction))"
   ]
  },
  {
   "cell_type": "markdown",
   "metadata": {},
   "source": [
    "## Lipinski Rule of 5 for the generated compounds"
   ]
  },
  {
   "cell_type": "code",
   "execution_count": 5,
   "metadata": {},
   "outputs": [],
   "source": [
    "import math\n",
    "\n",
    "from matplotlib.lines import Line2D\n",
    "import matplotlib.patches as mpatches\n",
    "from rdkit import Chem\n",
    "from rdkit.Chem import Descriptors, Draw, PandasTools"
   ]
  },
  {
   "cell_type": "code",
   "execution_count": 6,
   "metadata": {},
   "outputs": [],
   "source": [
    "#Manual import using SMILES\n",
    "smiles = [\n",
    "'NC(N)=NCCC[C@H](NC(=O)[C@@H]1CCCN1C(=O)[C@@H](N)Cc1ccccc1)C(=O)O', 'N=C(N)c2ccc(C[C@H](N)C(=O)N1CCC[C@H]1C(=O)N[C@@H](CCC/N=C(N)/N)C(=O)O)cc2',' N/C(N)=N\\CCC[C@H](NC(=O)[C@@H]1CCCN1C(=O)[C@@H](N)Cc2ccc(Cl)cc2)C(=O)O']\n",
    "names = [\"CHEMBL275366\",\"PEP1\", \"PEP2\"]"
   ]
  },
  {
   "cell_type": "code",
   "execution_count": 7,
   "metadata": {},
   "outputs": [
    {
     "data": {
      "text/html": [
       "<div>\n",
       "<style scoped>\n",
       "    .dataframe tbody tr th:only-of-type {\n",
       "        vertical-align: middle;\n",
       "    }\n",
       "\n",
       "    .dataframe tbody tr th {\n",
       "        vertical-align: top;\n",
       "    }\n",
       "\n",
       "    .dataframe thead th {\n",
       "        text-align: right;\n",
       "    }\n",
       "</style>\n",
       "<table border=\"1\" class=\"dataframe\">\n",
       "  <thead>\n",
       "    <tr style=\"text-align: right;\">\n",
       "      <th></th>\n",
       "      <th>name</th>\n",
       "      <th>smiles</th>\n",
       "      <th>ROMol</th>\n",
       "    </tr>\n",
       "  </thead>\n",
       "  <tbody>\n",
       "    <tr>\n",
       "      <th>0</th>\n",
       "      <td>CHEMBL275366</td>\n",
       "      <td>NC(N)=NCCC[C@H](NC(=O)[C@@H]1CCCN1C(=O)[C@@H](...</td>\n",
       "      <td style=\"text-align: center;\"><img data-content=\"rdkit/molecule\" src=\"data:image/png;base64,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\" alt=\"Mol\"/></td>\n",
       "    </tr>\n",
       "    <tr>\n",
       "      <th>1</th>\n",
       "      <td>PEP1</td>\n",
       "      <td>N=C(N)c2ccc(C[C@H](N)C(=O)N1CCC[C@H]1C(=O)N[C@...</td>\n",
       "      <td style=\"text-align: center;\"><img data-content=\"rdkit/molecule\" src=\"data:image/png;base64,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\" alt=\"Mol\"/></td>\n",
       "    </tr>\n",
       "    <tr>\n",
       "      <th>2</th>\n",
       "      <td>PEP2</td>\n",
       "      <td>N/C(N)=N\\CCC[C@H](NC(=O)[C@@H]1CCCN1C(=O)[C@@...</td>\n",
       "      <td style=\"text-align: center;\"><img data-content=\"rdkit/molecule\" src=\"data:image/png;base64,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\" alt=\"Mol\"/></td>\n",
       "    </tr>\n",
       "  </tbody>\n",
       "</table>\n",
       "</div>"
      ],
      "text/plain": [
       "           name                                             smiles  \\\n",
       "0  CHEMBL275366  NC(N)=NCCC[C@H](NC(=O)[C@@H]1CCCN1C(=O)[C@@H](...   \n",
       "1          PEP1  N=C(N)c2ccc(C[C@H](N)C(=O)N1CCC[C@H]1C(=O)N[C@...   \n",
       "2          PEP2   N/C(N)=N\\CCC[C@H](NC(=O)[C@@H]1CCCN1C(=O)[C@@...   \n",
       "\n",
       "                                               ROMol  \n",
       "0  <img data-content=\"rdkit/molecule\" src=\"data:i...  \n",
       "1  <img data-content=\"rdkit/molecule\" src=\"data:i...  \n",
       "2  <img data-content=\"rdkit/molecule\" src=\"data:i...  "
      ]
     },
     "execution_count": 7,
     "metadata": {},
     "output_type": "execute_result"
    }
   ],
   "source": [
    "molecules = pd.DataFrame({\"name\": names, \"smiles\": smiles})\n",
    "PandasTools.AddMoleculeColumnToFrame(molecules, \"smiles\")\n",
    "molecules"
   ]
  },
  {
   "cell_type": "code",
   "execution_count": 8,
   "metadata": {},
   "outputs": [
    {
     "data": {
      "text/html": [
       "<div>\n",
       "<style scoped>\n",
       "    .dataframe tbody tr th:only-of-type {\n",
       "        vertical-align: middle;\n",
       "    }\n",
       "\n",
       "    .dataframe tbody tr th {\n",
       "        vertical-align: top;\n",
       "    }\n",
       "\n",
       "    .dataframe thead th {\n",
       "        text-align: right;\n",
       "    }\n",
       "</style>\n",
       "<table border=\"1\" class=\"dataframe\">\n",
       "  <thead>\n",
       "    <tr style=\"text-align: right;\">\n",
       "      <th></th>\n",
       "      <th>molecular_weight</th>\n",
       "      <th>n_hba</th>\n",
       "      <th>n_hbd</th>\n",
       "      <th>logp</th>\n",
       "    </tr>\n",
       "  </thead>\n",
       "  <tbody>\n",
       "    <tr>\n",
       "      <th>0</th>\n",
       "      <td>418.232853</td>\n",
       "      <td>5</td>\n",
       "      <td>5</td>\n",
       "      <td>-0.82960</td>\n",
       "    </tr>\n",
       "    <tr>\n",
       "      <th>1</th>\n",
       "      <td>460.254652</td>\n",
       "      <td>6</td>\n",
       "      <td>7</td>\n",
       "      <td>-1.54553</td>\n",
       "    </tr>\n",
       "    <tr>\n",
       "      <th>2</th>\n",
       "      <td>452.193881</td>\n",
       "      <td>5</td>\n",
       "      <td>5</td>\n",
       "      <td>-0.17620</td>\n",
       "    </tr>\n",
       "  </tbody>\n",
       "</table>\n",
       "</div>"
      ],
      "text/plain": [
       "   molecular_weight  n_hba  n_hbd     logp\n",
       "0        418.232853      5      5 -0.82960\n",
       "1        460.254652      6      7 -1.54553\n",
       "2        452.193881      5      5 -0.17620"
      ]
     },
     "execution_count": 8,
     "metadata": {},
     "output_type": "execute_result"
    }
   ],
   "source": [
    "molecules[\"molecular_weight\"] = molecules[\"ROMol\"].apply(Descriptors.ExactMolWt)\n",
    "molecules[\"n_hba\"] = molecules[\"ROMol\"].apply(Descriptors.NumHAcceptors)\n",
    "molecules[\"n_hbd\"] = molecules[\"ROMol\"].apply(Descriptors.NumHDonors)\n",
    "molecules[\"logp\"] = molecules[\"ROMol\"].apply(Descriptors.MolLogP)\n",
    "# Colors are used for plotting the molecules later\n",
    "molecules[\"color\"] = [\"red\", \"green\", \"blue\"]\n",
    "# NBVAL_CHECK_OUTPUT\n",
    "molecules[[\"molecular_weight\", \"n_hba\", \"n_hbd\", \"logp\"]]"
   ]
  },
  {
   "cell_type": "code",
   "execution_count": 9,
   "metadata": {},
   "outputs": [
    {
     "data": {
      "text/html": [
       "<div>\n",
       "<style scoped>\n",
       "    .dataframe tbody tr th:only-of-type {\n",
       "        vertical-align: middle;\n",
       "    }\n",
       "\n",
       "    .dataframe tbody tr th {\n",
       "        vertical-align: top;\n",
       "    }\n",
       "\n",
       "    .dataframe thead th {\n",
       "        text-align: right;\n",
       "    }\n",
       "</style>\n",
       "<table border=\"1\" class=\"dataframe\">\n",
       "  <thead>\n",
       "    <tr style=\"text-align: right;\">\n",
       "      <th></th>\n",
       "      <th>name</th>\n",
       "      <th>smiles</th>\n",
       "      <th>ROMol</th>\n",
       "      <th>molecular_weight</th>\n",
       "      <th>n_hba</th>\n",
       "      <th>n_hbd</th>\n",
       "      <th>logp</th>\n",
       "      <th>color</th>\n",
       "    </tr>\n",
       "  </thead>\n",
       "  <tbody>\n",
       "    <tr>\n",
       "      <th>0</th>\n",
       "      <td>CHEMBL275366</td>\n",
       "      <td>NC(N)=NCCC[C@H](NC(=O)[C@@H]1CCCN1C(=O)[C@@H](...</td>\n",
       "      <td style=\"text-align: center;\"><img data-content=\"rdkit/molecule\" src=\"data:image/png;base64,iVBORw0KGgoAAAANSUhEUgAAAMgAAADICAIAAAAiOjnJAAAABmJLR0QA/wD/AP+gvaeTAAAVr0lEQVR4nO3de1zOd/8H8Nd1XemonCZTTjGFEn45lLGcYmFu3ITb4cG9ZKSxDc0yNuNWY7TNqftGeHRPRVrp3iinTRu3kiRnsU7ClGqprtL1/v3xba0b1XXo47LL+/nwR32v7+dw5XV9vt/v53u4ZEQExhqbXN8dYIaJg8WE4GAxIThYTAgOFhOCg8WE4GAxIThYTAgOFhOCg8WE4GAxIThYTAgOFhOCg8WE4GAxIThYTAgOFhOCg8WE4GAxIThYTAgOFhOCg8WE4GAxIThYTAgOFhOCg8WE4GAxIThYTAgOFhOCg8WE4GAxIThYTAgOFhOCg8WE4GAxIThYTAgOFhOCg8WE4GAxIThYTAgOFhOCg8WE4GAxIThYTAgOFhOCg8WE4GAxIThYTAgOFhOCg8WE4GAxIThYTAgOFhOCg8WE4GAxIThYTAgOFhOCg8WE4GAxIThYTAgOFhOCg8WE4GAxIThYTAgOFhOCg8WE4GAxIThYTIiXIlgFBQX67sJLx8CDdfXq1QEDBnh6evbu3Xv//v1EpO8evTTIcKWnp1tbWwMwMzOT3mz//v2/++47fffrpWCwwbp27Vrbtm0BjBw5srCwMCQkRPoVQK9evSIjI1Uqlb77aMgMM1jXr1+3sbEB4OHhUVZWJi189OhRcHBwTbxcXV1jY2P1208DZoDBunHjhq2tLYARI0aUlpY+8SrH6/kwtGD98ssvnTp1AjB48ODffvutrtVKSkrWr18v7YEBcHNzy8jIeJ79NHgGFazMzEwpVa+//no9qapRUlISHBzcpk0bc3PzsLCw59DDl4fhBCszM9POzg7AwIEDi4uL1S949OhRAP369RPXt5eQgcxjZWdnDx069Pbt225ubocPH7a0tFS/bFZWFgAHBwdhvXsZGUiwQkJCbt265erqqmmqAFy7dg0crMZmIMG6fPkygCVLllhZWWlaloMlgoEEa+DAgQDWrVtHmp+0kYJlb2/f+N16icm0+J94AZWXl3ft2jUnJ+fgwYMTJkxQv2BVVZWFhUVFRUVJSYm5ubm4Hr5sDGTEMjU1Xb58OYCPP/5YpVKpX/D27dtKpbJ9+/acqsZlIMEC4O3t3avXkNat/xURoUGweAdLECN9d6DRGBsbL158fM4cWW4uJk+GkXrvjIMliOGMWABmzpR1744bN7Bnj7pFrl+/Dg6WAAYVLIUCK1cCwOrVUCrVKsIjliAGFSwAXl5wdkZWFr7/voE1S0pKkpOT09LSoEOwEhKe/IFJDGcfSyKXY8sWpKRgyBAAOH0abm4AUFyMq1eRno67d/cmJoZfuXIlMzOTiExMTBwcHF555RXtmouJgYcHAMTGVv/AJAYyj/WE+fPRsiXWrsWCBbh1C1euICur+qUhQz4+eXINAGNjYwcHhy5duqSkpJiZmR05cqRjx46aNvT22+jcGQBu3kRoaGO+hT87/WwKP/0UALKysHt39ZJhw1BYiJ9+wvHjjVC/uTlsbfHf/8LYGKdOISsLJibo3RtTp2LixClRUVFXr1599OhRWlpadHT0kSNHsrKyevbsefLkSU0bMjNDQAACAtC0aSN025DoZ1OYl4fffkNhIQoLq5fY2iIoCMOHo7y8cZqYNw++vjA1RVwc2reHnR0UCukVJ8Cp9prdunWLjo4ePXr08OHDN2zY8N5776nfijRc1f6BSfQzYmVnY/duREX9saRNG9jaIimpESovL0eLFlAoMHs2WrTA0KF47bWaVD3bqFGjgoKCZDLZ8uXLZ8+eXVFRoX5bJ04AgCaz/S8F/QTLzg5+fpg1CwDOn0duLgDMn4/Dhxuh8hUrcOAATp+GqytWrVK31JIlS6ZPny6XyyMjI/v373/37t0Gi1RVIT8fBw5AqUROjk59Njz6Cdb06QBgbY0RI2BpiW+/xaRJUCiwfTvKy+Hjo33N9+5h2zakpaFJE43L7tixw8nJSaVSXbp0ydHR8ezZs89c7dIlBAXBwwO9ewOAry+Cg7XvsMHS7wWsRJSSQsePV/+8ZQvZ2pIud828/z4BNGGClsUfPHhgY2Mjl8tlMpm5ufmOHTuk5Xfu3Nm9e/eSJUdbtyag+p9CQT4+RESffkrz5tHt21RVpX3PDYyeg1VZScHBdPhw9a/Z2fTwofa15eWRuTnJZJSUpH0laWlpFhYW0qfO1NR06NChzs7O0q8DBkwA6NVXaeZMioyk/Hw6doyIqKSEtmyhV16hadOoslL7pvWuvJwuXiQiysykW7dIunPg6lVtqtL/iPW0X34hT0+6cEHjgmvWRLdpc0fr4apGVFSUQqEAIJdX7ypYWFiMHTt269addf2Vf/yRmjYlgGbMoMePde2AvuTmUufOlJtLGzfS+vV07hwRka+vNlW9iME6doyCgjT+6Ofl5ZmZmZmbm6el3dWxA8d/n0xzdnZu1qzZqlWrlEplg6USE8nKigDy8lK38yqV6vjx435+fnfv6trnRpGbSytXkp9fdbDefZcCA2nIEG2qehGDVUOjxyssXrwYwMSJE3VvNyAgAMDChQv79u0L4MiRI2oW/PlnsrIiS0uVr++WynrDlZ2d/cknn7z66qvNmzc3Njb29va+d++e7j3XUW4urV9PYWE0ZgytX09nz1JlJS1YoE1VL26wTp065efnp+bKeXl55ubmMpksNTVV96bd3NwAREREKBQKY2PjkpIS9cueOUMDBy4FMGnSpIqKiideVSqVBw4ceOONN8zMzGqegQNAJpM5OjrqfdySgkVEw4bRF1/Q+fNERIsWUVoa7dlDv/6qQVUvbrBUKtXDp/bkKysr8/PzMzIyzp07d/z48ejo6N27d3/55ZdSFHr27Hn27Fkd2y0uLm7SpImRkVFYWBgAd3d3TWs4d+5cq1atAIwZM6a8vFxamJ6e7uvra2lpWXN3mlwut7S0tLKyMjIykhY6ODjk5ubq2H9dnDtHEyfSvn3PeOnHH+naNQ2qenGDRUQqlSozM9PV1bV79+42NjY1B2vP1K1bNwBOTk7q7A/Vo+j770+4u6/18vL19QWwevVqLSpJTk5u2bKllK2QkJCePXtKnTQyMjIyMmrduvWgQYOWLFnyzTffpKamKpXKgoICFxcXAPb29jk5Obr0Xxdr1xJA77zz5PKzZ2ntWsrP16CqRguWSqUqKCi4detWI/5doqOjW7duXTs9crm8RYsWdnZ2vXv3dnd3Hzdu3MyZMwcPHqxQKLZt29ajRw8AK1as0KnVxYsJoI8/rvq///u1b9/bP/+sXTXnz59v2rRp27ZtW7du7ebmtnjx4tDQ0KSkpEePHj1z/YKCgn79+gHo2rVrdna2Dm9Ae8OHE0D79z+5/MEDysggNZ6G8QcNgpWYmPiPf/zD39/fx8dn6tSpnp6eAwcOdHR0bNeuXe2bjydOnBgUFKRBF+qgUqmkfef3338/PT09Ozu7ricyhIaGAmjZsuWhQ4cUCoWRkVFycrL2DTs7E0BRUSSTUdOm9NR+kvqkhyWlp6eruf7Dhw/79+8PoFOnTrdu3VK/oaef1qSFsjIyMyOZTLN9qbqoG6w1a9aMHj26/kn85s2bd+jQQdon1f2hU1FRUQDatm2rzl/N09MTwLhx4xYtWiSXyQ5Nm6ZlIO7dI5mMzM0pNJQAGj1am0qIiEi6ObtNmzYaHds+fPhwwIABADp27Fh/tqqqqpKTkwMDA0eMGGFhYbF06dJj0nStto4dI4B699aljj+oFazc3FxTU1OZTPb3v/89MDBw27Zte/fu3bdvX0RERHh4+L59+8LCwkJDQyMjI4koODhYCkRBQYHW3VKpVL169QKwefNmddbPysqSbq4P37v3rqcnAaTVvhGFhxNAHh40ezYB9MUX2lRCRERff/01gL/97W+aFiwsLHR1dQXQoUOHmzdvPvFqTk7Orl27pkyZUvuqV2k619zcPCEhQesOBwZGDBlyYvXq+1rXUJtawfLz8wMwefJkItqzZ09d93Y6OTkRUVVV1eDBgwHMmTNH625pNFxJ/hUSEuXururYkaKjSSYjY2NKS9O44R9+IC8v2rqVOnYkoPqAWyvSDdk7d+7UomxRUZF0nNu+ffubN2+WlpYmJCT4+/u7uLjIZLKaP7idnZ2Pj09kZGR+fr50qGFiYqL1tkIaKRvr4b8NB+vOnTtmZmYymezChQtEFB4eLn1EWrRo0blz5z59+gwZMuQvf/nLrFmzVq5cKRW5du2atEHUrpeaDlc1xWjkSAJo6lSaP58A6tNH4w3i/fu0bh0FBtKJE/Tll1qfVX78+LF0VHj79m3taiguLn799delHQxTU9OaMFlaWo4bN27z5s3Xr1+vvb5KpZo/fz4AU1PT+PgzWjQnHbFq9GixejQcrIULFwLw8vKSfq2oqFDnYXmff/45AFtb26fnohp04MABADY2Nhrvk96+TZaWBFBYWPWQExOjWQ0+PvTwIRUU0Lx5mhX8X0lJSQA6d+6sSyUlJSWjRo2aMmWKXC53cXHx9/dPSEiomRh7mkqlevfdd11cRllZlX37rWZtxcbGAhg0aJAuHa6tgWBJw5VcLr+g4Tnhqqoq6Qkw8zT8H6oZrrZs2aJRwWpff03SFQgxMdpcf1PT26cnczQRGBgIYO7cubpUIrl3796vah+nqVSqDz6oAMjYWIPPVHl5+aRJkwDUbHN010CwpOFqypQpWlR95coVaZdf/XNt9Ptw1b59+3o+mvWpqqI33qA5c+j+fdq0iVavJk1ap7ffpspKqqwkb29tWv+dh4cHgPDwcF0q0dpHHxFATZpQVFR9q2VkZISEhEyePFk67rG2tp4xY0Zj9aG+YNUMV2la7AUTEdGaNWukWRk1t9y6DlcSKZGbNpE0m7V4Md1X+0jn8mUKCKAVK+jKFa3bVyqVFhYWMplMj+f+li0jgLp0qb6+raysencxP58iIujtt2nUqD8uppbJZK+99pqRkREAf3//RulAfcGSDjS0G64klZWV0pkKNU8n79+/X6fhqraabVloKGk7e66dEydOAHB2dn6ejT4tKIgSE6lHDyotpc8/p02bqH9/UiiqL381N6f27bvOmDFj165dBw4cKCsri4uLMzExkWakdW+9ztu/8vLydu3aJZfLpWtItGNkZLRr165+/fpt2bLF3t6+U6dORUVFRUVFxcXFhYWFhYWFRbUUFxffu3cPwPLly6V3qJNu3ZCcjL59ceECxo7VtTY1ZGZmxsfHx8fH379/H8Dw4cOfQ6P1WLYM2dkYNgwbN8LYGL/+irNnYWQEFxeMHQtnZ+Tnb46J+crPz+/Ro0fx8fFjxoyJiIjw8vLauHFjy5buH300rtbMhubqStyCBQsATJ06VevM1sw4v/fee+oHJS4urhGGKyJSKqv3seLjG6G2upSUUFzc/lWraj/9QZrni9H0gFSArCzatInWrCEfHzp9mv7zH0pJoblzq4+Y3d3PAJDJZM7OzocOHZKKHDp0aPjwZQD5+ZEu3zb07Fvs79y507lz58rKyosXL0pndrUQEBBw6dKldevWffXVV9u3b2/btm2fPn2a/a558+bN/peVlZW0XLvmnqsLF/D994iPx08/oaIi9Y03+vz4o4WFhZub27Bhw/Lz87dt2zZy5MjIyMgmWtwt1HiysxEVhXnz0KcPjh5Fu3ZISYGLCwBYW8PL62HfvrEjR46s+QIYyeHDmDAB5eWYOxfbt0Ou3Z1cz4xbaWnp2LFjW7ZsWVJSkpqa6u7uLj1CQ30PHjyQzkzHxcXpeATwArl2jWJi6MEDeuutP+7UcXUtCgyMjY3dt2/fzJkzpXlR6Qqfv/71r09f6/c8KZUkXZeak0PSxURVVbRhA50718DU75EjZGZGAHl7azlJ/Oxg1ex0L1q0SJrhePPNNzWq98MPPwQwevRo3TepL4pTp2jVKkpLo5kzaccO8vamsDA6eJD8/cnFZYCNTc1ntUuXLitXrnz6Wr8/l/h4MjMjNzf66Sciopwcysgg6fTvpUsNF69zHys1NbVJkyZyuTw2Nla6KCo0NFTNPtUMVzExMSYmJgYyXC1dSkVFRET791NMDA0fTiYmNTcZhnt4jB8/fuvWrTWnjaVr/d7t1aty8mTS7dpDffn5Z8rJoQ4d6MYN+uc/acMG+uEHIqKFCxsuW990w4oVKwDY29vv3LkTQLNmzdS8AE0arsaMGSMNV9OmTVPrfbzg1q4l6TqW7dspKYns7EguJxcX8venhIRnRufS+fOqDh0IoLFj6c85bhUV0Ycf0jvvVAfL25vWrKGBAxsuWF+wlEqlk5MTgKVLl44fP17KSoM11gxXsbGx0nB1UboJ8s/u7l1auJA++4yWLyciSk6mBw8aLpWaStLd02++Sb9/JeefSFERffIJHTpEnp6NN2IRUUpKirRBjImJadGiBYB///vf9Rfx9/eXIiidbDeQ4UoXaWlkbU0AffqpvruiseJiki4H9vKir76ixEQiog8+oMuXae9equcq9Iavbli2bBmAbt26bd++HUCrVq3qOVNhsMOVjtLTadYsKi+nffvos88oIYHS0kjaGzt4UN+d01JSEp2p+/KchucoVq9e3aNHj6tXr2ZnZ48aNSo/P3/t2rV1rfz48WMvL6/x48d/9913SqVy6tSp0sb0ZefoiD17cPQoKiqwYgVOnsTJk8jOBoBjx/TdOW2kpiI8HO3a1bmCWs8gPXPmzKBBg2QyWXR0dGJi4sqVK+v/gpDMzEwHB4fHjx9fvHixe/fuWvTbMK1eDW9v2NjgxAnExaGoCHZ2iIvD6dP67pnGyspQXg5zc9R1SkWtR0W6urr6+fkFBwcHBAQkJSUZGxvXfrW4uPiJU34hISFKpXL69Omcqv9hb4+LF2Fjg7Q02NjgrbcwZAjy8vTdLW2YmaHWjdzPoO5Tk0tLS52dnTMyMhwdHVu1alX7RPLTNSgUCmdn52+++Ua6iZRVq6rCxo2oqIC1NRwdYWUFJyeEhGDePH33rPFp8DjukydPhoaG7t2794nlTZs2feKUX/PmzTdv3qzf02RMvzR7zntZWVl8fPwTJ5IV9T84lr2UDPMLBJjeGdp36bAXBAeLCcHBYkJwsJgQHCwmBAeLCcHBYkJwsJgQHCwmBAeLCcHBYkJwsJgQHCwmBAeLCcHBYkJwsJgQHCwmBAeLCcHBYkJwsJgQHCwmBAeLCcHBYkJwsJgQHCwmBAeLCcHBYkJwsJgQHCwmBAeLCcHBYkJwsJgQHCwmBAeLCcHBYkJwsJgQHCwmBAeLCcHBYkJwsJgQHCwmBAeLCcHBYkJwsJgQHCwmBAeLCcHBYkJwsJgQHCwmBAeLCcHBYkJwsJgQHCwmBAeLCcHBYkJwsJgQHCwmBAeLCcHBYkJwsJgQHCwmBAeLCcHBYkJwsJgQHCwmBAeLCcHBYkJwsJgQ/w/Kn4q2ZbULuQAAAiB6VFh0cmRraXRQS0wgcmRraXQgMjAyMi4wMy40AAB4nHu/b+09BiDgZYAARiCWA2J5IG5gZGfIANLMjExsDBogBgtcgB0iwMzGkACkmZgwaAUTEM0I08HECDOCA0IjVOAyAmEFNo2MIKNBChkRGh0gCtkcwFYyMxLFQDOdA+pDRm4GRgVGJgVGZg0mZhYGFlYGVjYGdjYWRnYOBg5OBU4uDSZuThZGbh4GHl4GXj4GPn4GfgEFAUENJgEhBiFhFiYhEQYRUQZRsQwmMfEEcYkMJgnJBEmpDCZ2aQZpGQ0maVkFfm4GKdEEESZWbh5ePn42MXEJSSlR8SJGSCyAgdyJE9qOPbMf7QdxNm+WcpxZYw5mLzik4HhH2MYexN7Yz+zovrIPLG7+9YkDU2PlXhDbeO02B547r/aB2JzNUxwqfSTA6jnKfBx4bnnagdhbFDkcGiUWgMVXuenZ80RHgdnr18+yyzSVBJvpJ3ps31GuL2Bxx1eq+za+j3AAsfuTDuxn+NUIZj+fr3xg9Xx7MNvvy7v9LAevgNWX1ikd+J63BGzXl6jb+zsK88Bm3tdsPHA8PA8sHjNp9oFq+X1g9axrph3wu9ULVrNq2rEDwtozwewLEncO6GYoHQCxdzGyHewX0ACzf5oKH5xzZj1YzbMSjoNbX7GA/a7+/8GBZ7qptiB2sJWJw8+eBWA1U0PW238pvwxmr+ircJDZKgw2RwwAHGeO+fHfCYUAAALAelRYdE1PTCByZGtpdCAyMDIyLjAzLjQAAHicfVVLjhQxDN33KXKBifx3vGAx0zMghOiWYOAO7Lm/sFPMVJAi6mNVpV859vOz+9Lq+Pb85dfv9n7Q8+XSGvznioj2kwHg8rXVQ3t6+fT51q6vj09vK9f7j9vr95ZPjPlNnv9iH1/vX99WsN0aQnc2xWgP2N2BnRp0mMf5LbVri242Rv78kJ+guegGyIdLEFe0Vr7FfGyAksDRiUgH1taIooIboObW3lElWGprMAiUDdASqN1hmMwYRYcjbICeQOkmSWeloCGBvsGNxHHHEIfaD8ORdhFGpkIdyUG9YScFl13KGcw1l22AW3EzlEJ3bCO2ey4zENJMRWOI77bGKkwCeGRpMDcPMPXYIflAohGQZV48wnhHT5J7rYoopNJGMgWGbjuCsGrzQF3VjDU5iBCkrU9LjtLnSAlxxWlGKFuk//VZ8RWLTIi6zWgkSyVa5Lwqt2CU/fZRTjMTNrbikZhcdynl57dCDsM8M1AZymw7JB4+U3ASs3sQRsp5B51Vsk6gIw61RxKw3Z8P6PABFAcRbrCTE806jc6uUjKhbmSAO5nQLFRkAGDuFQBnY/K20+3wqpSJx2w4JtEdqzRL5QnI5p3JqO4FTdVK1Adadm9tTyqp7h0ysqgZnoXbJNWUIHbp53VPGY/BDl7ZM3jQTigvt+d/xt4xCJ/ut+dzENZJ57TLl8bnTKM85ZxcmLee8wnztnMKYd5+zhrMOZJEffz0Ac/BUotxzg+se50TVAZxGQhYvV4TZHVUS9Pw0uY4jSztjNPo0rY4jS3tidP40oZUBsfSbjhXYukqLENHVLz00LGOS69gGaKlJaQM8aJ8KUOyCFzKkC46rtcU6SJXKUO+qLLYpbGIj6aJRWRYK7yK6SDgPUCuIqevM+SS0Sqaen/7583nyx9Y4XNcfe0oqwAAAXN6VFh0U01JTEVTIHJka2l0IDIwMjIuMDMuNAAAeJxNUTmOHDEQ+4rDGUBTqEN1obGAgU4czT7AcLTf2MebpWg7UlMskmK978f7+fG+7/vv/fvPv8f7fnx8PnHGjwB9yw8A1PtLvuaT58E/f30/hCktfL2EMtlyXU0RVbleuJHI7esCiXf6Gu6OrHUVqarXjIls3+tKEt9tM8bBLYCckiv2QNsrZV2bYgtkvHcLvIykdwKQTlEQlESTYwmpMxwvpijOCHDKtV0HMlZRHV3v2iOMoxViCyabA8kGklDWWIa7DgMk5GwsayOjJAK8lNwDd0rdW/RwCgUYhCJ0njEcCExMUxHvQ0oxGMOkTfbMQdPCJqiapueBKpABUrvc9kFQyWlbuHTGgpS9+kAdJ2VQZTGqHOOMeV6RpcMGUGjwQI1BjrMCw1rssFzLT+Fsup3HMnFGauRi91OgUkmg5Ne0PINQiEYdAMJnDUZV53mKrhNbfX7/B7ZDfuYdorLoAAAAAElFTkSuQmCC\" alt=\"Mol\"/></td>\n",
       "      <td>418.232853</td>\n",
       "      <td>5</td>\n",
       "      <td>5</td>\n",
       "      <td>-0.82960</td>\n",
       "      <td>red</td>\n",
       "    </tr>\n",
       "    <tr>\n",
       "      <th>1</th>\n",
       "      <td>PEP1</td>\n",
       "      <td>N=C(N)c2ccc(C[C@H](N)C(=O)N1CCC[C@H]1C(=O)N[C@...</td>\n",
       "      <td style=\"text-align: center;\"><img data-content=\"rdkit/molecule\" src=\"data:image/png;base64,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\" alt=\"Mol\"/></td>\n",
       "      <td>460.254652</td>\n",
       "      <td>6</td>\n",
       "      <td>7</td>\n",
       "      <td>-1.54553</td>\n",
       "      <td>green</td>\n",
       "    </tr>\n",
       "    <tr>\n",
       "      <th>2</th>\n",
       "      <td>PEP2</td>\n",
       "      <td>N/C(N)=N\\CCC[C@H](NC(=O)[C@@H]1CCCN1C(=O)[C@@...</td>\n",
       "      <td style=\"text-align: center;\"><img data-content=\"rdkit/molecule\" src=\"data:image/png;base64,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\" alt=\"Mol\"/></td>\n",
       "      <td>452.193881</td>\n",
       "      <td>5</td>\n",
       "      <td>5</td>\n",
       "      <td>-0.17620</td>\n",
       "      <td>blue</td>\n",
       "    </tr>\n",
       "  </tbody>\n",
       "</table>\n",
       "</div>"
      ],
      "text/plain": [
       "           name                                             smiles  \\\n",
       "0  CHEMBL275366  NC(N)=NCCC[C@H](NC(=O)[C@@H]1CCCN1C(=O)[C@@H](...   \n",
       "1          PEP1  N=C(N)c2ccc(C[C@H](N)C(=O)N1CCC[C@H]1C(=O)N[C@...   \n",
       "2          PEP2   N/C(N)=N\\CCC[C@H](NC(=O)[C@@H]1CCCN1C(=O)[C@@...   \n",
       "\n",
       "                                               ROMol  molecular_weight  n_hba  \\\n",
       "0  <img data-content=\"rdkit/molecule\" src=\"data:i...        418.232853      5   \n",
       "1  <img data-content=\"rdkit/molecule\" src=\"data:i...        460.254652      6   \n",
       "2  <img data-content=\"rdkit/molecule\" src=\"data:i...        452.193881      5   \n",
       "\n",
       "   n_hbd     logp  color  \n",
       "0      5 -0.82960    red  \n",
       "1      7 -1.54553  green  \n",
       "2      5 -0.17620   blue  "
      ]
     },
     "execution_count": 9,
     "metadata": {},
     "output_type": "execute_result"
    }
   ],
   "source": [
    "# Full preview\n",
    "molecules"
   ]
  },
  {
   "cell_type": "code",
   "execution_count": 10,
   "metadata": {},
   "outputs": [],
   "source": [
    "#To plot the molecule properties\n",
    "ro5_properties = {\n",
    "    \"molecular_weight\": (500, \"molecular weight (Da)\"),\n",
    "    \"n_hba\": (10, \"# HBA\"),\n",
    "    \"n_hbd\": (5, \"# HBD\"),\n",
    "    \"logp\": (5, \"logP\"),\n",
    "}"
   ]
  },
  {
   "cell_type": "code",
   "execution_count": 11,
   "metadata": {},
   "outputs": [
    {
     "data": {
      "image/png": "[encoded data removed]",
      "text/plain": [
       "<Figure size 720x180 with 4 Axes>"
      ]
     },
     "metadata": {
      "needs_background": "light"
     },
     "output_type": "display_data"
    }
   ],
   "source": [
    "# Start 1x4 plot frame\n",
    "fig, axes = plt.subplots(figsize=(10, 2.5), nrows=1, ncols=4)\n",
    "x = np.arange(1, len(molecules) + 1)\n",
    "colors = [\"red\", \"green\", \"blue\"]\n",
    "\n",
    "# Create subplots\n",
    "for index, (key, (threshold, title)) in enumerate(ro5_properties.items()):\n",
    "    axes[index].bar([1,2,3], molecules[key], color=colors)\n",
    "    axes[index].axhline(y=threshold, color=\"black\", linestyle=\"dashed\")\n",
    "    axes[index].set_title(title)\n",
    "    axes[index].set_xticks([])\n",
    "\n",
    "# Add legend\n",
    "legend_elements = [\n",
    "    mpatches.Patch(color=row[\"color\"], label=row[\"name\"]) for index, row in molecules.iterrows()\n",
    "]\n",
    "legend_elements.append(Line2D([0], [0], color=\"black\", ls=\"dashed\", label=\"Threshold\"))\n",
    "fig.legend(handles=legend_elements, bbox_to_anchor=(1.2, 0.8))\n",
    "\n",
    "# Fit subplots and legend into figure\n",
    "plt.tight_layout()\n",
    "plt.show()"
   ]
  },
  {
   "cell_type": "markdown",
   "metadata": {},
   "source": [
    "### Investigate compliance with Ro5"
   ]
  },
  {
   "cell_type": "code",
   "execution_count": 12,
   "metadata": {},
   "outputs": [],
   "source": [
    "def calculate_ro5_properties(smiles):\n",
    "    \"\"\"\n",
    "    Test if input molecule (SMILES) fulfills Lipinski's rule of five.\n",
    "\n",
    "    Parameters\n",
    "    ----------\n",
    "    smiles : str\n",
    "        SMILES for a molecule.\n",
    "\n",
    "    Returns\n",
    "    -------\n",
    "    pandas.Series\n",
    "        Molecular weight, number of hydrogen bond acceptors/donor and logP value\n",
    "        and Lipinski's rule of five compliance for input molecule.\n",
    "    \"\"\"\n",
    "    # RDKit molecule from SMILES\n",
    "    molecule = Chem.MolFromSmiles(smiles)\n",
    "    # Calculate Ro5-relevant chemical properties\n",
    "    molecular_weight = Descriptors.ExactMolWt(molecule)\n",
    "    n_hba = Descriptors.NumHAcceptors(molecule)\n",
    "    n_hbd = Descriptors.NumHDonors(molecule)\n",
    "    logp = Descriptors.MolLogP(molecule)\n",
    "    # Check if Ro5 conditions fulfilled\n",
    "    conditions = [molecular_weight <= 500, n_hba <= 10, n_hbd <= 5, logp <= 5]\n",
    "    ro5_fulfilled = sum(conditions) >= 3\n",
    "    # Return True if no more than one out of four conditions is violated\n",
    "    return pd.Series(\n",
    "        [molecular_weight, n_hba, n_hbd, logp, ro5_fulfilled],\n",
    "        index=[\"molecular_weight\", \"n_hba\", \"n_hbd\", \"logp\", \"ro5_fulfilled\"],\n",
    "    )"
   ]
  },
  {
   "cell_type": "code",
   "execution_count": 13,
   "metadata": {},
   "outputs": [
    {
     "name": "stdout",
     "output_type": "stream",
     "text": [
      "Ro5 fulfilled for CHEMBL275366: True\n",
      "Ro5 fulfilled for PEP1: True\n",
      "Ro5 fulfilled for PEP2: True\n"
     ]
    }
   ],
   "source": [
    "# NBVAL_CHECK_OUTPUT\n",
    "for name, smiles in zip(molecules[\"name\"], molecules[\"smiles\"]):\n",
    "    print(f\"Ro5 fulfilled for {name}: {calculate_ro5_properties(smiles)['ro5_fulfilled']}\")"
   ]
  }
 ],
 "metadata": {
  "kernelspec": {
   "display_name": "Python 3 (ipykernel)",
   "language": "python",
   "name": "python3"
  },
  "language_info": {
   "codemirror_mode": {
    "name": "ipython",
    "version": 3
   },
   "file_extension": ".py",
   "mimetype": "text/x-python",
   "name": "python",
   "nbconvert_exporter": "python",
   "pygments_lexer": "ipython3",
   "version": "3.9.12"
  },
  "toc-autonumbering": true,
  "widgets": {
   "application/vnd.jupyter.widget-state+json": {
    "state": {},
    "version_major": 2,
    "version_minor": 0
   }
  }
 },
 "nbformat": 4,
 "nbformat_minor": 4
}
