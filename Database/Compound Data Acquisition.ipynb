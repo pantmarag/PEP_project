{
 "cells": [
  {
   "cell_type": "markdown",
   "metadata": {},
   "source": [
    "# Compound data acquisition (ChEMBL)"
   ]
  },
  {
   "cell_type": "markdown",
   "metadata": {},
   "source": [
    "### Contents synopsis\n",
    "    \n",
    "**Goal: Get a list of compounds with bioactivity data for a given target**\n",
    "\n",
    "* Connect to ChEMBL database\n",
    "* Get target data (example: EGFR kinase)\n",
    "    * Fetch and download target data\n",
    "    * Select target ChEMBL ID\n",
    "* Get bioactivity data\n",
    "    * Fetch and download bioactivity data for target\n",
    "    * Preprocess and filter bioactivity data\n",
    "* Get compound data\n",
    "    * Fetch and download compound data\n",
    "    * Preprocess and filter compound data\n",
    "* Output bioactivity-compound data\n",
    "    * Merge bioactivity and compound data, and add pIC50 values\n",
    "    * Draw molecules with highest pIC50\n",
    "    * Freeze bioactivity data to ChEMBL 27\n",
    "    * Write output file"
   ]
  },
  {
   "cell_type": "markdown",
   "metadata": {},
   "source": [
    "#### pIC50 value\n",
    "\n",
    "* To facilitate the comparison of IC50 values, which have a large value range and are given in different units (M, nM, ...), often pIC50 values are used\n",
    "* The pIC50 is the negative log of the IC50 value when converted to molar units: \n",
    "    $ pIC_{50} = -log_{10}(IC_{50}) $, where $ IC_{50}$ is specified in units of M\n",
    "* Higher pIC50 values indicate exponentially greater potency of the drug\n",
    "* Note that the conversion can be adapted to the respective IC50 unit, e.g. for nM: $pIC_{50} = -log_{10}(IC_{50}*10^{-9})= 9-log_{10}(IC_{50}) $\n",
    "\n",
    "Other activity measures:\n",
    "\n",
    "Besides, IC50 and pIC50, other bioactivity measures are used, such as the equilibrium constant [KI](https://en.wikipedia.org/wiki/Equilibrium_constant) and the half maximal effective concentration  [EC50](https://en.wikipedia.org/wiki/EC50)."
   ]
  },
  {
   "cell_type": "markdown",
   "metadata": {},
   "source": [
    "### Connect to ChEMBL database"
   ]
  },
  {
   "cell_type": "markdown",
   "metadata": {},
   "source": [
    "First, the ChEMBL webresource client is installed, and Python libraries are imported."
   ]
  },
  {
   "cell_type": "code",
   "execution_count": 24,
   "metadata": {},
   "outputs": [
    {
     "name": "stdout",
     "output_type": "stream",
     "text": [
      "Requirement already satisfied: chembl_webresource_client in /opt/conda/lib/python3.9/site-packages (0.10.8)\n",
      "Requirement already satisfied: easydict in /opt/conda/lib/python3.9/site-packages (from chembl_webresource_client) (1.10)\n",
      "Requirement already satisfied: requests-cache~=0.7.0 in /opt/conda/lib/python3.9/site-packages (from chembl_webresource_client) (0.7.5)\n",
      "Requirement already satisfied: urllib3 in /opt/conda/lib/python3.9/site-packages (from chembl_webresource_client) (1.26.9)\n",
      "Requirement already satisfied: requests>=2.18.4 in /opt/conda/lib/python3.9/site-packages (from chembl_webresource_client) (2.27.1)\n",
      "Requirement already satisfied: idna<4,>=2.5 in /opt/conda/lib/python3.9/site-packages (from requests>=2.18.4->chembl_webresource_client) (3.3)\n",
      "Requirement already satisfied: charset-normalizer~=2.0.0 in /opt/conda/lib/python3.9/site-packages (from requests>=2.18.4->chembl_webresource_client) (2.0.12)\n",
      "Requirement already satisfied: certifi>=2017.4.17 in /opt/conda/lib/python3.9/site-packages (from requests>=2.18.4->chembl_webresource_client) (2022.6.15)\n",
      "Requirement already satisfied: attrs<22.0,>=21.2 in /opt/conda/lib/python3.9/site-packages (from requests-cache~=0.7.0->chembl_webresource_client) (21.4.0)\n",
      "Requirement already satisfied: itsdangerous>=2.0.1 in /opt/conda/lib/python3.9/site-packages (from requests-cache~=0.7.0->chembl_webresource_client) (2.1.2)\n",
      "Requirement already satisfied: url-normalize<2.0,>=1.4 in /opt/conda/lib/python3.9/site-packages (from requests-cache~=0.7.0->chembl_webresource_client) (1.4.3)\n",
      "Requirement already satisfied: pyyaml>=5.4 in /opt/conda/lib/python3.9/site-packages (from requests-cache~=0.7.0->chembl_webresource_client) (6.0)\n",
      "Requirement already satisfied: six in /opt/conda/lib/python3.9/site-packages (from url-normalize<2.0,>=1.4->requests-cache~=0.7.0->chembl_webresource_client) (1.16.0)\n"
     ]
    }
   ],
   "source": [
    "!pip install chembl_webresource_client\n",
    "\n",
    "import math\n",
    "from pathlib import Path\n",
    "from zipfile import ZipFile\n",
    "from tempfile import TemporaryDirectory\n",
    "\n",
    "import numpy as np\n",
    "import pandas as pd\n",
    "from rdkit.Chem import PandasTools\n",
    "from chembl_webresource_client.new_client import new_client\n",
    "from tqdm.auto import tqdm"
   ]
  },
  {
   "cell_type": "code",
   "execution_count": 63,
   "metadata": {},
   "outputs": [],
   "source": [
    "HERE = Path(_dh[-1])  #Determine the path we will be working in\n",
    "DATA = HERE / \"data\""
   ]
  },
  {
   "cell_type": "markdown",
   "metadata": {},
   "source": [
    "Next, we create resource objects for API access."
   ]
  },
  {
   "cell_type": "code",
   "execution_count": 64,
   "metadata": {},
   "outputs": [],
   "source": [
    "targets_api = new_client.target\n",
    "compounds_api = new_client.molecule\n",
    "bioactivities_api = new_client.activity"
   ]
  },
  {
   "cell_type": "code",
   "execution_count": 65,
   "metadata": {},
   "outputs": [
    {
     "data": {
      "text/plain": [
       "chembl_webresource_client.query_set.QuerySet"
      ]
     },
     "execution_count": 65,
     "metadata": {},
     "output_type": "execute_result"
    }
   ],
   "source": [
    "type(targets_api)"
   ]
  },
  {
   "cell_type": "markdown",
   "metadata": {},
   "source": [
    "### Get target data\n",
    "\n",
    "* Get UniProt ID of the target of interest (EGFR kinase:  [P00533](http://www.uniprot.org/uniprot/P00533)) from [UniProt website](https://www.uniprot.org/)\n",
    "* Use UniProt ID to get target information\n",
    "\n",
    "Select a different UniProt ID, if you are interested in another target."
   ]
  },
  {
   "cell_type": "code",
   "execution_count": 66,
   "metadata": {},
   "outputs": [],
   "source": [
    "# Target of interest : Thrombin with UniProt ID: P00734\n",
    "uniprot_id = \"P00734\" "
   ]
  },
  {
   "cell_type": "markdown",
   "metadata": {},
   "source": [
    "#### Fetch target data from ChEMBL"
   ]
  },
  {
   "cell_type": "code",
   "execution_count": 67,
   "metadata": {},
   "outputs": [
    {
     "name": "stdout",
     "output_type": "stream",
     "text": [
      "The type of the targets is \"<class 'chembl_webresource_client.query_set.QuerySet'>\"\n"
     ]
    }
   ],
   "source": [
    "# Get target information from ChEMBL but restrict it to specified values only\n",
    "targets = targets_api.get(target_components__accession=uniprot_id).only(\n",
    "    \"target_chembl_id\", \"organism\", \"pref_name\", \"target_type\"\n",
    ")\n",
    "print(f'The type of the targets is \"{type(targets)}\"')"
   ]
  },
  {
   "cell_type": "markdown",
   "metadata": {},
   "source": [
    "#### Download target data from ChEMBL\n",
    "\n",
    "The results of the query are stored in `targets`, a `QuerySet`, i.e. the results are not fetched from ChEMBL until we ask for it (here using `pandas.DataFrame.from_records`).\n",
    "\n",
    "More information about the `QuerySet` datatype:\n",
    "\n",
    "> QuerySets are lazy – the act of creating a QuerySet does not involve any database activity. You can stack filters together all day long, and Django will actually not run the query until the QuerySet is evaluated. \n",
    "([querysets-are-lazy](https://docs.djangoproject.com/en/3.0/topics/db/queries/#querysets-are-lazy))"
   ]
  },
  {
   "cell_type": "code",
   "execution_count": 68,
   "metadata": {},
   "outputs": [
    {
     "data": {
      "text/html": [
       "<div>\n",
       "<style scoped>\n",
       "    .dataframe tbody tr th:only-of-type {\n",
       "        vertical-align: middle;\n",
       "    }\n",
       "\n",
       "    .dataframe tbody tr th {\n",
       "        vertical-align: top;\n",
       "    }\n",
       "\n",
       "    .dataframe thead th {\n",
       "        text-align: right;\n",
       "    }\n",
       "</style>\n",
       "<table border=\"1\" class=\"dataframe\">\n",
       "  <thead>\n",
       "    <tr style=\"text-align: right;\">\n",
       "      <th></th>\n",
       "      <th>organism</th>\n",
       "      <th>pref_name</th>\n",
       "      <th>target_chembl_id</th>\n",
       "      <th>target_type</th>\n",
       "    </tr>\n",
       "  </thead>\n",
       "  <tbody>\n",
       "    <tr>\n",
       "      <th>0</th>\n",
       "      <td>Homo sapiens</td>\n",
       "      <td>Thrombin</td>\n",
       "      <td>CHEMBL204</td>\n",
       "      <td>SINGLE PROTEIN</td>\n",
       "    </tr>\n",
       "    <tr>\n",
       "      <th>1</th>\n",
       "      <td>Homo sapiens</td>\n",
       "      <td>Thrombin</td>\n",
       "      <td>CHEMBL204</td>\n",
       "      <td>SINGLE PROTEIN</td>\n",
       "    </tr>\n",
       "    <tr>\n",
       "      <th>2</th>\n",
       "      <td>Homo sapiens</td>\n",
       "      <td>Thrombin &amp; trypsin</td>\n",
       "      <td>CHEMBL2096988</td>\n",
       "      <td>SELECTIVITY GROUP</td>\n",
       "    </tr>\n",
       "    <tr>\n",
       "      <th>3</th>\n",
       "      <td>Homo sapiens</td>\n",
       "      <td>Thrombin and coagulation factor VII</td>\n",
       "      <td>CHEMBL2111477</td>\n",
       "      <td>SELECTIVITY GROUP</td>\n",
       "    </tr>\n",
       "    <tr>\n",
       "      <th>4</th>\n",
       "      <td>Homo sapiens</td>\n",
       "      <td>Thrombin and urokinase-type plasminogen activator</td>\n",
       "      <td>CHEMBL2111379</td>\n",
       "      <td>SELECTIVITY GROUP</td>\n",
       "    </tr>\n",
       "    <tr>\n",
       "      <th>5</th>\n",
       "      <td>Homo sapiens</td>\n",
       "      <td>Thrombin and coagulation factor X</td>\n",
       "      <td>CHEMBL2111401</td>\n",
       "      <td>SELECTIVITY GROUP</td>\n",
       "    </tr>\n",
       "  </tbody>\n",
       "</table>\n",
       "</div>"
      ],
      "text/plain": [
       "       organism                                          pref_name  \\\n",
       "0  Homo sapiens                                           Thrombin   \n",
       "1  Homo sapiens                                           Thrombin   \n",
       "2  Homo sapiens                                 Thrombin & trypsin   \n",
       "3  Homo sapiens                Thrombin and coagulation factor VII   \n",
       "4  Homo sapiens  Thrombin and urokinase-type plasminogen activator   \n",
       "5  Homo sapiens                  Thrombin and coagulation factor X   \n",
       "\n",
       "  target_chembl_id        target_type  \n",
       "0        CHEMBL204     SINGLE PROTEIN  \n",
       "1        CHEMBL204     SINGLE PROTEIN  \n",
       "2    CHEMBL2096988  SELECTIVITY GROUP  \n",
       "3    CHEMBL2111477  SELECTIVITY GROUP  \n",
       "4    CHEMBL2111379  SELECTIVITY GROUP  \n",
       "5    CHEMBL2111401  SELECTIVITY GROUP  "
      ]
     },
     "execution_count": 68,
     "metadata": {},
     "output_type": "execute_result"
    }
   ],
   "source": [
    "targets = pd.DataFrame.from_records(targets)\n",
    "targets"
   ]
  },
  {
   "cell_type": "markdown",
   "metadata": {},
   "source": [
    "#### Select target (target ChEMBL ID)\n",
    "\n",
    "After checking the entries, we select the first entry as our target of interest:\n",
    "\n",
    "`CHEMBL204`: It is a single protein and represents the human protein Thrombin "
   ]
  },
  {
   "cell_type": "code",
   "execution_count": 69,
   "metadata": {},
   "outputs": [
    {
     "data": {
      "text/plain": [
       "organism              Homo sapiens\n",
       "pref_name                 Thrombin\n",
       "target_chembl_id         CHEMBL204\n",
       "target_type         SINGLE PROTEIN\n",
       "Name: 0, dtype: object"
      ]
     },
     "execution_count": 69,
     "metadata": {},
     "output_type": "execute_result"
    }
   ],
   "source": [
    "# Let's print the first output and validate the basic characteristics\n",
    "target = targets.iloc[0]\n",
    "target"
   ]
  },
  {
   "cell_type": "markdown",
   "metadata": {},
   "source": [
    "Save selected ChEMBL ID."
   ]
  },
  {
   "cell_type": "code",
   "execution_count": 70,
   "metadata": {},
   "outputs": [
    {
     "name": "stdout",
     "output_type": "stream",
     "text": [
      "The target ChEMBL ID is CHEMBL204\n"
     ]
    }
   ],
   "source": [
    "chembl_id = target.target_chembl_id\n",
    "print(f\"The target ChEMBL ID is {chembl_id}\")\n",
    "# NBVAL_CHECK_OUTPUT"
   ]
  },
  {
   "cell_type": "markdown",
   "metadata": {},
   "source": [
    "### Get bioactivity data\n",
    "\n",
    "Now, we want to query bioactivity data for the target of interest."
   ]
  },
  {
   "cell_type": "markdown",
   "metadata": {},
   "source": [
    "#### Fetch bioactivity data for the target from ChEMBL"
   ]
  },
  {
   "cell_type": "markdown",
   "metadata": {},
   "source": [
    "In this step, we fetch the bioactivity data and filter it to only consider\n",
    "\n",
    "* human proteins, \n",
    "* bioactivity type IC50, \n",
    "* exact measurements (relation `'='`), and\n",
    "* binding data (assay type `'B'`)."
   ]
  },
  {
   "cell_type": "code",
   "execution_count": 71,
   "metadata": {},
   "outputs": [
    {
     "name": "stdout",
     "output_type": "stream",
     "text": [
      "Length and type of bioactivities object: 1892, <class 'chembl_webresource_client.query_set.QuerySet'>\n"
     ]
    }
   ],
   "source": [
    "bioactivities = bioactivities_api.filter(\n",
    "    target_chembl_id=chembl_id, type=\"IC50\", relation=\"=\", assay_type=\"B\"\n",
    ").only(\n",
    "    \"activity_id\",\n",
    "    \"assay_chembl_id\",\n",
    "    \"assay_description\",\n",
    "    \"assay_type\",\n",
    "    \"molecule_chembl_id\",\n",
    "    \"type\",\n",
    "    \"standard_units\",\n",
    "    \"relation\",\n",
    "    \"standard_value\",\n",
    "    \"target_chembl_id\",\n",
    "    \"target_organism\",\n",
    ")\n",
    "\n",
    "print(f\"Length and type of bioactivities object: {len(bioactivities)}, {type(bioactivities)}\")"
   ]
  },
  {
   "cell_type": "markdown",
   "metadata": {},
   "source": [
    "Each entry in our bioactivity set holds the following information:"
   ]
  },
  {
   "cell_type": "code",
   "execution_count": 72,
   "metadata": {},
   "outputs": [
    {
     "name": "stdout",
     "output_type": "stream",
     "text": [
      "Length and type of first element: 13, <class 'dict'>\n"
     ]
    },
    {
     "data": {
      "text/plain": [
       "{'activity_id': 32131,\n",
       " 'assay_chembl_id': 'CHEMBL815798',\n",
       " 'assay_description': 'In vitro inhibition of human Thrombin (FIIa).',\n",
       " 'assay_type': 'B',\n",
       " 'molecule_chembl_id': 'CHEMBL117716',\n",
       " 'relation': '=',\n",
       " 'standard_units': 'nM',\n",
       " 'standard_value': '1270.0',\n",
       " 'target_chembl_id': 'CHEMBL204',\n",
       " 'target_organism': 'Homo sapiens',\n",
       " 'type': 'IC50',\n",
       " 'units': 'nM',\n",
       " 'value': '1270.0'}"
      ]
     },
     "execution_count": 72,
     "metadata": {},
     "output_type": "execute_result"
    }
   ],
   "source": [
    "print(f\"Length and type of first element: {len(bioactivities[0])}, {type(bioactivities[0])}\")\n",
    "bioactivities[0]"
   ]
  },
  {
   "cell_type": "markdown",
   "metadata": {},
   "source": [
    "#### Download bioactivity data from ChEMBL"
   ]
  },
  {
   "cell_type": "markdown",
   "metadata": {},
   "source": [
    "Finally, we download the `QuerySet` in the form of a `pandas` `DataFrame`. \n",
    "\n",
    "> **Note**: This step should not take more than 2 minutes, if so try to rerun all cells starting from _\"Fetch bioactivity data for the target from ChEMBL\"_ or read this message below:\n",
    "\n",
    "<details>\n",
    "    \n",
    "<summary>Load a local version of the data (in case you encounter any problems while fetching the data)</summary>\n",
    "    \n",
    "If you experience difficulties to query the ChEMBL database, we also provide the resulting dataframe you will construct in the cell below. If you want to use the saved version, use the following code instead to obtain `bioactivities_df`:\n",
    "  \n",
    "```python\n",
    "# replace first line in cell below with this other line\n",
    "bioactivities_df = pd.read_csv(DATA / \"EGFR_bioactivities_CHEMBL27.csv.zip\", index_col=0)\n",
    "```\n",
    "\n",
    "</details>"
   ]
  },
  {
   "cell_type": "code",
   "execution_count": 73,
   "metadata": {
    "scrolled": true
   },
   "outputs": [
    {
     "name": "stdout",
     "output_type": "stream",
     "text": [
      "DataFrame shape: (10620, 45)\n",
      "Units in downloaded data: ['IC50']\n"
     ]
    },
    {
     "data": {
      "text/html": [
       "<div>\n",
       "<style scoped>\n",
       "    .dataframe tbody tr th:only-of-type {\n",
       "        vertical-align: middle;\n",
       "    }\n",
       "\n",
       "    .dataframe tbody tr th {\n",
       "        vertical-align: top;\n",
       "    }\n",
       "\n",
       "    .dataframe thead th {\n",
       "        text-align: right;\n",
       "    }\n",
       "</style>\n",
       "<table border=\"1\" class=\"dataframe\">\n",
       "  <thead>\n",
       "    <tr style=\"text-align: right;\">\n",
       "      <th></th>\n",
       "      <th>Molecule ChEMBL ID</th>\n",
       "      <th>Molecule Name</th>\n",
       "      <th>Molecule Max Phase</th>\n",
       "      <th>Molecular Weight</th>\n",
       "      <th>#RO5 Violations</th>\n",
       "      <th>AlogP</th>\n",
       "      <th>Compound Key</th>\n",
       "      <th>Smiles</th>\n",
       "      <th>Standard Type</th>\n",
       "      <th>Standard Relation</th>\n",
       "      <th>...</th>\n",
       "      <th>Target Name</th>\n",
       "      <th>Target Organism</th>\n",
       "      <th>Target Type</th>\n",
       "      <th>Document ChEMBL ID</th>\n",
       "      <th>Source ID</th>\n",
       "      <th>Source Description</th>\n",
       "      <th>Document Journal</th>\n",
       "      <th>Document Year</th>\n",
       "      <th>Cell ChEMBL ID</th>\n",
       "      <th>Properties</th>\n",
       "    </tr>\n",
       "  </thead>\n",
       "  <tbody>\n",
       "    <tr>\n",
       "      <th>0</th>\n",
       "      <td>CHEMBL273264</td>\n",
       "      <td>NAFAMOSTAT</td>\n",
       "      <td>3</td>\n",
       "      <td>347.38</td>\n",
       "      <td>0</td>\n",
       "      <td>2.65</td>\n",
       "      <td>1 (FUT-175)</td>\n",
       "      <td>N=C(N)Nc1ccc(C(=O)Oc2ccc3cc(C(=N)N)ccc3c2)cc1</td>\n",
       "      <td>IC50</td>\n",
       "      <td>'='</td>\n",
       "      <td>...</td>\n",
       "      <td>Thrombin</td>\n",
       "      <td>Homo sapiens</td>\n",
       "      <td>SINGLE PROTEIN</td>\n",
       "      <td>CHEMBL1128999</td>\n",
       "      <td>1</td>\n",
       "      <td>Scientific Literature</td>\n",
       "      <td>Bioorg. Med. Chem. Lett.</td>\n",
       "      <td>1996.0</td>\n",
       "      <td>None</td>\n",
       "      <td>NaN</td>\n",
       "    </tr>\n",
       "    <tr>\n",
       "      <th>6</th>\n",
       "      <td>CHEMBL329908</td>\n",
       "      <td>NaN</td>\n",
       "      <td>0</td>\n",
       "      <td>681.86</td>\n",
       "      <td>1</td>\n",
       "      <td>3.87</td>\n",
       "      <td>ORG-37476</td>\n",
       "      <td>COc1cc(C)c(S(=O)(=O)N[C@@H](CC(=O)OC(C)(C)C)C(...</td>\n",
       "      <td>IC50</td>\n",
       "      <td>'='</td>\n",
       "      <td>...</td>\n",
       "      <td>Thrombin</td>\n",
       "      <td>Homo sapiens</td>\n",
       "      <td>SINGLE PROTEIN</td>\n",
       "      <td>CHEMBL1131999</td>\n",
       "      <td>1</td>\n",
       "      <td>Scientific Literature</td>\n",
       "      <td>Bioorg. Med. Chem. Lett.</td>\n",
       "      <td>1999.0</td>\n",
       "      <td>None</td>\n",
       "      <td>NaN</td>\n",
       "    </tr>\n",
       "    <tr>\n",
       "      <th>8</th>\n",
       "      <td>CHEMBL93549</td>\n",
       "      <td>NaN</td>\n",
       "      <td>0</td>\n",
       "      <td>603.75</td>\n",
       "      <td>1</td>\n",
       "      <td>2.03</td>\n",
       "      <td>1d</td>\n",
       "      <td>COc1ccc2ccc(S(=O)(=O)NC(Cc3cc4c(N)nccc4s3)C(=O...</td>\n",
       "      <td>IC50</td>\n",
       "      <td>'='</td>\n",
       "      <td>...</td>\n",
       "      <td>Thrombin</td>\n",
       "      <td>Homo sapiens</td>\n",
       "      <td>SINGLE PROTEIN</td>\n",
       "      <td>CHEMBL1131999</td>\n",
       "      <td>1</td>\n",
       "      <td>Scientific Literature</td>\n",
       "      <td>Bioorg. Med. Chem. Lett.</td>\n",
       "      <td>1999.0</td>\n",
       "      <td>None</td>\n",
       "      <td>NaN</td>\n",
       "    </tr>\n",
       "    <tr>\n",
       "      <th>16</th>\n",
       "      <td>CHEMBL179189</td>\n",
       "      <td>NaN</td>\n",
       "      <td>0</td>\n",
       "      <td>522.67</td>\n",
       "      <td>1</td>\n",
       "      <td>3.21</td>\n",
       "      <td>43</td>\n",
       "      <td>CN[C@H](Cc1ccccc1)C(=O)N1CCC[C@H]1C(=O)N[C@@H]...</td>\n",
       "      <td>IC50</td>\n",
       "      <td>'='</td>\n",
       "      <td>...</td>\n",
       "      <td>Thrombin</td>\n",
       "      <td>Homo sapiens</td>\n",
       "      <td>SINGLE PROTEIN</td>\n",
       "      <td>CHEMBL1142732</td>\n",
       "      <td>1</td>\n",
       "      <td>Scientific Literature</td>\n",
       "      <td>J. Med. Chem.</td>\n",
       "      <td>2005.0</td>\n",
       "      <td>None</td>\n",
       "      <td>NaN</td>\n",
       "    </tr>\n",
       "    <tr>\n",
       "      <th>23</th>\n",
       "      <td>CHEMBL432019</td>\n",
       "      <td>NaN</td>\n",
       "      <td>0</td>\n",
       "      <td>663.82</td>\n",
       "      <td>1</td>\n",
       "      <td>2.73</td>\n",
       "      <td>3a</td>\n",
       "      <td>CC(C)(C)OC(=O)NN(Cc1ccccc1)C(=O)[C@@H]1CCCC[C@...</td>\n",
       "      <td>IC50</td>\n",
       "      <td>'='</td>\n",
       "      <td>...</td>\n",
       "      <td>Thrombin</td>\n",
       "      <td>Homo sapiens</td>\n",
       "      <td>SINGLE PROTEIN</td>\n",
       "      <td>CHEMBL1129829</td>\n",
       "      <td>1</td>\n",
       "      <td>Scientific Literature</td>\n",
       "      <td>Bioorg. Med. Chem. Lett.</td>\n",
       "      <td>1997.0</td>\n",
       "      <td>None</td>\n",
       "      <td>NaN</td>\n",
       "    </tr>\n",
       "  </tbody>\n",
       "</table>\n",
       "<p>5 rows × 45 columns</p>\n",
       "</div>"
      ],
      "text/plain": [
       "   Molecule ChEMBL ID Molecule Name  Molecule Max Phase  Molecular Weight  \\\n",
       "0        CHEMBL273264    NAFAMOSTAT                   3            347.38   \n",
       "6        CHEMBL329908           NaN                   0            681.86   \n",
       "8         CHEMBL93549           NaN                   0            603.75   \n",
       "16       CHEMBL179189           NaN                   0            522.67   \n",
       "23       CHEMBL432019           NaN                   0            663.82   \n",
       "\n",
       "   #RO5 Violations AlogP Compound Key  \\\n",
       "0                0  2.65  1 (FUT-175)   \n",
       "6                1  3.87    ORG-37476   \n",
       "8                1  2.03           1d   \n",
       "16               1  3.21           43   \n",
       "23               1  2.73           3a   \n",
       "\n",
       "                                               Smiles Standard Type  \\\n",
       "0       N=C(N)Nc1ccc(C(=O)Oc2ccc3cc(C(=N)N)ccc3c2)cc1          IC50   \n",
       "6   COc1cc(C)c(S(=O)(=O)N[C@@H](CC(=O)OC(C)(C)C)C(...          IC50   \n",
       "8   COc1ccc2ccc(S(=O)(=O)NC(Cc3cc4c(N)nccc4s3)C(=O...          IC50   \n",
       "16  CN[C@H](Cc1ccccc1)C(=O)N1CCC[C@H]1C(=O)N[C@@H]...          IC50   \n",
       "23  CC(C)(C)OC(=O)NN(Cc1ccccc1)C(=O)[C@@H]1CCCC[C@...          IC50   \n",
       "\n",
       "   Standard Relation  ...  Target Name Target Organism     Target Type  \\\n",
       "0                '='  ...     Thrombin    Homo sapiens  SINGLE PROTEIN   \n",
       "6                '='  ...     Thrombin    Homo sapiens  SINGLE PROTEIN   \n",
       "8                '='  ...     Thrombin    Homo sapiens  SINGLE PROTEIN   \n",
       "16               '='  ...     Thrombin    Homo sapiens  SINGLE PROTEIN   \n",
       "23               '='  ...     Thrombin    Homo sapiens  SINGLE PROTEIN   \n",
       "\n",
       "   Document ChEMBL ID Source ID     Source Description  \\\n",
       "0       CHEMBL1128999         1  Scientific Literature   \n",
       "6       CHEMBL1131999         1  Scientific Literature   \n",
       "8       CHEMBL1131999         1  Scientific Literature   \n",
       "16      CHEMBL1142732         1  Scientific Literature   \n",
       "23      CHEMBL1129829         1  Scientific Literature   \n",
       "\n",
       "            Document Journal Document Year Cell ChEMBL ID Properties  \n",
       "0   Bioorg. Med. Chem. Lett.        1996.0           None        NaN  \n",
       "6   Bioorg. Med. Chem. Lett.        1999.0           None        NaN  \n",
       "8   Bioorg. Med. Chem. Lett.        1999.0           None        NaN  \n",
       "16             J. Med. Chem.        2005.0           None        NaN  \n",
       "23  Bioorg. Med. Chem. Lett.        1997.0           None        NaN  \n",
       "\n",
       "[5 rows x 45 columns]"
      ]
     },
     "execution_count": 73,
     "metadata": {},
     "output_type": "execute_result"
    }
   ],
   "source": [
    "# Inport excel file as .zip and devide file elements by \";\" (Note: this depends on the file output CheMBL provides)\n",
    "bioactivities_df = pd.read_csv(DATA / \"CHEMBL204.csv.zip\", delimiter = ';')  \n",
    "print(f\"DataFrame shape: {bioactivities_df.shape}\")\n",
    "bioactivities_df.head()\n",
    "\n",
    "# If the original bioactivity data file is aquired, filter by column value of prefrance\n",
    "bioactivities_df = bioactivities_df[bioactivities_df[\"Standard Type\"] == 'IC50'] # Keep only rows for which: Standard Type = 'IC50'\n",
    "\n",
    "print(f\"Units in downloaded data: {bioactivities_df['Standard Type'].unique()}\") #To make sure we have IC50 only\n",
    "\n",
    "bioactivities_df.head()\n"
   ]
  },
  {
   "cell_type": "code",
   "execution_count": 74,
   "metadata": {},
   "outputs": [
    {
     "name": "stdout",
     "output_type": "stream",
     "text": [
      "['Molecule ChEMBL ID', 'Molecule Name', 'Molecule Max Phase', 'Molecular Weight', '#RO5 Violations', 'AlogP', 'Compound Key', 'Smiles', 'Standard Type', 'Standard Relation', 'Standard Value', 'Standard Units', 'pChEMBL Value', 'Data Validity Comment', 'Comment', 'Uo Units', 'Ligand Efficiency BEI', 'Ligand Efficiency LE', 'Ligand Efficiency LLE', 'Ligand Efficiency SEI', 'Potential Duplicate', 'Assay ChEMBL ID', 'Assay Description', 'Assay Type', 'BAO Format ID', 'BAO Label', 'Assay Organism', 'Assay Tissue ChEMBL ID', 'Assay Tissue Name', 'Assay Cell Type', 'Assay Subcellular Fraction', 'Assay Parameters', 'Assay Variant Accession', 'Assay Variant Mutation', 'Target ChEMBL ID', 'Target Name', 'Target Organism', 'Target Type', 'Document ChEMBL ID', 'Source ID', 'Source Description', 'Document Journal', 'Document Year', 'Cell ChEMBL ID', 'Properties']\n"
     ]
    }
   ],
   "source": [
    "#Make sure we have the columns we are interested in \n",
    "print(bioactivities_df.columns.tolist()) \n",
    "\n",
    "# In case we want to drop some of them\n",
    "#bioactivities_df.drop([\"units\", \"value\"], axis=1, inplace=True)  ##WE DO NOT HAVE THESE COLUMNS\n",
    "#bioactivities_df.head()"
   ]
  },
  {
   "cell_type": "markdown",
   "metadata": {},
   "source": [
    "#### Preprocess and filter bioactivity data\n",
    "\n",
    "1. Convert `Standard Value`'s datatype from `object` to `float`\n",
    "2. Delete entries with missing values\n",
    "3. Keep only entries with `Standard Unit == nM`\n",
    "4. Delete duplicate molecules\n",
    "5. Reset `DataFrame` index\n",
    "6. Rename columns"
   ]
  },
  {
   "cell_type": "markdown",
   "metadata": {},
   "source": [
    "**1. Convert datatype of \"standard_value\" from \"object\" to \"float\"**\n",
    "\n",
    "The field `Standard Value` holds standardized (here IC50) values. In order to make these values usable in calculations later on, convert values to floats."
   ]
  },
  {
   "cell_type": "code",
   "execution_count": 75,
   "metadata": {
    "scrolled": true
   },
   "outputs": [
    {
     "data": {
      "text/plain": [
       "Molecule ChEMBL ID             object\n",
       "Molecule Name                  object\n",
       "Molecule Max Phase              int64\n",
       "Molecular Weight              float64\n",
       "#RO5 Violations                object\n",
       "AlogP                          object\n",
       "Compound Key                   object\n",
       "Smiles                         object\n",
       "Standard Type                  object\n",
       "Standard Relation              object\n",
       "Standard Value                float64\n",
       "Standard Units                 object\n",
       "pChEMBL Value                 float64\n",
       "Data Validity Comment          object\n",
       "Comment                        object\n",
       "Uo Units                       object\n",
       "Ligand Efficiency BEI         float64\n",
       "Ligand Efficiency LE           object\n",
       "Ligand Efficiency LLE          object\n",
       "Ligand Efficiency SEI          object\n",
       "Potential Duplicate             int64\n",
       "Assay ChEMBL ID                object\n",
       "Assay Description              object\n",
       "Assay Type                     object\n",
       "BAO Format ID                  object\n",
       "BAO Label                      object\n",
       "Assay Organism                 object\n",
       "Assay Tissue ChEMBL ID         object\n",
       "Assay Tissue Name              object\n",
       "Assay Cell Type                object\n",
       "Assay Subcellular Fraction     object\n",
       "Assay Parameters               object\n",
       "Assay Variant Accession        object\n",
       "Assay Variant Mutation         object\n",
       "Target ChEMBL ID               object\n",
       "Target Name                    object\n",
       "Target Organism                object\n",
       "Target Type                    object\n",
       "Document ChEMBL ID             object\n",
       "Source ID                       int64\n",
       "Source Description             object\n",
       "Document Journal               object\n",
       "Document Year                 float64\n",
       "Cell ChEMBL ID                 object\n",
       "Properties                     object\n",
       "dtype: object"
      ]
     },
     "execution_count": 75,
     "metadata": {},
     "output_type": "execute_result"
    }
   ],
   "source": [
    "bioactivities_df.dtypes"
   ]
  },
  {
   "cell_type": "code",
   "execution_count": 76,
   "metadata": {},
   "outputs": [],
   "source": [
    "# In case we want to change the values' type\n",
    "#bioactivities_df = bioactivities_df.astype({\"Standard Value\": \"float64\"})  ##FROM WHAT WE SEE IT WAS ALREADY FLOAT!\n",
    "#bioactivities_df.dtypes"
   ]
  },
  {
   "cell_type": "markdown",
   "metadata": {},
   "source": [
    "**2. Delete entries with missing values**\n",
    "\n",
    "Use the parameter `inplace=True` to drop values in the current `DataFrame` directly."
   ]
  },
  {
   "cell_type": "code",
   "execution_count": 80,
   "metadata": {},
   "outputs": [
    {
     "name": "stdout",
     "output_type": "stream",
     "text": [
      "DataFrame shape: (3384, 45)\n"
     ]
    },
    {
     "data": {
      "text/html": [
       "<div>\n",
       "<style scoped>\n",
       "    .dataframe tbody tr th:only-of-type {\n",
       "        vertical-align: middle;\n",
       "    }\n",
       "\n",
       "    .dataframe tbody tr th {\n",
       "        vertical-align: top;\n",
       "    }\n",
       "\n",
       "    .dataframe thead th {\n",
       "        text-align: right;\n",
       "    }\n",
       "</style>\n",
       "<table border=\"1\" class=\"dataframe\">\n",
       "  <thead>\n",
       "    <tr style=\"text-align: right;\">\n",
       "      <th></th>\n",
       "      <th>Molecule ChEMBL ID</th>\n",
       "      <th>Molecule Name</th>\n",
       "      <th>Molecule Max Phase</th>\n",
       "      <th>Molecular Weight</th>\n",
       "      <th>#RO5 Violations</th>\n",
       "      <th>AlogP</th>\n",
       "      <th>Compound Key</th>\n",
       "      <th>Smiles</th>\n",
       "      <th>Standard Type</th>\n",
       "      <th>Standard Relation</th>\n",
       "      <th>...</th>\n",
       "      <th>Target Name</th>\n",
       "      <th>Target Organism</th>\n",
       "      <th>Target Type</th>\n",
       "      <th>Document ChEMBL ID</th>\n",
       "      <th>Source ID</th>\n",
       "      <th>Source Description</th>\n",
       "      <th>Document Journal</th>\n",
       "      <th>Document Year</th>\n",
       "      <th>Cell ChEMBL ID</th>\n",
       "      <th>Properties</th>\n",
       "    </tr>\n",
       "  </thead>\n",
       "  <tbody>\n",
       "    <tr>\n",
       "      <th>0</th>\n",
       "      <td>CHEMBL273264</td>\n",
       "      <td>NAFAMOSTAT</td>\n",
       "      <td>3</td>\n",
       "      <td>347.38</td>\n",
       "      <td>0</td>\n",
       "      <td>2.65</td>\n",
       "      <td>1 (FUT-175)</td>\n",
       "      <td>N=C(N)Nc1ccc(C(=O)Oc2ccc3cc(C(=N)N)ccc3c2)cc1</td>\n",
       "      <td>IC50</td>\n",
       "      <td>'='</td>\n",
       "      <td>...</td>\n",
       "      <td>Thrombin</td>\n",
       "      <td>Homo sapiens</td>\n",
       "      <td>SINGLE PROTEIN</td>\n",
       "      <td>CHEMBL1128999</td>\n",
       "      <td>1</td>\n",
       "      <td>Scientific Literature</td>\n",
       "      <td>Bioorg. Med. Chem. Lett.</td>\n",
       "      <td>1996.0</td>\n",
       "      <td>None</td>\n",
       "      <td>NaN</td>\n",
       "    </tr>\n",
       "    <tr>\n",
       "      <th>6</th>\n",
       "      <td>CHEMBL329908</td>\n",
       "      <td>NaN</td>\n",
       "      <td>0</td>\n",
       "      <td>681.86</td>\n",
       "      <td>1</td>\n",
       "      <td>3.87</td>\n",
       "      <td>ORG-37476</td>\n",
       "      <td>COc1cc(C)c(S(=O)(=O)N[C@@H](CC(=O)OC(C)(C)C)C(...</td>\n",
       "      <td>IC50</td>\n",
       "      <td>'='</td>\n",
       "      <td>...</td>\n",
       "      <td>Thrombin</td>\n",
       "      <td>Homo sapiens</td>\n",
       "      <td>SINGLE PROTEIN</td>\n",
       "      <td>CHEMBL1131999</td>\n",
       "      <td>1</td>\n",
       "      <td>Scientific Literature</td>\n",
       "      <td>Bioorg. Med. Chem. Lett.</td>\n",
       "      <td>1999.0</td>\n",
       "      <td>None</td>\n",
       "      <td>NaN</td>\n",
       "    </tr>\n",
       "    <tr>\n",
       "      <th>8</th>\n",
       "      <td>CHEMBL93549</td>\n",
       "      <td>NaN</td>\n",
       "      <td>0</td>\n",
       "      <td>603.75</td>\n",
       "      <td>1</td>\n",
       "      <td>2.03</td>\n",
       "      <td>1d</td>\n",
       "      <td>COc1ccc2ccc(S(=O)(=O)NC(Cc3cc4c(N)nccc4s3)C(=O...</td>\n",
       "      <td>IC50</td>\n",
       "      <td>'='</td>\n",
       "      <td>...</td>\n",
       "      <td>Thrombin</td>\n",
       "      <td>Homo sapiens</td>\n",
       "      <td>SINGLE PROTEIN</td>\n",
       "      <td>CHEMBL1131999</td>\n",
       "      <td>1</td>\n",
       "      <td>Scientific Literature</td>\n",
       "      <td>Bioorg. Med. Chem. Lett.</td>\n",
       "      <td>1999.0</td>\n",
       "      <td>None</td>\n",
       "      <td>NaN</td>\n",
       "    </tr>\n",
       "    <tr>\n",
       "      <th>16</th>\n",
       "      <td>CHEMBL179189</td>\n",
       "      <td>NaN</td>\n",
       "      <td>0</td>\n",
       "      <td>522.67</td>\n",
       "      <td>1</td>\n",
       "      <td>3.21</td>\n",
       "      <td>43</td>\n",
       "      <td>CN[C@H](Cc1ccccc1)C(=O)N1CCC[C@H]1C(=O)N[C@@H]...</td>\n",
       "      <td>IC50</td>\n",
       "      <td>'='</td>\n",
       "      <td>...</td>\n",
       "      <td>Thrombin</td>\n",
       "      <td>Homo sapiens</td>\n",
       "      <td>SINGLE PROTEIN</td>\n",
       "      <td>CHEMBL1142732</td>\n",
       "      <td>1</td>\n",
       "      <td>Scientific Literature</td>\n",
       "      <td>J. Med. Chem.</td>\n",
       "      <td>2005.0</td>\n",
       "      <td>None</td>\n",
       "      <td>NaN</td>\n",
       "    </tr>\n",
       "    <tr>\n",
       "      <th>23</th>\n",
       "      <td>CHEMBL432019</td>\n",
       "      <td>NaN</td>\n",
       "      <td>0</td>\n",
       "      <td>663.82</td>\n",
       "      <td>1</td>\n",
       "      <td>2.73</td>\n",
       "      <td>3a</td>\n",
       "      <td>CC(C)(C)OC(=O)NN(Cc1ccccc1)C(=O)[C@@H]1CCCC[C@...</td>\n",
       "      <td>IC50</td>\n",
       "      <td>'='</td>\n",
       "      <td>...</td>\n",
       "      <td>Thrombin</td>\n",
       "      <td>Homo sapiens</td>\n",
       "      <td>SINGLE PROTEIN</td>\n",
       "      <td>CHEMBL1129829</td>\n",
       "      <td>1</td>\n",
       "      <td>Scientific Literature</td>\n",
       "      <td>Bioorg. Med. Chem. Lett.</td>\n",
       "      <td>1997.0</td>\n",
       "      <td>None</td>\n",
       "      <td>NaN</td>\n",
       "    </tr>\n",
       "    <tr>\n",
       "      <th>...</th>\n",
       "      <td>...</td>\n",
       "      <td>...</td>\n",
       "      <td>...</td>\n",
       "      <td>...</td>\n",
       "      <td>...</td>\n",
       "      <td>...</td>\n",
       "      <td>...</td>\n",
       "      <td>...</td>\n",
       "      <td>...</td>\n",
       "      <td>...</td>\n",
       "      <td>...</td>\n",
       "      <td>...</td>\n",
       "      <td>...</td>\n",
       "      <td>...</td>\n",
       "      <td>...</td>\n",
       "      <td>...</td>\n",
       "      <td>...</td>\n",
       "      <td>...</td>\n",
       "      <td>...</td>\n",
       "      <td>...</td>\n",
       "      <td>...</td>\n",
       "    </tr>\n",
       "    <tr>\n",
       "      <th>10567</th>\n",
       "      <td>CHEMBL221542</td>\n",
       "      <td>BETA-SITOSTEROL</td>\n",
       "      <td>0</td>\n",
       "      <td>414.72</td>\n",
       "      <td>1</td>\n",
       "      <td>8.02</td>\n",
       "      <td>BSS</td>\n",
       "      <td>CC[C@H](CC[C@@H](C)[C@H]1CC[C@H]2[C@@H]3CC=C4C...</td>\n",
       "      <td>IC50</td>\n",
       "      <td>'='</td>\n",
       "      <td>...</td>\n",
       "      <td>Thrombin</td>\n",
       "      <td>Homo sapiens</td>\n",
       "      <td>SINGLE PROTEIN</td>\n",
       "      <td>CHEMBL4266047</td>\n",
       "      <td>1</td>\n",
       "      <td>Scientific Literature</td>\n",
       "      <td>J Nat Prod</td>\n",
       "      <td>2018.0</td>\n",
       "      <td>None</td>\n",
       "      <td>NaN</td>\n",
       "    </tr>\n",
       "    <tr>\n",
       "      <th>10573</th>\n",
       "      <td>CHEMBL3965746</td>\n",
       "      <td>NaN</td>\n",
       "      <td>0</td>\n",
       "      <td>647.16</td>\n",
       "      <td>1</td>\n",
       "      <td>2.94</td>\n",
       "      <td>BDBM238254</td>\n",
       "      <td>O=C(Nc1ccccc1)[C@@H]1C[C@H](N2CCN(S(=O)(=O)c3c...</td>\n",
       "      <td>IC50</td>\n",
       "      <td>'&gt;'</td>\n",
       "      <td>...</td>\n",
       "      <td>Thrombin</td>\n",
       "      <td>Homo sapiens</td>\n",
       "      <td>SINGLE PROTEIN</td>\n",
       "      <td>CHEMBL3886831</td>\n",
       "      <td>37</td>\n",
       "      <td>BindingDB Database</td>\n",
       "      <td>NaN</td>\n",
       "      <td>2016.0</td>\n",
       "      <td>None</td>\n",
       "      <td>NaN</td>\n",
       "    </tr>\n",
       "    <tr>\n",
       "      <th>10576</th>\n",
       "      <td>CHEMBL48361</td>\n",
       "      <td>DABIGATRAN</td>\n",
       "      <td>3</td>\n",
       "      <td>471.52</td>\n",
       "      <td>0</td>\n",
       "      <td>2.99</td>\n",
       "      <td>1</td>\n",
       "      <td>Cn1c(CNc2ccc(C(=N)N)cc2)nc2cc(C(=O)N(CCC(=O)O)...</td>\n",
       "      <td>IC50</td>\n",
       "      <td>'='</td>\n",
       "      <td>...</td>\n",
       "      <td>Thrombin</td>\n",
       "      <td>Homo sapiens</td>\n",
       "      <td>SINGLE PROTEIN</td>\n",
       "      <td>CHEMBL4673255</td>\n",
       "      <td>1</td>\n",
       "      <td>Scientific Literature</td>\n",
       "      <td>J Med Chem</td>\n",
       "      <td>2020.0</td>\n",
       "      <td>None</td>\n",
       "      <td>TIME = 1.0 hr</td>\n",
       "    </tr>\n",
       "    <tr>\n",
       "      <th>10579</th>\n",
       "      <td>CHEMBL4441232</td>\n",
       "      <td>NaN</td>\n",
       "      <td>0</td>\n",
       "      <td>542.68</td>\n",
       "      <td>1</td>\n",
       "      <td>3.92</td>\n",
       "      <td>8</td>\n",
       "      <td>COc1cc(C(=O)N2C[C@@H](n3cc(C4CC4)nn3)C[C@H]2C(...</td>\n",
       "      <td>IC50</td>\n",
       "      <td>'='</td>\n",
       "      <td>...</td>\n",
       "      <td>Thrombin</td>\n",
       "      <td>Homo sapiens</td>\n",
       "      <td>SINGLE PROTEIN</td>\n",
       "      <td>CHEMBL4425182</td>\n",
       "      <td>1</td>\n",
       "      <td>Scientific Literature</td>\n",
       "      <td>Bioorg Med Chem Lett</td>\n",
       "      <td>2016.0</td>\n",
       "      <td>None</td>\n",
       "      <td>NaN</td>\n",
       "    </tr>\n",
       "    <tr>\n",
       "      <th>10582</th>\n",
       "      <td>CHEMBL3948815</td>\n",
       "      <td>NaN</td>\n",
       "      <td>0</td>\n",
       "      <td>517.99</td>\n",
       "      <td>1</td>\n",
       "      <td>4.61</td>\n",
       "      <td>BDBM254895</td>\n",
       "      <td>COc1cc(C(=O)N2C[C@H](C)OC[C@@H]2C2CC(O)C2)cc2n...</td>\n",
       "      <td>IC50</td>\n",
       "      <td>'='</td>\n",
       "      <td>...</td>\n",
       "      <td>Thrombin</td>\n",
       "      <td>Homo sapiens</td>\n",
       "      <td>SINGLE PROTEIN</td>\n",
       "      <td>CHEMBL3887009</td>\n",
       "      <td>37</td>\n",
       "      <td>BindingDB Database</td>\n",
       "      <td>NaN</td>\n",
       "      <td>2016.0</td>\n",
       "      <td>None</td>\n",
       "      <td>NaN</td>\n",
       "    </tr>\n",
       "  </tbody>\n",
       "</table>\n",
       "<p>3384 rows × 45 columns</p>\n",
       "</div>"
      ],
      "text/plain": [
       "      Molecule ChEMBL ID    Molecule Name  Molecule Max Phase  \\\n",
       "0           CHEMBL273264       NAFAMOSTAT                   3   \n",
       "6           CHEMBL329908              NaN                   0   \n",
       "8            CHEMBL93549              NaN                   0   \n",
       "16          CHEMBL179189              NaN                   0   \n",
       "23          CHEMBL432019              NaN                   0   \n",
       "...                  ...              ...                 ...   \n",
       "10567       CHEMBL221542  BETA-SITOSTEROL                   0   \n",
       "10573      CHEMBL3965746              NaN                   0   \n",
       "10576        CHEMBL48361       DABIGATRAN                   3   \n",
       "10579      CHEMBL4441232              NaN                   0   \n",
       "10582      CHEMBL3948815              NaN                   0   \n",
       "\n",
       "       Molecular Weight #RO5 Violations AlogP Compound Key  \\\n",
       "0                347.38               0  2.65  1 (FUT-175)   \n",
       "6                681.86               1  3.87    ORG-37476   \n",
       "8                603.75               1  2.03           1d   \n",
       "16               522.67               1  3.21           43   \n",
       "23               663.82               1  2.73           3a   \n",
       "...                 ...             ...   ...          ...   \n",
       "10567            414.72               1  8.02          BSS   \n",
       "10573            647.16               1  2.94   BDBM238254   \n",
       "10576            471.52               0  2.99            1   \n",
       "10579            542.68               1  3.92            8   \n",
       "10582            517.99               1  4.61   BDBM254895   \n",
       "\n",
       "                                                  Smiles Standard Type  \\\n",
       "0          N=C(N)Nc1ccc(C(=O)Oc2ccc3cc(C(=N)N)ccc3c2)cc1          IC50   \n",
       "6      COc1cc(C)c(S(=O)(=O)N[C@@H](CC(=O)OC(C)(C)C)C(...          IC50   \n",
       "8      COc1ccc2ccc(S(=O)(=O)NC(Cc3cc4c(N)nccc4s3)C(=O...          IC50   \n",
       "16     CN[C@H](Cc1ccccc1)C(=O)N1CCC[C@H]1C(=O)N[C@@H]...          IC50   \n",
       "23     CC(C)(C)OC(=O)NN(Cc1ccccc1)C(=O)[C@@H]1CCCC[C@...          IC50   \n",
       "...                                                  ...           ...   \n",
       "10567  CC[C@H](CC[C@@H](C)[C@H]1CC[C@H]2[C@@H]3CC=C4C...          IC50   \n",
       "10573  O=C(Nc1ccccc1)[C@@H]1C[C@H](N2CCN(S(=O)(=O)c3c...          IC50   \n",
       "10576  Cn1c(CNc2ccc(C(=N)N)cc2)nc2cc(C(=O)N(CCC(=O)O)...          IC50   \n",
       "10579  COc1cc(C(=O)N2C[C@@H](n3cc(C4CC4)nn3)C[C@H]2C(...          IC50   \n",
       "10582  COc1cc(C(=O)N2C[C@H](C)OC[C@@H]2C2CC(O)C2)cc2n...          IC50   \n",
       "\n",
       "      Standard Relation  ...  Target Name Target Organism     Target Type  \\\n",
       "0                   '='  ...     Thrombin    Homo sapiens  SINGLE PROTEIN   \n",
       "6                   '='  ...     Thrombin    Homo sapiens  SINGLE PROTEIN   \n",
       "8                   '='  ...     Thrombin    Homo sapiens  SINGLE PROTEIN   \n",
       "16                  '='  ...     Thrombin    Homo sapiens  SINGLE PROTEIN   \n",
       "23                  '='  ...     Thrombin    Homo sapiens  SINGLE PROTEIN   \n",
       "...                 ...  ...          ...             ...             ...   \n",
       "10567               '='  ...     Thrombin    Homo sapiens  SINGLE PROTEIN   \n",
       "10573               '>'  ...     Thrombin    Homo sapiens  SINGLE PROTEIN   \n",
       "10576               '='  ...     Thrombin    Homo sapiens  SINGLE PROTEIN   \n",
       "10579               '='  ...     Thrombin    Homo sapiens  SINGLE PROTEIN   \n",
       "10582               '='  ...     Thrombin    Homo sapiens  SINGLE PROTEIN   \n",
       "\n",
       "      Document ChEMBL ID Source ID     Source Description  \\\n",
       "0          CHEMBL1128999         1  Scientific Literature   \n",
       "6          CHEMBL1131999         1  Scientific Literature   \n",
       "8          CHEMBL1131999         1  Scientific Literature   \n",
       "16         CHEMBL1142732         1  Scientific Literature   \n",
       "23         CHEMBL1129829         1  Scientific Literature   \n",
       "...                  ...       ...                    ...   \n",
       "10567      CHEMBL4266047         1  Scientific Literature   \n",
       "10573      CHEMBL3886831        37     BindingDB Database   \n",
       "10576      CHEMBL4673255         1  Scientific Literature   \n",
       "10579      CHEMBL4425182         1  Scientific Literature   \n",
       "10582      CHEMBL3887009        37     BindingDB Database   \n",
       "\n",
       "               Document Journal Document Year Cell ChEMBL ID     Properties  \n",
       "0      Bioorg. Med. Chem. Lett.        1996.0           None            NaN  \n",
       "6      Bioorg. Med. Chem. Lett.        1999.0           None            NaN  \n",
       "8      Bioorg. Med. Chem. Lett.        1999.0           None            NaN  \n",
       "16                J. Med. Chem.        2005.0           None            NaN  \n",
       "23     Bioorg. Med. Chem. Lett.        1997.0           None            NaN  \n",
       "...                         ...           ...            ...            ...  \n",
       "10567                J Nat Prod        2018.0           None            NaN  \n",
       "10573                       NaN        2016.0           None            NaN  \n",
       "10576                J Med Chem        2020.0           None  TIME = 1.0 hr  \n",
       "10579      Bioorg Med Chem Lett        2016.0           None            NaN  \n",
       "10582                       NaN        2016.0           None            NaN  \n",
       "\n",
       "[3384 rows x 45 columns]"
      ]
     },
     "execution_count": 80,
     "metadata": {},
     "output_type": "execute_result"
    }
   ],
   "source": [
    "## CAUTION! ## IF you call WHOLE df.dropna it will most likely drop every row. NA found at some column in each compound! ##\n",
    "\n",
    "bioactivities_df[\"Standard Value\"].dropna(axis=0, how=\"any\", inplace=True) \n",
    "print(f\"DataFrame shape: {bioactivities_df.shape}\")\n",
    "bioactivities_df"
   ]
  },
  {
   "cell_type": "markdown",
   "metadata": {},
   "source": [
    "**3. Keep only entries with \"standard_unit == nM\"** \n",
    "\n",
    "We only want to keep bioactivity entries in `nM`, thus we remove all entries with other units."
   ]
  },
  {
   "cell_type": "code",
   "execution_count": 81,
   "metadata": {},
   "outputs": [
    {
     "name": "stdout",
     "output_type": "stream",
     "text": [
      "Units in downloaded data: ['nM' 'ug.mL-1' nan]\n",
      "Number of non-nM entries:    115\n"
     ]
    }
   ],
   "source": [
    "print(f\"Units in downloaded data: {bioactivities_df['Standard Units'].unique()}\")\n",
    "print(\n",
    "    f\"Number of non-nM entries:\\\n",
    "    {bioactivities_df[bioactivities_df['Standard Units'] != 'nM'].shape[0]}\"\n",
    ")"
   ]
  },
  {
   "cell_type": "code",
   "execution_count": 82,
   "metadata": {},
   "outputs": [
    {
     "name": "stdout",
     "output_type": "stream",
     "text": [
      "Units after filtering: ['nM']\n"
     ]
    }
   ],
   "source": [
    "bioactivities_df = bioactivities_df[bioactivities_df[\"Standard Units\"] == \"nM\"]\n",
    "print(f\"Units after filtering: {bioactivities_df['Standard Units'].unique()}\")"
   ]
  },
  {
   "cell_type": "code",
   "execution_count": 83,
   "metadata": {},
   "outputs": [
    {
     "name": "stdout",
     "output_type": "stream",
     "text": [
      "DataFrame shape: (3269, 45)\n"
     ]
    }
   ],
   "source": [
    "print(f\"DataFrame shape: {bioactivities_df.shape}\")"
   ]
  },
  {
   "cell_type": "markdown",
   "metadata": {},
   "source": [
    "**4. Delete duplicate molecules**\n",
    "\n",
    "Sometimes the same molecule (`Molecule ChEMBL ID`) has been tested more than once, in this case, we only keep the first one.\n",
    "\n",
    "Note other choices could be to keep the one with the best value or a mean value of all assay results for the respective compound."
   ]
  },
  {
   "cell_type": "code",
   "execution_count": 84,
   "metadata": {},
   "outputs": [
    {
     "name": "stdout",
     "output_type": "stream",
     "text": [
      "DataFrame shape: (3003, 45)\n"
     ]
    },
    {
     "name": "stderr",
     "output_type": "stream",
     "text": [
      "/tmp/ipykernel_130/252920599.py:1: SettingWithCopyWarning: \n",
      "A value is trying to be set on a copy of a slice from a DataFrame\n",
      "\n",
      "See the caveats in the documentation: https://pandas.pydata.org/pandas-docs/stable/user_guide/indexing.html#returning-a-view-versus-a-copy\n",
      "  bioactivities_df.drop_duplicates(\"Molecule ChEMBL ID\", keep=\"first\", inplace=True)  ##WORKS THE SAME WITH SMILES COLUMN\n"
     ]
    }
   ],
   "source": [
    "bioactivities_df.drop_duplicates(\"Molecule ChEMBL ID\", keep=\"first\", inplace=True)  ##WORKS THE SAME WITH SMILES COLUMN\n",
    "print(f\"DataFrame shape: {bioactivities_df.shape}\")"
   ]
  },
  {
   "cell_type": "markdown",
   "metadata": {},
   "source": [
    "**5. Reset \"DataFrame\" index**\n",
    "\n",
    "Since we deleted some rows, but we want to iterate over the index later, we reset the index to be continuous."
   ]
  },
  {
   "cell_type": "code",
   "execution_count": 85,
   "metadata": {},
   "outputs": [
    {
     "data": {
      "text/html": [
       "<div>\n",
       "<style scoped>\n",
       "    .dataframe tbody tr th:only-of-type {\n",
       "        vertical-align: middle;\n",
       "    }\n",
       "\n",
       "    .dataframe tbody tr th {\n",
       "        vertical-align: top;\n",
       "    }\n",
       "\n",
       "    .dataframe thead th {\n",
       "        text-align: right;\n",
       "    }\n",
       "</style>\n",
       "<table border=\"1\" class=\"dataframe\">\n",
       "  <thead>\n",
       "    <tr style=\"text-align: right;\">\n",
       "      <th></th>\n",
       "      <th>Molecule ChEMBL ID</th>\n",
       "      <th>Molecule Name</th>\n",
       "      <th>Molecule Max Phase</th>\n",
       "      <th>Molecular Weight</th>\n",
       "      <th>#RO5 Violations</th>\n",
       "      <th>AlogP</th>\n",
       "      <th>Compound Key</th>\n",
       "      <th>Smiles</th>\n",
       "      <th>Standard Type</th>\n",
       "      <th>Standard Relation</th>\n",
       "      <th>...</th>\n",
       "      <th>Target Name</th>\n",
       "      <th>Target Organism</th>\n",
       "      <th>Target Type</th>\n",
       "      <th>Document ChEMBL ID</th>\n",
       "      <th>Source ID</th>\n",
       "      <th>Source Description</th>\n",
       "      <th>Document Journal</th>\n",
       "      <th>Document Year</th>\n",
       "      <th>Cell ChEMBL ID</th>\n",
       "      <th>Properties</th>\n",
       "    </tr>\n",
       "  </thead>\n",
       "  <tbody>\n",
       "    <tr>\n",
       "      <th>0</th>\n",
       "      <td>CHEMBL273264</td>\n",
       "      <td>NAFAMOSTAT</td>\n",
       "      <td>3</td>\n",
       "      <td>347.38</td>\n",
       "      <td>0</td>\n",
       "      <td>2.65</td>\n",
       "      <td>1 (FUT-175)</td>\n",
       "      <td>N=C(N)Nc1ccc(C(=O)Oc2ccc3cc(C(=N)N)ccc3c2)cc1</td>\n",
       "      <td>IC50</td>\n",
       "      <td>'='</td>\n",
       "      <td>...</td>\n",
       "      <td>Thrombin</td>\n",
       "      <td>Homo sapiens</td>\n",
       "      <td>SINGLE PROTEIN</td>\n",
       "      <td>CHEMBL1128999</td>\n",
       "      <td>1</td>\n",
       "      <td>Scientific Literature</td>\n",
       "      <td>Bioorg. Med. Chem. Lett.</td>\n",
       "      <td>1996.0</td>\n",
       "      <td>None</td>\n",
       "      <td>NaN</td>\n",
       "    </tr>\n",
       "    <tr>\n",
       "      <th>1</th>\n",
       "      <td>CHEMBL329908</td>\n",
       "      <td>NaN</td>\n",
       "      <td>0</td>\n",
       "      <td>681.86</td>\n",
       "      <td>1</td>\n",
       "      <td>3.87</td>\n",
       "      <td>ORG-37476</td>\n",
       "      <td>COc1cc(C)c(S(=O)(=O)N[C@@H](CC(=O)OC(C)(C)C)C(...</td>\n",
       "      <td>IC50</td>\n",
       "      <td>'='</td>\n",
       "      <td>...</td>\n",
       "      <td>Thrombin</td>\n",
       "      <td>Homo sapiens</td>\n",
       "      <td>SINGLE PROTEIN</td>\n",
       "      <td>CHEMBL1131999</td>\n",
       "      <td>1</td>\n",
       "      <td>Scientific Literature</td>\n",
       "      <td>Bioorg. Med. Chem. Lett.</td>\n",
       "      <td>1999.0</td>\n",
       "      <td>None</td>\n",
       "      <td>NaN</td>\n",
       "    </tr>\n",
       "    <tr>\n",
       "      <th>2</th>\n",
       "      <td>CHEMBL93549</td>\n",
       "      <td>NaN</td>\n",
       "      <td>0</td>\n",
       "      <td>603.75</td>\n",
       "      <td>1</td>\n",
       "      <td>2.03</td>\n",
       "      <td>1d</td>\n",
       "      <td>COc1ccc2ccc(S(=O)(=O)NC(Cc3cc4c(N)nccc4s3)C(=O...</td>\n",
       "      <td>IC50</td>\n",
       "      <td>'='</td>\n",
       "      <td>...</td>\n",
       "      <td>Thrombin</td>\n",
       "      <td>Homo sapiens</td>\n",
       "      <td>SINGLE PROTEIN</td>\n",
       "      <td>CHEMBL1131999</td>\n",
       "      <td>1</td>\n",
       "      <td>Scientific Literature</td>\n",
       "      <td>Bioorg. Med. Chem. Lett.</td>\n",
       "      <td>1999.0</td>\n",
       "      <td>None</td>\n",
       "      <td>NaN</td>\n",
       "    </tr>\n",
       "    <tr>\n",
       "      <th>3</th>\n",
       "      <td>CHEMBL179189</td>\n",
       "      <td>NaN</td>\n",
       "      <td>0</td>\n",
       "      <td>522.67</td>\n",
       "      <td>1</td>\n",
       "      <td>3.21</td>\n",
       "      <td>43</td>\n",
       "      <td>CN[C@H](Cc1ccccc1)C(=O)N1CCC[C@H]1C(=O)N[C@@H]...</td>\n",
       "      <td>IC50</td>\n",
       "      <td>'='</td>\n",
       "      <td>...</td>\n",
       "      <td>Thrombin</td>\n",
       "      <td>Homo sapiens</td>\n",
       "      <td>SINGLE PROTEIN</td>\n",
       "      <td>CHEMBL1142732</td>\n",
       "      <td>1</td>\n",
       "      <td>Scientific Literature</td>\n",
       "      <td>J. Med. Chem.</td>\n",
       "      <td>2005.0</td>\n",
       "      <td>None</td>\n",
       "      <td>NaN</td>\n",
       "    </tr>\n",
       "    <tr>\n",
       "      <th>4</th>\n",
       "      <td>CHEMBL432019</td>\n",
       "      <td>NaN</td>\n",
       "      <td>0</td>\n",
       "      <td>663.82</td>\n",
       "      <td>1</td>\n",
       "      <td>2.73</td>\n",
       "      <td>3a</td>\n",
       "      <td>CC(C)(C)OC(=O)NN(Cc1ccccc1)C(=O)[C@@H]1CCCC[C@...</td>\n",
       "      <td>IC50</td>\n",
       "      <td>'='</td>\n",
       "      <td>...</td>\n",
       "      <td>Thrombin</td>\n",
       "      <td>Homo sapiens</td>\n",
       "      <td>SINGLE PROTEIN</td>\n",
       "      <td>CHEMBL1129829</td>\n",
       "      <td>1</td>\n",
       "      <td>Scientific Literature</td>\n",
       "      <td>Bioorg. Med. Chem. Lett.</td>\n",
       "      <td>1997.0</td>\n",
       "      <td>None</td>\n",
       "      <td>NaN</td>\n",
       "    </tr>\n",
       "  </tbody>\n",
       "</table>\n",
       "<p>5 rows × 45 columns</p>\n",
       "</div>"
      ],
      "text/plain": [
       "  Molecule ChEMBL ID Molecule Name  Molecule Max Phase  Molecular Weight  \\\n",
       "0       CHEMBL273264    NAFAMOSTAT                   3            347.38   \n",
       "1       CHEMBL329908           NaN                   0            681.86   \n",
       "2        CHEMBL93549           NaN                   0            603.75   \n",
       "3       CHEMBL179189           NaN                   0            522.67   \n",
       "4       CHEMBL432019           NaN                   0            663.82   \n",
       "\n",
       "  #RO5 Violations AlogP Compound Key  \\\n",
       "0               0  2.65  1 (FUT-175)   \n",
       "1               1  3.87    ORG-37476   \n",
       "2               1  2.03           1d   \n",
       "3               1  3.21           43   \n",
       "4               1  2.73           3a   \n",
       "\n",
       "                                              Smiles Standard Type  \\\n",
       "0      N=C(N)Nc1ccc(C(=O)Oc2ccc3cc(C(=N)N)ccc3c2)cc1          IC50   \n",
       "1  COc1cc(C)c(S(=O)(=O)N[C@@H](CC(=O)OC(C)(C)C)C(...          IC50   \n",
       "2  COc1ccc2ccc(S(=O)(=O)NC(Cc3cc4c(N)nccc4s3)C(=O...          IC50   \n",
       "3  CN[C@H](Cc1ccccc1)C(=O)N1CCC[C@H]1C(=O)N[C@@H]...          IC50   \n",
       "4  CC(C)(C)OC(=O)NN(Cc1ccccc1)C(=O)[C@@H]1CCCC[C@...          IC50   \n",
       "\n",
       "  Standard Relation  ...  Target Name Target Organism     Target Type  \\\n",
       "0               '='  ...     Thrombin    Homo sapiens  SINGLE PROTEIN   \n",
       "1               '='  ...     Thrombin    Homo sapiens  SINGLE PROTEIN   \n",
       "2               '='  ...     Thrombin    Homo sapiens  SINGLE PROTEIN   \n",
       "3               '='  ...     Thrombin    Homo sapiens  SINGLE PROTEIN   \n",
       "4               '='  ...     Thrombin    Homo sapiens  SINGLE PROTEIN   \n",
       "\n",
       "  Document ChEMBL ID Source ID     Source Description  \\\n",
       "0      CHEMBL1128999         1  Scientific Literature   \n",
       "1      CHEMBL1131999         1  Scientific Literature   \n",
       "2      CHEMBL1131999         1  Scientific Literature   \n",
       "3      CHEMBL1142732         1  Scientific Literature   \n",
       "4      CHEMBL1129829         1  Scientific Literature   \n",
       "\n",
       "           Document Journal Document Year Cell ChEMBL ID Properties  \n",
       "0  Bioorg. Med. Chem. Lett.        1996.0           None        NaN  \n",
       "1  Bioorg. Med. Chem. Lett.        1999.0           None        NaN  \n",
       "2  Bioorg. Med. Chem. Lett.        1999.0           None        NaN  \n",
       "3             J. Med. Chem.        2005.0           None        NaN  \n",
       "4  Bioorg. Med. Chem. Lett.        1997.0           None        NaN  \n",
       "\n",
       "[5 rows x 45 columns]"
      ]
     },
     "execution_count": 85,
     "metadata": {},
     "output_type": "execute_result"
    }
   ],
   "source": [
    "bioactivities_df.reset_index(drop=True, inplace=True)\n",
    "bioactivities_df.head()"
   ]
  },
  {
   "cell_type": "markdown",
   "metadata": {},
   "source": [
    "**6. Rename columns**"
   ]
  },
  {
   "cell_type": "code",
   "execution_count": 86,
   "metadata": {},
   "outputs": [
    {
     "name": "stderr",
     "output_type": "stream",
     "text": [
      "/tmp/ipykernel_130/1519758301.py:1: SettingWithCopyWarning: \n",
      "A value is trying to be set on a copy of a slice from a DataFrame\n",
      "\n",
      "See the caveats in the documentation: https://pandas.pydata.org/pandas-docs/stable/user_guide/indexing.html#returning-a-view-versus-a-copy\n",
      "  bioactivities_df.rename(\n"
     ]
    },
    {
     "data": {
      "text/html": [
       "<div>\n",
       "<style scoped>\n",
       "    .dataframe tbody tr th:only-of-type {\n",
       "        vertical-align: middle;\n",
       "    }\n",
       "\n",
       "    .dataframe tbody tr th {\n",
       "        vertical-align: top;\n",
       "    }\n",
       "\n",
       "    .dataframe thead th {\n",
       "        text-align: right;\n",
       "    }\n",
       "</style>\n",
       "<table border=\"1\" class=\"dataframe\">\n",
       "  <thead>\n",
       "    <tr style=\"text-align: right;\">\n",
       "      <th></th>\n",
       "      <th>molecule_chembl_id</th>\n",
       "      <th>Molecule Name</th>\n",
       "      <th>Molecule Max Phase</th>\n",
       "      <th>Molecular Weight</th>\n",
       "      <th>#RO5 Violations</th>\n",
       "      <th>AlogP</th>\n",
       "      <th>Compound Key</th>\n",
       "      <th>Smiles</th>\n",
       "      <th>Standard Type</th>\n",
       "      <th>Standard Relation</th>\n",
       "      <th>...</th>\n",
       "      <th>Target Name</th>\n",
       "      <th>Target Organism</th>\n",
       "      <th>Target Type</th>\n",
       "      <th>Document ChEMBL ID</th>\n",
       "      <th>Source ID</th>\n",
       "      <th>Source Description</th>\n",
       "      <th>Document Journal</th>\n",
       "      <th>Document Year</th>\n",
       "      <th>Cell ChEMBL ID</th>\n",
       "      <th>Properties</th>\n",
       "    </tr>\n",
       "  </thead>\n",
       "  <tbody>\n",
       "    <tr>\n",
       "      <th>0</th>\n",
       "      <td>CHEMBL273264</td>\n",
       "      <td>NAFAMOSTAT</td>\n",
       "      <td>3</td>\n",
       "      <td>347.38</td>\n",
       "      <td>0</td>\n",
       "      <td>2.65</td>\n",
       "      <td>1 (FUT-175)</td>\n",
       "      <td>N=C(N)Nc1ccc(C(=O)Oc2ccc3cc(C(=N)N)ccc3c2)cc1</td>\n",
       "      <td>IC50</td>\n",
       "      <td>'='</td>\n",
       "      <td>...</td>\n",
       "      <td>Thrombin</td>\n",
       "      <td>Homo sapiens</td>\n",
       "      <td>SINGLE PROTEIN</td>\n",
       "      <td>CHEMBL1128999</td>\n",
       "      <td>1</td>\n",
       "      <td>Scientific Literature</td>\n",
       "      <td>Bioorg. Med. Chem. Lett.</td>\n",
       "      <td>1996.0</td>\n",
       "      <td>None</td>\n",
       "      <td>NaN</td>\n",
       "    </tr>\n",
       "    <tr>\n",
       "      <th>1</th>\n",
       "      <td>CHEMBL329908</td>\n",
       "      <td>NaN</td>\n",
       "      <td>0</td>\n",
       "      <td>681.86</td>\n",
       "      <td>1</td>\n",
       "      <td>3.87</td>\n",
       "      <td>ORG-37476</td>\n",
       "      <td>COc1cc(C)c(S(=O)(=O)N[C@@H](CC(=O)OC(C)(C)C)C(...</td>\n",
       "      <td>IC50</td>\n",
       "      <td>'='</td>\n",
       "      <td>...</td>\n",
       "      <td>Thrombin</td>\n",
       "      <td>Homo sapiens</td>\n",
       "      <td>SINGLE PROTEIN</td>\n",
       "      <td>CHEMBL1131999</td>\n",
       "      <td>1</td>\n",
       "      <td>Scientific Literature</td>\n",
       "      <td>Bioorg. Med. Chem. Lett.</td>\n",
       "      <td>1999.0</td>\n",
       "      <td>None</td>\n",
       "      <td>NaN</td>\n",
       "    </tr>\n",
       "    <tr>\n",
       "      <th>2</th>\n",
       "      <td>CHEMBL93549</td>\n",
       "      <td>NaN</td>\n",
       "      <td>0</td>\n",
       "      <td>603.75</td>\n",
       "      <td>1</td>\n",
       "      <td>2.03</td>\n",
       "      <td>1d</td>\n",
       "      <td>COc1ccc2ccc(S(=O)(=O)NC(Cc3cc4c(N)nccc4s3)C(=O...</td>\n",
       "      <td>IC50</td>\n",
       "      <td>'='</td>\n",
       "      <td>...</td>\n",
       "      <td>Thrombin</td>\n",
       "      <td>Homo sapiens</td>\n",
       "      <td>SINGLE PROTEIN</td>\n",
       "      <td>CHEMBL1131999</td>\n",
       "      <td>1</td>\n",
       "      <td>Scientific Literature</td>\n",
       "      <td>Bioorg. Med. Chem. Lett.</td>\n",
       "      <td>1999.0</td>\n",
       "      <td>None</td>\n",
       "      <td>NaN</td>\n",
       "    </tr>\n",
       "    <tr>\n",
       "      <th>3</th>\n",
       "      <td>CHEMBL179189</td>\n",
       "      <td>NaN</td>\n",
       "      <td>0</td>\n",
       "      <td>522.67</td>\n",
       "      <td>1</td>\n",
       "      <td>3.21</td>\n",
       "      <td>43</td>\n",
       "      <td>CN[C@H](Cc1ccccc1)C(=O)N1CCC[C@H]1C(=O)N[C@@H]...</td>\n",
       "      <td>IC50</td>\n",
       "      <td>'='</td>\n",
       "      <td>...</td>\n",
       "      <td>Thrombin</td>\n",
       "      <td>Homo sapiens</td>\n",
       "      <td>SINGLE PROTEIN</td>\n",
       "      <td>CHEMBL1142732</td>\n",
       "      <td>1</td>\n",
       "      <td>Scientific Literature</td>\n",
       "      <td>J. Med. Chem.</td>\n",
       "      <td>2005.0</td>\n",
       "      <td>None</td>\n",
       "      <td>NaN</td>\n",
       "    </tr>\n",
       "    <tr>\n",
       "      <th>4</th>\n",
       "      <td>CHEMBL432019</td>\n",
       "      <td>NaN</td>\n",
       "      <td>0</td>\n",
       "      <td>663.82</td>\n",
       "      <td>1</td>\n",
       "      <td>2.73</td>\n",
       "      <td>3a</td>\n",
       "      <td>CC(C)(C)OC(=O)NN(Cc1ccccc1)C(=O)[C@@H]1CCCC[C@...</td>\n",
       "      <td>IC50</td>\n",
       "      <td>'='</td>\n",
       "      <td>...</td>\n",
       "      <td>Thrombin</td>\n",
       "      <td>Homo sapiens</td>\n",
       "      <td>SINGLE PROTEIN</td>\n",
       "      <td>CHEMBL1129829</td>\n",
       "      <td>1</td>\n",
       "      <td>Scientific Literature</td>\n",
       "      <td>Bioorg. Med. Chem. Lett.</td>\n",
       "      <td>1997.0</td>\n",
       "      <td>None</td>\n",
       "      <td>NaN</td>\n",
       "    </tr>\n",
       "  </tbody>\n",
       "</table>\n",
       "<p>5 rows × 45 columns</p>\n",
       "</div>"
      ],
      "text/plain": [
       "  molecule_chembl_id Molecule Name  Molecule Max Phase  Molecular Weight  \\\n",
       "0       CHEMBL273264    NAFAMOSTAT                   3            347.38   \n",
       "1       CHEMBL329908           NaN                   0            681.86   \n",
       "2        CHEMBL93549           NaN                   0            603.75   \n",
       "3       CHEMBL179189           NaN                   0            522.67   \n",
       "4       CHEMBL432019           NaN                   0            663.82   \n",
       "\n",
       "  #RO5 Violations AlogP Compound Key  \\\n",
       "0               0  2.65  1 (FUT-175)   \n",
       "1               1  3.87    ORG-37476   \n",
       "2               1  2.03           1d   \n",
       "3               1  3.21           43   \n",
       "4               1  2.73           3a   \n",
       "\n",
       "                                              Smiles Standard Type  \\\n",
       "0      N=C(N)Nc1ccc(C(=O)Oc2ccc3cc(C(=N)N)ccc3c2)cc1          IC50   \n",
       "1  COc1cc(C)c(S(=O)(=O)N[C@@H](CC(=O)OC(C)(C)C)C(...          IC50   \n",
       "2  COc1ccc2ccc(S(=O)(=O)NC(Cc3cc4c(N)nccc4s3)C(=O...          IC50   \n",
       "3  CN[C@H](Cc1ccccc1)C(=O)N1CCC[C@H]1C(=O)N[C@@H]...          IC50   \n",
       "4  CC(C)(C)OC(=O)NN(Cc1ccccc1)C(=O)[C@@H]1CCCC[C@...          IC50   \n",
       "\n",
       "  Standard Relation  ...  Target Name Target Organism     Target Type  \\\n",
       "0               '='  ...     Thrombin    Homo sapiens  SINGLE PROTEIN   \n",
       "1               '='  ...     Thrombin    Homo sapiens  SINGLE PROTEIN   \n",
       "2               '='  ...     Thrombin    Homo sapiens  SINGLE PROTEIN   \n",
       "3               '='  ...     Thrombin    Homo sapiens  SINGLE PROTEIN   \n",
       "4               '='  ...     Thrombin    Homo sapiens  SINGLE PROTEIN   \n",
       "\n",
       "  Document ChEMBL ID Source ID     Source Description  \\\n",
       "0      CHEMBL1128999         1  Scientific Literature   \n",
       "1      CHEMBL1131999         1  Scientific Literature   \n",
       "2      CHEMBL1131999         1  Scientific Literature   \n",
       "3      CHEMBL1142732         1  Scientific Literature   \n",
       "4      CHEMBL1129829         1  Scientific Literature   \n",
       "\n",
       "           Document Journal Document Year Cell ChEMBL ID Properties  \n",
       "0  Bioorg. Med. Chem. Lett.        1996.0           None        NaN  \n",
       "1  Bioorg. Med. Chem. Lett.        1999.0           None        NaN  \n",
       "2  Bioorg. Med. Chem. Lett.        1999.0           None        NaN  \n",
       "3             J. Med. Chem.        2005.0           None        NaN  \n",
       "4  Bioorg. Med. Chem. Lett.        1997.0           None        NaN  \n",
       "\n",
       "[5 rows x 45 columns]"
      ]
     },
     "execution_count": 86,
     "metadata": {},
     "output_type": "execute_result"
    }
   ],
   "source": [
    "bioactivities_df.rename(\n",
    "    columns={\"Molecule ChEMBL ID\": \"molecule_chembl_id\", \"Standard Value\": \"IC50\", \"Standard Units\": \"units\"}, inplace=True\n",
    ")\n",
    "bioactivities_df.head()"
   ]
  },
  {
   "cell_type": "code",
   "execution_count": 87,
   "metadata": {
    "scrolled": true
   },
   "outputs": [
    {
     "data": {
      "text/plain": [
       "molecule_chembl_id             object\n",
       "Molecule Name                  object\n",
       "Molecule Max Phase              int64\n",
       "Molecular Weight              float64\n",
       "#RO5 Violations                object\n",
       "AlogP                          object\n",
       "Compound Key                   object\n",
       "Smiles                         object\n",
       "Standard Type                  object\n",
       "Standard Relation              object\n",
       "IC50                          float64\n",
       "units                          object\n",
       "pChEMBL Value                 float64\n",
       "Data Validity Comment          object\n",
       "Comment                        object\n",
       "Uo Units                       object\n",
       "Ligand Efficiency BEI         float64\n",
       "Ligand Efficiency LE           object\n",
       "Ligand Efficiency LLE          object\n",
       "Ligand Efficiency SEI          object\n",
       "Potential Duplicate             int64\n",
       "Assay ChEMBL ID                object\n",
       "Assay Description              object\n",
       "Assay Type                     object\n",
       "BAO Format ID                  object\n",
       "BAO Label                      object\n",
       "Assay Organism                 object\n",
       "Assay Tissue ChEMBL ID         object\n",
       "Assay Tissue Name              object\n",
       "Assay Cell Type                object\n",
       "Assay Subcellular Fraction     object\n",
       "Assay Parameters               object\n",
       "Assay Variant Accession        object\n",
       "Assay Variant Mutation         object\n",
       "Target ChEMBL ID               object\n",
       "Target Name                    object\n",
       "Target Organism                object\n",
       "Target Type                    object\n",
       "Document ChEMBL ID             object\n",
       "Source ID                       int64\n",
       "Source Description             object\n",
       "Document Journal               object\n",
       "Document Year                 float64\n",
       "Cell ChEMBL ID                 object\n",
       "Properties                     object\n",
       "dtype: object"
      ]
     },
     "execution_count": 87,
     "metadata": {},
     "output_type": "execute_result"
    }
   ],
   "source": [
    "bioactivities_df.dtypes"
   ]
  },
  {
   "cell_type": "code",
   "execution_count": 88,
   "metadata": {},
   "outputs": [
    {
     "name": "stdout",
     "output_type": "stream",
     "text": [
      "DataFrame shape: (3003, 45)\n"
     ]
    }
   ],
   "source": [
    "print(f\"DataFrame shape: {bioactivities_df.shape}\")"
   ]
  },
  {
   "cell_type": "markdown",
   "metadata": {},
   "source": [
    "We now have a set of **3003** molecule ids with respective IC50 values for our target kinase."
   ]
  },
  {
   "cell_type": "markdown",
   "metadata": {},
   "source": [
    "### Get compound data\n",
    "\n",
    "We have a `DataFrame` containing all molecules tested against Thrombin (with the respective measured bioactivity). \n",
    "\n",
    "Now, we want to get the molecular structures of the molecules that are linked to respective bioactivity ChEMBL IDs. "
   ]
  },
  {
   "cell_type": "markdown",
   "metadata": {},
   "source": [
    "#### Fetch compound data from ChEMBL\n",
    "\n",
    "Let's have a look at the compounds from ChEMBL which we have defined bioactivity data for: We fetch compound ChEMBL IDs and structures for the compounds linked to our filtered bioactivity data."
   ]
  },
  {
   "cell_type": "code",
   "execution_count": 89,
   "metadata": {},
   "outputs": [],
   "source": [
    "compounds_provider = compounds_api.filter(\n",
    "    molecule_chembl_id__in=list(bioactivities_df[\"molecule_chembl_id\"])\n",
    ").only(\"molecule_chembl_id\", \"molecule_structures\")"
   ]
  },
  {
   "cell_type": "markdown",
   "metadata": {},
   "source": [
    "#### Download compound data from ChEMBL\n",
    "\n",
    "Again, we want to export the `QuerySet` object into a `pandas.DataFrame`. Given the data volume, **this can take some time.** For that reason, we will first obtain the list of records through `tqdm`, so we get a nice progress bar and some ETAs. We can then pass the list of compounds to the DataFrame."
   ]
  },
  {
   "cell_type": "code",
   "execution_count": 90,
   "metadata": {},
   "outputs": [
    {
     "data": {
      "application/vnd.jupyter.widget-view+json": {
       "model_id": "0e7fd72f85fa4c209dfd43834b93c5cf",
       "version_major": 2,
       "version_minor": 0
      },
      "text/plain": [
       "  0%|          | 0/3003 [00:00<?, ?it/s]"
      ]
     },
     "metadata": {},
     "output_type": "display_data"
    }
   ],
   "source": [
    "compounds = list(tqdm(compounds_provider))"
   ]
  },
  {
   "cell_type": "code",
   "execution_count": 91,
   "metadata": {},
   "outputs": [
    {
     "name": "stdout",
     "output_type": "stream",
     "text": [
      "DataFrame shape: (3003, 2)\n"
     ]
    }
   ],
   "source": [
    "compounds_df = pd.DataFrame.from_records(\n",
    "    compounds,\n",
    ")\n",
    "print(f\"DataFrame shape: {compounds_df.shape}\")"
   ]
  },
  {
   "cell_type": "code",
   "execution_count": 92,
   "metadata": {},
   "outputs": [
    {
     "data": {
      "text/html": [
       "<div>\n",
       "<style scoped>\n",
       "    .dataframe tbody tr th:only-of-type {\n",
       "        vertical-align: middle;\n",
       "    }\n",
       "\n",
       "    .dataframe tbody tr th {\n",
       "        vertical-align: top;\n",
       "    }\n",
       "\n",
       "    .dataframe thead th {\n",
       "        text-align: right;\n",
       "    }\n",
       "</style>\n",
       "<table border=\"1\" class=\"dataframe\">\n",
       "  <thead>\n",
       "    <tr style=\"text-align: right;\">\n",
       "      <th></th>\n",
       "      <th>molecule_chembl_id</th>\n",
       "      <th>molecule_structures</th>\n",
       "    </tr>\n",
       "  </thead>\n",
       "  <tbody>\n",
       "    <tr>\n",
       "      <th>0</th>\n",
       "      <td>CHEMBL266349</td>\n",
       "      <td>{'canonical_smiles': 'N=C(N)c1ccc(CNC(=O)[C@@H...</td>\n",
       "    </tr>\n",
       "    <tr>\n",
       "      <th>1</th>\n",
       "      <td>CHEMBL268328</td>\n",
       "      <td>{'canonical_smiles': 'COc1ccc(C[C@H](NC(=O)Nc2...</td>\n",
       "    </tr>\n",
       "    <tr>\n",
       "      <th>2</th>\n",
       "      <td>CHEMBL428311</td>\n",
       "      <td>{'canonical_smiles': 'N=C(N)NCCC[C@H](NC(=O)[C...</td>\n",
       "    </tr>\n",
       "    <tr>\n",
       "      <th>3</th>\n",
       "      <td>CHEMBL275003</td>\n",
       "      <td>{'canonical_smiles': 'NC(CCN[C@H](NC(=O)[C@H](...</td>\n",
       "    </tr>\n",
       "    <tr>\n",
       "      <th>4</th>\n",
       "      <td>CHEMBL7627</td>\n",
       "      <td>{'canonical_smiles': 'COc1ccc(C[C@H](NC(=O)Nc2...</td>\n",
       "    </tr>\n",
       "  </tbody>\n",
       "</table>\n",
       "</div>"
      ],
      "text/plain": [
       "  molecule_chembl_id                                molecule_structures\n",
       "0       CHEMBL266349  {'canonical_smiles': 'N=C(N)c1ccc(CNC(=O)[C@@H...\n",
       "1       CHEMBL268328  {'canonical_smiles': 'COc1ccc(C[C@H](NC(=O)Nc2...\n",
       "2       CHEMBL428311  {'canonical_smiles': 'N=C(N)NCCC[C@H](NC(=O)[C...\n",
       "3       CHEMBL275003  {'canonical_smiles': 'NC(CCN[C@H](NC(=O)[C@H](...\n",
       "4         CHEMBL7627  {'canonical_smiles': 'COc1ccc(C[C@H](NC(=O)Nc2..."
      ]
     },
     "execution_count": 92,
     "metadata": {},
     "output_type": "execute_result"
    }
   ],
   "source": [
    "compounds_df.head()"
   ]
  },
  {
   "cell_type": "markdown",
   "metadata": {},
   "source": [
    "#### Preprocess and filter compound data\n",
    "\n",
    "1. Remove entries with missing entries\n",
    "2. Delete duplicate molecules (by molecule_chembl_id)\n",
    "3. Get molecules with canonical SMILES"
   ]
  },
  {
   "cell_type": "markdown",
   "metadata": {},
   "source": [
    "**1. Remove entries with missing molecule structure entry**"
   ]
  },
  {
   "cell_type": "code",
   "execution_count": 93,
   "metadata": {},
   "outputs": [
    {
     "name": "stdout",
     "output_type": "stream",
     "text": [
      "DataFrame shape: (3003, 2)\n"
     ]
    }
   ],
   "source": [
    "compounds_df.dropna(axis=0, how=\"any\", inplace=True)\n",
    "print(f\"DataFrame shape: {compounds_df.shape}\")"
   ]
  },
  {
   "cell_type": "markdown",
   "metadata": {},
   "source": [
    "**2. Delete duplicate molecules**"
   ]
  },
  {
   "cell_type": "code",
   "execution_count": 94,
   "metadata": {},
   "outputs": [
    {
     "name": "stdout",
     "output_type": "stream",
     "text": [
      "DataFrame shape: (3003, 2)\n"
     ]
    }
   ],
   "source": [
    "compounds_df.drop_duplicates(\"molecule_chembl_id\", keep=\"first\", inplace=True)\n",
    "print(f\"DataFrame shape: {compounds_df.shape}\")"
   ]
  },
  {
   "cell_type": "markdown",
   "metadata": {},
   "source": [
    "**3. Get molecules with canonical SMILES**\n",
    "\n",
    "So far, we have multiple different molecular structure representations. We only want to keep the canonical SMILES."
   ]
  },
  {
   "cell_type": "code",
   "execution_count": 95,
   "metadata": {},
   "outputs": [
    {
     "data": {
      "text/plain": [
       "dict_keys(['canonical_smiles', 'molfile', 'standard_inchi', 'standard_inchi_key'])"
      ]
     },
     "execution_count": 95,
     "metadata": {},
     "output_type": "execute_result"
    }
   ],
   "source": [
    "compounds_df.iloc[0].molecule_structures.keys()"
   ]
  },
  {
   "cell_type": "code",
   "execution_count": 96,
   "metadata": {},
   "outputs": [
    {
     "name": "stdout",
     "output_type": "stream",
     "text": [
      "DataFrame shape: (3003, 2)\n"
     ]
    }
   ],
   "source": [
    "canonical_smiles = []\n",
    "\n",
    "for i, compounds in compounds_df.iterrows():\n",
    "    try:\n",
    "        canonical_smiles.append(compounds[\"molecule_structures\"][\"canonical_smiles\"])\n",
    "    except KeyError:\n",
    "        canonical_smiles.append(None)\n",
    "\n",
    "compounds_df[\"smiles\"] = canonical_smiles\n",
    "compounds_df.drop(\"molecule_structures\", axis=1, inplace=True)\n",
    "print(f\"DataFrame shape: {compounds_df.shape}\")"
   ]
  },
  {
   "cell_type": "code",
   "execution_count": 97,
   "metadata": {},
   "outputs": [
    {
     "data": {
      "text/html": [
       "<div>\n",
       "<style scoped>\n",
       "    .dataframe tbody tr th:only-of-type {\n",
       "        vertical-align: middle;\n",
       "    }\n",
       "\n",
       "    .dataframe tbody tr th {\n",
       "        vertical-align: top;\n",
       "    }\n",
       "\n",
       "    .dataframe thead th {\n",
       "        text-align: right;\n",
       "    }\n",
       "</style>\n",
       "<table border=\"1\" class=\"dataframe\">\n",
       "  <thead>\n",
       "    <tr style=\"text-align: right;\">\n",
       "      <th></th>\n",
       "      <th>molecule_chembl_id</th>\n",
       "      <th>smiles</th>\n",
       "    </tr>\n",
       "  </thead>\n",
       "  <tbody>\n",
       "    <tr>\n",
       "      <th>0</th>\n",
       "      <td>CHEMBL266349</td>\n",
       "      <td>N=C(N)c1ccc(CNC(=O)[C@@H]2CCN2C(=O)[C@H](NCC(=...</td>\n",
       "    </tr>\n",
       "    <tr>\n",
       "      <th>1</th>\n",
       "      <td>CHEMBL268328</td>\n",
       "      <td>COc1ccc(C[C@H](NC(=O)Nc2ccc3c(CN4CCCC4)cn(Cc4c...</td>\n",
       "    </tr>\n",
       "    <tr>\n",
       "      <th>2</th>\n",
       "      <td>CHEMBL428311</td>\n",
       "      <td>N=C(N)NCCC[C@H](NC(=O)[C@H](Cc1ccc(F)c(F)c1)NC...</td>\n",
       "    </tr>\n",
       "    <tr>\n",
       "      <th>3</th>\n",
       "      <td>CHEMBL275003</td>\n",
       "      <td>NC(CCN[C@H](NC(=O)[C@H](Cc1ccc(F)c(F)c1)NC(=O)...</td>\n",
       "    </tr>\n",
       "    <tr>\n",
       "      <th>4</th>\n",
       "      <td>CHEMBL7627</td>\n",
       "      <td>COc1ccc(C[C@H](NC(=O)Nc2ccc3c(CNC4CCCC4)cn(Cc4...</td>\n",
       "    </tr>\n",
       "    <tr>\n",
       "      <th>...</th>\n",
       "      <td>...</td>\n",
       "      <td>...</td>\n",
       "    </tr>\n",
       "    <tr>\n",
       "      <th>2998</th>\n",
       "      <td>CHEMBL4786773</td>\n",
       "      <td>COc1ccc(C(=O)n2nc(-c3ccccn3)nc2N)cc1</td>\n",
       "    </tr>\n",
       "    <tr>\n",
       "      <th>2999</th>\n",
       "      <td>CHEMBL4791078</td>\n",
       "      <td>Cc1ccc(S(=O)(=O)Nc2nc(-c3ccncc3)n[nH]2)cc1</td>\n",
       "    </tr>\n",
       "    <tr>\n",
       "      <th>3000</th>\n",
       "      <td>CHEMBL4797183</td>\n",
       "      <td>O=C(Nc1nc(-c2cccnc2)n[nH]1)c1ccccc1</td>\n",
       "    </tr>\n",
       "    <tr>\n",
       "      <th>3001</th>\n",
       "      <td>CHEMBL4800151</td>\n",
       "      <td>Nc1nc(-c2ccccn2)nn1C(=O)c1ccc([N+](=O)[O-])cc1</td>\n",
       "    </tr>\n",
       "    <tr>\n",
       "      <th>3002</th>\n",
       "      <td>CHEMBL4800646</td>\n",
       "      <td>Nc1nc(-c2ccccn2)nn1C(=O)/C=C/c1ccccc1</td>\n",
       "    </tr>\n",
       "  </tbody>\n",
       "</table>\n",
       "<p>3003 rows × 2 columns</p>\n",
       "</div>"
      ],
      "text/plain": [
       "     molecule_chembl_id                                             smiles\n",
       "0          CHEMBL266349  N=C(N)c1ccc(CNC(=O)[C@@H]2CCN2C(=O)[C@H](NCC(=...\n",
       "1          CHEMBL268328  COc1ccc(C[C@H](NC(=O)Nc2ccc3c(CN4CCCC4)cn(Cc4c...\n",
       "2          CHEMBL428311  N=C(N)NCCC[C@H](NC(=O)[C@H](Cc1ccc(F)c(F)c1)NC...\n",
       "3          CHEMBL275003  NC(CCN[C@H](NC(=O)[C@H](Cc1ccc(F)c(F)c1)NC(=O)...\n",
       "4            CHEMBL7627  COc1ccc(C[C@H](NC(=O)Nc2ccc3c(CNC4CCCC4)cn(Cc4...\n",
       "...                 ...                                                ...\n",
       "2998      CHEMBL4786773               COc1ccc(C(=O)n2nc(-c3ccccn3)nc2N)cc1\n",
       "2999      CHEMBL4791078         Cc1ccc(S(=O)(=O)Nc2nc(-c3ccncc3)n[nH]2)cc1\n",
       "3000      CHEMBL4797183                O=C(Nc1nc(-c2cccnc2)n[nH]1)c1ccccc1\n",
       "3001      CHEMBL4800151     Nc1nc(-c2ccccn2)nn1C(=O)c1ccc([N+](=O)[O-])cc1\n",
       "3002      CHEMBL4800646              Nc1nc(-c2ccccn2)nn1C(=O)/C=C/c1ccccc1\n",
       "\n",
       "[3003 rows x 2 columns]"
      ]
     },
     "execution_count": 97,
     "metadata": {},
     "output_type": "execute_result"
    }
   ],
   "source": [
    "compounds_df"
   ]
  },
  {
   "cell_type": "markdown",
   "metadata": {},
   "source": [
    "Sanity check: Remove all molecules without a canonical SMILES string."
   ]
  },
  {
   "cell_type": "code",
   "execution_count": 98,
   "metadata": {},
   "outputs": [
    {
     "name": "stdout",
     "output_type": "stream",
     "text": [
      "DataFrame shape: (3003, 2)\n"
     ]
    }
   ],
   "source": [
    "compounds_df.dropna(axis=0, how=\"any\", inplace=True)\n",
    "print(f\"DataFrame shape: {compounds_df.shape}\")"
   ]
  },
  {
   "cell_type": "markdown",
   "metadata": {},
   "source": [
    "### Output (bioactivity-compound) data\n",
    "**Summary of compound and bioactivity data**"
   ]
  },
  {
   "cell_type": "code",
   "execution_count": 99,
   "metadata": {},
   "outputs": [
    {
     "name": "stdout",
     "output_type": "stream",
     "text": [
      "Bioactivities filtered: 3003\n"
     ]
    },
    {
     "data": {
      "text/plain": [
       "Index(['molecule_chembl_id', 'Molecule Name', 'Molecule Max Phase',\n",
       "       'Molecular Weight', '#RO5 Violations', 'AlogP', 'Compound Key',\n",
       "       'Smiles', 'Standard Type', 'Standard Relation', 'IC50', 'units',\n",
       "       'pChEMBL Value', 'Data Validity Comment', 'Comment', 'Uo Units',\n",
       "       'Ligand Efficiency BEI', 'Ligand Efficiency LE',\n",
       "       'Ligand Efficiency LLE', 'Ligand Efficiency SEI', 'Potential Duplicate',\n",
       "       'Assay ChEMBL ID', 'Assay Description', 'Assay Type', 'BAO Format ID',\n",
       "       'BAO Label', 'Assay Organism', 'Assay Tissue ChEMBL ID',\n",
       "       'Assay Tissue Name', 'Assay Cell Type', 'Assay Subcellular Fraction',\n",
       "       'Assay Parameters', 'Assay Variant Accession', 'Assay Variant Mutation',\n",
       "       'Target ChEMBL ID', 'Target Name', 'Target Organism', 'Target Type',\n",
       "       'Document ChEMBL ID', 'Source ID', 'Source Description',\n",
       "       'Document Journal', 'Document Year', 'Cell ChEMBL ID', 'Properties'],\n",
       "      dtype='object')"
      ]
     },
     "execution_count": 99,
     "metadata": {},
     "output_type": "execute_result"
    }
   ],
   "source": [
    "print(f\"Bioactivities filtered: {bioactivities_df.shape[0]}\")\n",
    "bioactivities_df.columns"
   ]
  },
  {
   "cell_type": "code",
   "execution_count": 100,
   "metadata": {},
   "outputs": [
    {
     "name": "stdout",
     "output_type": "stream",
     "text": [
      "Compounds filtered: 3003\n"
     ]
    },
    {
     "data": {
      "text/plain": [
       "Index(['molecule_chembl_id', 'smiles'], dtype='object')"
      ]
     },
     "execution_count": 100,
     "metadata": {},
     "output_type": "execute_result"
    }
   ],
   "source": [
    "print(f\"Compounds filtered: {compounds_df.shape[0]}\")\n",
    "compounds_df.columns"
   ]
  },
  {
   "cell_type": "markdown",
   "metadata": {},
   "source": [
    "#### Merge both datasets\n",
    "\n",
    "Merge values of interest from `bioactivities_df` and `compounds_df` in an `output_df` based on the compounds' ChEMBL IDs (`molecule_chembl_id`), keeping the following columns:\n",
    "\n",
    "* ChEMBL IDs: `molecule_chembl_id`\n",
    "* SMILES: `smiles`\n",
    "* units: `units`\n",
    "* IC50: `IC50`"
   ]
  },
  {
   "cell_type": "code",
   "execution_count": 101,
   "metadata": {},
   "outputs": [
    {
     "name": "stdout",
     "output_type": "stream",
     "text": [
      "Dataset with 3003 entries.\n"
     ]
    }
   ],
   "source": [
    "# Merge DataFrames\n",
    "output_df = pd.merge(\n",
    "    bioactivities_df[[\"molecule_chembl_id\", \"IC50\", \"units\"]],\n",
    "    compounds_df,\n",
    "    on=\"molecule_chembl_id\",\n",
    ")\n",
    "\n",
    "# Reset row indices\n",
    "output_df.reset_index(drop=True, inplace=True)\n",
    "\n",
    "print(f\"Dataset with {output_df.shape[0]} entries.\")"
   ]
  },
  {
   "cell_type": "code",
   "execution_count": 102,
   "metadata": {},
   "outputs": [
    {
     "data": {
      "text/plain": [
       "molecule_chembl_id     object\n",
       "IC50                  float64\n",
       "units                  object\n",
       "smiles                 object\n",
       "dtype: object"
      ]
     },
     "execution_count": 102,
     "metadata": {},
     "output_type": "execute_result"
    }
   ],
   "source": [
    "output_df.dtypes"
   ]
  },
  {
   "cell_type": "code",
   "execution_count": 103,
   "metadata": {},
   "outputs": [
    {
     "data": {
      "text/html": [
       "<div>\n",
       "<style scoped>\n",
       "    .dataframe tbody tr th:only-of-type {\n",
       "        vertical-align: middle;\n",
       "    }\n",
       "\n",
       "    .dataframe tbody tr th {\n",
       "        vertical-align: top;\n",
       "    }\n",
       "\n",
       "    .dataframe thead th {\n",
       "        text-align: right;\n",
       "    }\n",
       "</style>\n",
       "<table border=\"1\" class=\"dataframe\">\n",
       "  <thead>\n",
       "    <tr style=\"text-align: right;\">\n",
       "      <th></th>\n",
       "      <th>molecule_chembl_id</th>\n",
       "      <th>IC50</th>\n",
       "      <th>units</th>\n",
       "      <th>smiles</th>\n",
       "    </tr>\n",
       "  </thead>\n",
       "  <tbody>\n",
       "    <tr>\n",
       "      <th>0</th>\n",
       "      <td>CHEMBL273264</td>\n",
       "      <td>290.0</td>\n",
       "      <td>nM</td>\n",
       "      <td>N=C(N)Nc1ccc(C(=O)Oc2ccc3cc(C(=N)N)ccc3c2)cc1</td>\n",
       "    </tr>\n",
       "    <tr>\n",
       "      <th>1</th>\n",
       "      <td>CHEMBL329908</td>\n",
       "      <td>80.0</td>\n",
       "      <td>nM</td>\n",
       "      <td>COc1cc(C)c(S(=O)(=O)N[C@@H](CC(=O)OC(C)(C)C)C(...</td>\n",
       "    </tr>\n",
       "    <tr>\n",
       "      <th>2</th>\n",
       "      <td>CHEMBL93549</td>\n",
       "      <td>560.0</td>\n",
       "      <td>nM</td>\n",
       "      <td>COc1ccc2ccc(S(=O)(=O)NC(Cc3cc4c(N)nccc4s3)C(=O...</td>\n",
       "    </tr>\n",
       "    <tr>\n",
       "      <th>3</th>\n",
       "      <td>CHEMBL179189</td>\n",
       "      <td>46000.0</td>\n",
       "      <td>nM</td>\n",
       "      <td>CN[C@H](Cc1ccccc1)C(=O)N1CCC[C@H]1C(=O)N[C@@H]...</td>\n",
       "    </tr>\n",
       "    <tr>\n",
       "      <th>4</th>\n",
       "      <td>CHEMBL432019</td>\n",
       "      <td>880.0</td>\n",
       "      <td>nM</td>\n",
       "      <td>CC(C)(C)OC(=O)NN(Cc1ccccc1)C(=O)[C@@H]1CCCC[C@...</td>\n",
       "    </tr>\n",
       "    <tr>\n",
       "      <th>5</th>\n",
       "      <td>CHEMBL384263</td>\n",
       "      <td>34000.0</td>\n",
       "      <td>nM</td>\n",
       "      <td>Cc1cccc(C(=O)N[C@H](CO)C(=O)N[C@@H](C)C(=O)NC(...</td>\n",
       "    </tr>\n",
       "    <tr>\n",
       "      <th>6</th>\n",
       "      <td>CHEMBL104472</td>\n",
       "      <td>45.0</td>\n",
       "      <td>nM</td>\n",
       "      <td>CC(C)(C)OC(=O)N[C@H](Cc1ccccc1)C(=O)N1CCC[C@H]...</td>\n",
       "    </tr>\n",
       "    <tr>\n",
       "      <th>7</th>\n",
       "      <td>CHEMBL317856</td>\n",
       "      <td>94.0</td>\n",
       "      <td>nM</td>\n",
       "      <td>C[C@@H](C(=O)N1CCC[C@H]1C(=O)N[C@H](C=O)CCCN=C...</td>\n",
       "    </tr>\n",
       "    <tr>\n",
       "      <th>8</th>\n",
       "      <td>CHEMBL366894</td>\n",
       "      <td>11000.0</td>\n",
       "      <td>nM</td>\n",
       "      <td>NC(=O)C1CCN(Cc2ccc(C(=O)Nc3ccc(Cl)cc3C(=O)Nc3c...</td>\n",
       "    </tr>\n",
       "    <tr>\n",
       "      <th>9</th>\n",
       "      <td>CHEMBL345763</td>\n",
       "      <td>10000.0</td>\n",
       "      <td>nM</td>\n",
       "      <td>CC(=N)N1CCC(Oc2ccc(N(Cc3cc(-c4cccc(C(=N)N)c4)n...</td>\n",
       "    </tr>\n",
       "  </tbody>\n",
       "</table>\n",
       "</div>"
      ],
      "text/plain": [
       "  molecule_chembl_id     IC50 units  \\\n",
       "0       CHEMBL273264    290.0    nM   \n",
       "1       CHEMBL329908     80.0    nM   \n",
       "2        CHEMBL93549    560.0    nM   \n",
       "3       CHEMBL179189  46000.0    nM   \n",
       "4       CHEMBL432019    880.0    nM   \n",
       "5       CHEMBL384263  34000.0    nM   \n",
       "6       CHEMBL104472     45.0    nM   \n",
       "7       CHEMBL317856     94.0    nM   \n",
       "8       CHEMBL366894  11000.0    nM   \n",
       "9       CHEMBL345763  10000.0    nM   \n",
       "\n",
       "                                              smiles  \n",
       "0      N=C(N)Nc1ccc(C(=O)Oc2ccc3cc(C(=N)N)ccc3c2)cc1  \n",
       "1  COc1cc(C)c(S(=O)(=O)N[C@@H](CC(=O)OC(C)(C)C)C(...  \n",
       "2  COc1ccc2ccc(S(=O)(=O)NC(Cc3cc4c(N)nccc4s3)C(=O...  \n",
       "3  CN[C@H](Cc1ccccc1)C(=O)N1CCC[C@H]1C(=O)N[C@@H]...  \n",
       "4  CC(C)(C)OC(=O)NN(Cc1ccccc1)C(=O)[C@@H]1CCCC[C@...  \n",
       "5  Cc1cccc(C(=O)N[C@H](CO)C(=O)N[C@@H](C)C(=O)NC(...  \n",
       "6  CC(C)(C)OC(=O)N[C@H](Cc1ccccc1)C(=O)N1CCC[C@H]...  \n",
       "7  C[C@@H](C(=O)N1CCC[C@H]1C(=O)N[C@H](C=O)CCCN=C...  \n",
       "8  NC(=O)C1CCN(Cc2ccc(C(=O)Nc3ccc(Cl)cc3C(=O)Nc3c...  \n",
       "9  CC(=N)N1CCC(Oc2ccc(N(Cc3cc(-c4cccc(C(=N)N)c4)n...  "
      ]
     },
     "execution_count": 103,
     "metadata": {},
     "output_type": "execute_result"
    }
   ],
   "source": [
    "output_df.head(10)"
   ]
  },
  {
   "cell_type": "markdown",
   "metadata": {},
   "source": [
    "#### Add pIC50 values"
   ]
  },
  {
   "cell_type": "markdown",
   "metadata": {},
   "source": [
    "As you can see the low IC50 values are difficult to read (values are distributed over multiple scales), which is why we convert the IC50 values to pIC50."
   ]
  },
  {
   "cell_type": "code",
   "execution_count": 104,
   "metadata": {},
   "outputs": [],
   "source": [
    "def convert_ic50_to_pic50(IC50_value):\n",
    "    pIC50_value = 9 - math.log10(IC50_value)\n",
    "    return pIC50_value"
   ]
  },
  {
   "cell_type": "code",
   "execution_count": 105,
   "metadata": {},
   "outputs": [],
   "source": [
    "# Apply conversion to each row of the compounds DataFrame\n",
    "output_df[\"pIC50\"] = output_df.apply(lambda x: convert_ic50_to_pic50(x.IC50), axis=1)"
   ]
  },
  {
   "cell_type": "code",
   "execution_count": 106,
   "metadata": {},
   "outputs": [
    {
     "data": {
      "text/html": [
       "<div>\n",
       "<style scoped>\n",
       "    .dataframe tbody tr th:only-of-type {\n",
       "        vertical-align: middle;\n",
       "    }\n",
       "\n",
       "    .dataframe tbody tr th {\n",
       "        vertical-align: top;\n",
       "    }\n",
       "\n",
       "    .dataframe thead th {\n",
       "        text-align: right;\n",
       "    }\n",
       "</style>\n",
       "<table border=\"1\" class=\"dataframe\">\n",
       "  <thead>\n",
       "    <tr style=\"text-align: right;\">\n",
       "      <th></th>\n",
       "      <th>molecule_chembl_id</th>\n",
       "      <th>IC50</th>\n",
       "      <th>units</th>\n",
       "      <th>smiles</th>\n",
       "      <th>pIC50</th>\n",
       "    </tr>\n",
       "  </thead>\n",
       "  <tbody>\n",
       "    <tr>\n",
       "      <th>0</th>\n",
       "      <td>CHEMBL273264</td>\n",
       "      <td>290.0</td>\n",
       "      <td>nM</td>\n",
       "      <td>N=C(N)Nc1ccc(C(=O)Oc2ccc3cc(C(=N)N)ccc3c2)cc1</td>\n",
       "      <td>6.537602</td>\n",
       "    </tr>\n",
       "    <tr>\n",
       "      <th>1</th>\n",
       "      <td>CHEMBL329908</td>\n",
       "      <td>80.0</td>\n",
       "      <td>nM</td>\n",
       "      <td>COc1cc(C)c(S(=O)(=O)N[C@@H](CC(=O)OC(C)(C)C)C(...</td>\n",
       "      <td>7.096910</td>\n",
       "    </tr>\n",
       "    <tr>\n",
       "      <th>2</th>\n",
       "      <td>CHEMBL93549</td>\n",
       "      <td>560.0</td>\n",
       "      <td>nM</td>\n",
       "      <td>COc1ccc2ccc(S(=O)(=O)NC(Cc3cc4c(N)nccc4s3)C(=O...</td>\n",
       "      <td>6.251812</td>\n",
       "    </tr>\n",
       "    <tr>\n",
       "      <th>3</th>\n",
       "      <td>CHEMBL179189</td>\n",
       "      <td>46000.0</td>\n",
       "      <td>nM</td>\n",
       "      <td>CN[C@H](Cc1ccccc1)C(=O)N1CCC[C@H]1C(=O)N[C@@H]...</td>\n",
       "      <td>4.337242</td>\n",
       "    </tr>\n",
       "    <tr>\n",
       "      <th>4</th>\n",
       "      <td>CHEMBL432019</td>\n",
       "      <td>880.0</td>\n",
       "      <td>nM</td>\n",
       "      <td>CC(C)(C)OC(=O)NN(Cc1ccccc1)C(=O)[C@@H]1CCCC[C@...</td>\n",
       "      <td>6.055517</td>\n",
       "    </tr>\n",
       "  </tbody>\n",
       "</table>\n",
       "</div>"
      ],
      "text/plain": [
       "  molecule_chembl_id     IC50 units  \\\n",
       "0       CHEMBL273264    290.0    nM   \n",
       "1       CHEMBL329908     80.0    nM   \n",
       "2        CHEMBL93549    560.0    nM   \n",
       "3       CHEMBL179189  46000.0    nM   \n",
       "4       CHEMBL432019    880.0    nM   \n",
       "\n",
       "                                              smiles     pIC50  \n",
       "0      N=C(N)Nc1ccc(C(=O)Oc2ccc3cc(C(=N)N)ccc3c2)cc1  6.537602  \n",
       "1  COc1cc(C)c(S(=O)(=O)N[C@@H](CC(=O)OC(C)(C)C)C(...  7.096910  \n",
       "2  COc1ccc2ccc(S(=O)(=O)NC(Cc3cc4c(N)nccc4s3)C(=O...  6.251812  \n",
       "3  CN[C@H](Cc1ccccc1)C(=O)N1CCC[C@H]1C(=O)N[C@@H]...  4.337242  \n",
       "4  CC(C)(C)OC(=O)NN(Cc1ccccc1)C(=O)[C@@H]1CCCC[C@...  6.055517  "
      ]
     },
     "execution_count": 106,
     "metadata": {},
     "output_type": "execute_result"
    }
   ],
   "source": [
    "output_df.head()"
   ]
  },
  {
   "cell_type": "markdown",
   "metadata": {},
   "source": [
    "#### Draw compound data\n",
    "\n",
    "Let's have a look at our collected data set.\n",
    "\n",
    "First, we plot the pIC50 value distribution"
   ]
  },
  {
   "cell_type": "code",
   "execution_count": 107,
   "metadata": {
    "tags": [
     "nbsphinx-thumbnail"
    ]
   },
   "outputs": [
    {
     "data": {
      "text/plain": [
       "array([[<AxesSubplot:title={'center':'pIC50'}>]], dtype=object)"
      ]
     },
     "execution_count": 107,
     "metadata": {},
     "output_type": "execute_result"
    },
    {
     "data": {
      "image/png": "[encoded data removed]",
      "text/plain": [
       "<Figure size 432x288 with 1 Axes>"
      ]
     },
     "metadata": {
      "needs_background": "light"
     },
     "output_type": "display_data"
    }
   ],
   "source": [
    "output_df.hist(column=\"pIC50\")"
   ]
  },
  {
   "cell_type": "markdown",
   "metadata": {},
   "source": [
    "In the next steps, we add a column for RDKit molecule objects to our `DataFrame` and look at the structures of the molecules with the highest pIC50 values. "
   ]
  },
  {
   "cell_type": "code",
   "execution_count": 108,
   "metadata": {},
   "outputs": [],
   "source": [
    "# Add molecule column\n",
    "PandasTools.AddMoleculeColumnToFrame(output_df, smilesCol=\"smiles\")"
   ]
  },
  {
   "cell_type": "code",
   "execution_count": 109,
   "metadata": {},
   "outputs": [],
   "source": [
    "# Sort molecules by pIC50\n",
    "output_df.sort_values(by=\"pIC50\", ascending=False, inplace=True)\n",
    "\n",
    "# Reset index\n",
    "output_df.reset_index(drop=True, inplace=True)"
   ]
  },
  {
   "cell_type": "markdown",
   "metadata": {},
   "source": [
    "Show the three most active molecules, i.e. molecules with the highest pIC50 values."
   ]
  },
  {
   "cell_type": "code",
   "execution_count": 110,
   "metadata": {},
   "outputs": [
    {
     "data": {
      "text/html": [
       "<div>\n",
       "<style scoped>\n",
       "    .dataframe tbody tr th:only-of-type {\n",
       "        vertical-align: middle;\n",
       "    }\n",
       "\n",
       "    .dataframe tbody tr th {\n",
       "        vertical-align: top;\n",
       "    }\n",
       "\n",
       "    .dataframe thead th {\n",
       "        text-align: right;\n",
       "    }\n",
       "</style>\n",
       "<table border=\"1\" class=\"dataframe\">\n",
       "  <thead>\n",
       "    <tr style=\"text-align: right;\">\n",
       "      <th></th>\n",
       "      <th>molecule_chembl_id</th>\n",
       "      <th>IC50</th>\n",
       "      <th>units</th>\n",
       "      <th>pIC50</th>\n",
       "      <th>ROMol</th>\n",
       "    </tr>\n",
       "  </thead>\n",
       "  <tbody>\n",
       "    <tr>\n",
       "      <th>0</th>\n",
       "      <td>CHEMBL275366</td>\n",
       "      <td>0.0017</td>\n",
       "      <td>nM</td>\n",
       "      <td>11.769551</td>\n",
       "      <td style=\"text-align: center;\"><img data-content=\"rdkit/molecule\" src=\"data:image/png;base64,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\" alt=\"Mol\"/></td>\n",
       "    </tr>\n",
       "    <tr>\n",
       "      <th>1</th>\n",
       "      <td>CHEMBL105819</td>\n",
       "      <td>0.0080</td>\n",
       "      <td>nM</td>\n",
       "      <td>11.096910</td>\n",
       "      <td style=\"text-align: center;\"><img data-content=\"rdkit/molecule\" src=\"data:image/png;base64,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\" alt=\"Mol\"/></td>\n",
       "    </tr>\n",
       "    <tr>\n",
       "      <th>2</th>\n",
       "      <td>CHEMBL4108739</td>\n",
       "      <td>0.0100</td>\n",
       "      <td>nM</td>\n",
       "      <td>11.000000</td>\n",
       "      <td style=\"text-align: center;\"><img data-content=\"rdkit/molecule\" src=\"data:image/png;base64,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\" alt=\"Mol\"/></td>\n",
       "    </tr>\n",
       "  </tbody>\n",
       "</table>\n",
       "</div>"
      ],
      "text/plain": [
       "  molecule_chembl_id    IC50 units      pIC50  \\\n",
       "0       CHEMBL275366  0.0017    nM  11.769551   \n",
       "1       CHEMBL105819  0.0080    nM  11.096910   \n",
       "2      CHEMBL4108739  0.0100    nM  11.000000   \n",
       "\n",
       "                                               ROMol  \n",
       "0  <img data-content=\"rdkit/molecule\" src=\"data:i...  \n",
       "1  <img data-content=\"rdkit/molecule\" src=\"data:i...  \n",
       "2  <img data-content=\"rdkit/molecule\" src=\"data:i...  "
      ]
     },
     "execution_count": 110,
     "metadata": {},
     "output_type": "execute_result"
    }
   ],
   "source": [
    "output_df.drop(\"smiles\", axis=1).head(3)"
   ]
  },
  {
   "cell_type": "code",
   "execution_count": 111,
   "metadata": {},
   "outputs": [
    {
     "name": "stdout",
     "output_type": "stream",
     "text": [
      "DataFrame shape: (3003, 5)\n"
     ]
    }
   ],
   "source": [
    "# Prepare saving the dataset: Drop the ROMol column\n",
    "output_df = output_df.drop(\"ROMol\", axis=1)\n",
    "print(f\"DataFrame shape: {output_df.shape}\")"
   ]
  },
  {
   "cell_type": "markdown",
   "metadata": {},
   "source": [
    "#### Freeze output data to ChEMBL 27\n",
    "\n",
    "This is a technical step: Usually, we would continue to work with the dataset that we just created (latest dataset). \n",
    "\n",
    "However, here on the TeachOpenCADD platform, we prefer to freeze the dataset to a certain ChEMBL releases (i.e. [ChEMBL 27](http://doi.org/10.6019/CHEMBL.database.27)), \n",
    "so that this talktorial and other talktorials downstream in our CADD pipeline do not change in the future (helping us to maintain the talktorials)."
   ]
  },
  {
   "cell_type": "markdown",
   "metadata": {},
   "source": [
    "<div class=\"alert alert-block alert-info\">\n",
    "\n",
    "<b>Note:</b> If you prefer to run this notebook on the latest dataset or if you want to use it for another target, please comment the cell below.\n",
    "\n",
    "</div>"
   ]
  },
  {
   "cell_type": "code",
   "execution_count": 112,
   "metadata": {},
   "outputs": [],
   "source": [
    "# Disable this cell to unfreeze the dataset\n",
    "#output_df = pd.read_csv(\n",
    "#    DATA / \"Thrombin_compounds.csv\", index_col=0, float_precision=\"round_trip\"\n",
    "#)\n",
    "#output_df.head()"
   ]
  },
  {
   "cell_type": "code",
   "execution_count": 113,
   "metadata": {},
   "outputs": [
    {
     "name": "stdout",
     "output_type": "stream",
     "text": [
      "DataFrame shape: (3003, 5)\n"
     ]
    }
   ],
   "source": [
    "print(f\"DataFrame shape: {output_df.shape}\")\n",
    "# NBVAL_CHECK_OUTPUT"
   ]
  },
  {
   "cell_type": "markdown",
   "metadata": {
    "tags": []
   },
   "source": [
    "#### Write output data to file: Thrombin_compounds\n",
    "\n",
    "We want to use this bioactivity-compound dataset in the following talktorials, thus we save the data as `csv` file. \n",
    "Note that it is advisable to drop the molecule column (which only contains an image of the molecules) when saving the data."
   ]
  },
  {
   "cell_type": "code",
   "execution_count": 114,
   "metadata": {
    "scrolled": true
   },
   "outputs": [
    {
     "data": {
      "text/html": [
       "<div>\n",
       "<style scoped>\n",
       "    .dataframe tbody tr th:only-of-type {\n",
       "        vertical-align: middle;\n",
       "    }\n",
       "\n",
       "    .dataframe tbody tr th {\n",
       "        vertical-align: top;\n",
       "    }\n",
       "\n",
       "    .dataframe thead th {\n",
       "        text-align: right;\n",
       "    }\n",
       "</style>\n",
       "<table border=\"1\" class=\"dataframe\">\n",
       "  <thead>\n",
       "    <tr style=\"text-align: right;\">\n",
       "      <th></th>\n",
       "      <th>molecule_chembl_id</th>\n",
       "      <th>IC50</th>\n",
       "      <th>units</th>\n",
       "      <th>smiles</th>\n",
       "      <th>pIC50</th>\n",
       "    </tr>\n",
       "  </thead>\n",
       "  <tbody>\n",
       "    <tr>\n",
       "      <th>0</th>\n",
       "      <td>CHEMBL275366</td>\n",
       "      <td>0.0017</td>\n",
       "      <td>nM</td>\n",
       "      <td>NC(N)=NCCC[C@H](NC(=O)[C@@H]1CCCN1C(=O)[C@@H](...</td>\n",
       "      <td>11.769551</td>\n",
       "    </tr>\n",
       "    <tr>\n",
       "      <th>1</th>\n",
       "      <td>CHEMBL105819</td>\n",
       "      <td>0.0080</td>\n",
       "      <td>nM</td>\n",
       "      <td>CC(O)[C@@H](C(=O)N[C@H](C)c1ccccc1)N(C)C(=O)[C...</td>\n",
       "      <td>11.096910</td>\n",
       "    </tr>\n",
       "    <tr>\n",
       "      <th>2</th>\n",
       "      <td>CHEMBL4108739</td>\n",
       "      <td>0.0100</td>\n",
       "      <td>nM</td>\n",
       "      <td>COc1cc(C(=O)N2CC(C)(CCO)OC[C@H]2C)cc2nc(N[C@@H...</td>\n",
       "      <td>11.000000</td>\n",
       "    </tr>\n",
       "    <tr>\n",
       "      <th>3</th>\n",
       "      <td>CHEMBL143418</td>\n",
       "      <td>0.0420</td>\n",
       "      <td>nM</td>\n",
       "      <td>Cc1nc(N)ccc1CNC(=O)Cn1c(C)cnc(NCC(F)(F)c2ccccn...</td>\n",
       "      <td>10.376751</td>\n",
       "    </tr>\n",
       "    <tr>\n",
       "      <th>4</th>\n",
       "      <td>CHEMBL4111930</td>\n",
       "      <td>0.1000</td>\n",
       "      <td>nM</td>\n",
       "      <td>COc1cc(C(=O)N2CC(C)(CC(C)O)OC[C@H]2C)cc2nc(NC(...</td>\n",
       "      <td>10.000000</td>\n",
       "    </tr>\n",
       "  </tbody>\n",
       "</table>\n",
       "</div>"
      ],
      "text/plain": [
       "  molecule_chembl_id    IC50 units  \\\n",
       "0       CHEMBL275366  0.0017    nM   \n",
       "1       CHEMBL105819  0.0080    nM   \n",
       "2      CHEMBL4108739  0.0100    nM   \n",
       "3       CHEMBL143418  0.0420    nM   \n",
       "4      CHEMBL4111930  0.1000    nM   \n",
       "\n",
       "                                              smiles      pIC50  \n",
       "0  NC(N)=NCCC[C@H](NC(=O)[C@@H]1CCCN1C(=O)[C@@H](...  11.769551  \n",
       "1  CC(O)[C@@H](C(=O)N[C@H](C)c1ccccc1)N(C)C(=O)[C...  11.096910  \n",
       "2  COc1cc(C(=O)N2CC(C)(CCO)OC[C@H]2C)cc2nc(N[C@@H...  11.000000  \n",
       "3  Cc1nc(N)ccc1CNC(=O)Cn1c(C)cnc(NCC(F)(F)c2ccccn...  10.376751  \n",
       "4  COc1cc(C(=O)N2CC(C)(CC(C)O)OC[C@H]2C)cc2nc(NC(...  10.000000  "
      ]
     },
     "execution_count": 114,
     "metadata": {},
     "output_type": "execute_result"
    }
   ],
   "source": [
    "output_df.to_csv(DATA / \"Thrombin_compounds.csv\")\n",
    "output_df.head()"
   ]
  },
  {
   "cell_type": "code",
   "execution_count": 115,
   "metadata": {},
   "outputs": [
    {
     "name": "stdout",
     "output_type": "stream",
     "text": [
      "DataFrame shape: (3003, 5)\n"
     ]
    }
   ],
   "source": [
    "print(f\"DataFrame shape: {output_df.shape}\")\n",
    "# NBVAL_CHECK_OUTPUT"
   ]
  },
  {
   "cell_type": "markdown",
   "metadata": {},
   "source": [
    "## Discussion"
   ]
  },
  {
   "cell_type": "markdown",
   "metadata": {},
   "source": [
    "By performing this procedure, we collected bioactivity data for our target of interest from the ChEMBL database. \n",
    "We filtered the data set in order to only contain molecules with measured IC50 bioactivity values. \n",
    "\n",
    "Be aware that ChEMBL data originates from various sources. Compound data has been generated in different labs by different people all over the world. Therefore, we have to be cautious with the predictions we make using this data set. It is always important to consider the source of the data and consistency of data production assays when interpreting the results and determining how much confidence we have in our predictions.\n",
    "\n",
    "Nonetheless, we see the top scored screened compounds based on the pIC50 that we will investigate more in order to propose new molecules and try to explain the more robust inhibition in the binding site based on ligand interactions inside the protein binding site.\n"
   ]
  }
 ],
 "metadata": {
  "kernelspec": {
   "display_name": "Python 3 (ipykernel)",
   "language": "python",
   "name": "python3"
  },
  "language_info": {
   "codemirror_mode": {
    "name": "ipython",
    "version": 3
   },
   "file_extension": ".py",
   "mimetype": "text/x-python",
   "name": "python",
   "nbconvert_exporter": "python",
   "pygments_lexer": "ipython3",
   "version": "3.9.12"
  },
  "toc-autonumbering": true,
  "toc-showmarkdowntxt": false,
  "toc-showtags": false,
  "widgets": {
   "application/vnd.jupyter.widget-state+json": {
    "state": {},
    "version_major": 2,
    "version_minor": 0
   }
  }
 },
 "nbformat": 4,
 "nbformat_minor": 4
}
